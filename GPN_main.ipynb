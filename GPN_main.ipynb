{
 "cells": [
  {
   "cell_type": "markdown",
   "id": "456f3278-12f9-4ee7-98ed-f5f37eda8fa6",
   "metadata": {},
   "source": [
    "# GPN Cup 2021\n",
    "## Кирилл Захаров"
   ]
  },
  {
   "cell_type": "markdown",
   "id": "32794334-7fd9-4be4-9a72-e331185a43a6",
   "metadata": {},
   "source": [
    "#### Импорт библиотек"
   ]
  },
  {
   "cell_type": "code",
   "execution_count": 141,
   "id": "4f3802ae-59f2-4547-b98f-9102ca1607dc",
   "metadata": {},
   "outputs": [],
   "source": [
    "import numpy as np\n",
    "import pandas as pd\n",
    "\n",
    "from sklearn.model_selection import train_test_split\n",
    "from sklearn.preprocessing import OrdinalEncoder\n",
    "from sklearn.linear_model import LogisticRegression, LinearRegression\n",
    "from sklearn.metrics import classification_report, confusion_matrix, mean_squared_error\n",
    "from sklearn.ensemble import RandomForestClassifier\n",
    "from sklearn.metrics.pairwise import cosine_similarity, linear_kernel\n",
    "from gensim.models import Word2Vec\n",
    "\n",
    "import tqdm\n",
    "\n",
    "import matplotlib.pyplot as plt\n",
    "%matplotlib inline"
   ]
  },
  {
   "cell_type": "markdown",
   "id": "f35a685a-f63b-453f-a99f-7f9d2af8454b",
   "metadata": {},
   "source": [
    "#### Импорт транзакций"
   ]
  },
  {
   "cell_type": "code",
   "execution_count": 2,
   "id": "35c4510b-ae5e-44df-afc3-16bb6b739b4d",
   "metadata": {},
   "outputs": [],
   "source": [
    "transactions = pd.read_parquet('transactions.parquet')"
   ]
  },
  {
   "cell_type": "code",
   "execution_count": 3,
   "id": "f8bc29aa-c3de-45db-ab75-ff78a5ee2ff5",
   "metadata": {},
   "outputs": [
    {
     "data": {
      "text/html": [
       "<div>\n",
       "<style scoped>\n",
       "    .dataframe tbody tr th:only-of-type {\n",
       "        vertical-align: middle;\n",
       "    }\n",
       "\n",
       "    .dataframe tbody tr th {\n",
       "        vertical-align: top;\n",
       "    }\n",
       "\n",
       "    .dataframe thead th {\n",
       "        text-align: right;\n",
       "    }\n",
       "</style>\n",
       "<table border=\"1\" class=\"dataframe\">\n",
       "  <thead>\n",
       "    <tr style=\"text-align: right;\">\n",
       "      <th></th>\n",
       "      <th>sku_id</th>\n",
       "      <th>price</th>\n",
       "      <th>number</th>\n",
       "      <th>cheque_id</th>\n",
       "      <th>litrs</th>\n",
       "      <th>client_id</th>\n",
       "      <th>shop_id</th>\n",
       "      <th>date</th>\n",
       "    </tr>\n",
       "  </thead>\n",
       "  <tbody>\n",
       "    <tr>\n",
       "      <th>0</th>\n",
       "      <td>1158</td>\n",
       "      <td>0.002335</td>\n",
       "      <td>0.000000</td>\n",
       "      <td>3338297</td>\n",
       "      <td>0.147929</td>\n",
       "      <td>78634.0</td>\n",
       "      <td>102</td>\n",
       "      <td>2171-07-23</td>\n",
       "    </tr>\n",
       "    <tr>\n",
       "      <th>1</th>\n",
       "      <td>1158</td>\n",
       "      <td>0.002317</td>\n",
       "      <td>0.000000</td>\n",
       "      <td>3386107</td>\n",
       "      <td>0.134562</td>\n",
       "      <td>20900.0</td>\n",
       "      <td>101</td>\n",
       "      <td>2171-07-23</td>\n",
       "    </tr>\n",
       "    <tr>\n",
       "      <th>2</th>\n",
       "      <td>1913</td>\n",
       "      <td>0.007850</td>\n",
       "      <td>0.000452</td>\n",
       "      <td>1845331</td>\n",
       "      <td>0.104183</td>\n",
       "      <td>96397.0</td>\n",
       "      <td>36</td>\n",
       "      <td>2171-07-23</td>\n",
       "    </tr>\n",
       "    <tr>\n",
       "      <th>3</th>\n",
       "      <td>1808</td>\n",
       "      <td>0.008979</td>\n",
       "      <td>0.000452</td>\n",
       "      <td>2256499</td>\n",
       "      <td>0.104183</td>\n",
       "      <td>103560.0</td>\n",
       "      <td>89</td>\n",
       "      <td>2171-07-23</td>\n",
       "    </tr>\n",
       "    <tr>\n",
       "      <th>4</th>\n",
       "      <td>1158</td>\n",
       "      <td>0.002355</td>\n",
       "      <td>0.000000</td>\n",
       "      <td>3257281</td>\n",
       "      <td>0.115023</td>\n",
       "      <td>67691.0</td>\n",
       "      <td>58</td>\n",
       "      <td>2171-07-23</td>\n",
       "    </tr>\n",
       "  </tbody>\n",
       "</table>\n",
       "</div>"
      ],
      "text/plain": [
       "   sku_id     price    number  cheque_id     litrs  client_id  shop_id  \\\n",
       "0    1158  0.002335  0.000000    3338297  0.147929    78634.0      102   \n",
       "1    1158  0.002317  0.000000    3386107  0.134562    20900.0      101   \n",
       "2    1913  0.007850  0.000452    1845331  0.104183    96397.0       36   \n",
       "3    1808  0.008979  0.000452    2256499  0.104183   103560.0       89   \n",
       "4    1158  0.002355  0.000000    3257281  0.115023    67691.0       58   \n",
       "\n",
       "        date  \n",
       "0 2171-07-23  \n",
       "1 2171-07-23  \n",
       "2 2171-07-23  \n",
       "3 2171-07-23  \n",
       "4 2171-07-23  "
      ]
     },
     "execution_count": 3,
     "metadata": {},
     "output_type": "execute_result"
    }
   ],
   "source": [
    "transactions.head()"
   ]
  },
  {
   "cell_type": "code",
   "execution_count": 4,
   "id": "ce00c102-9717-491e-9388-ee6a747bca1e",
   "metadata": {},
   "outputs": [
    {
     "data": {
      "text/plain": [
       "370083"
      ]
     },
     "execution_count": 4,
     "metadata": {},
     "output_type": "execute_result"
    }
   ],
   "source": [
    "len(transactions['client_id'].unique()) #Количество уникальных покупателей"
   ]
  },
  {
   "cell_type": "code",
   "execution_count": 5,
   "id": "0ac02be4-4472-417a-925d-729c854cef02",
   "metadata": {},
   "outputs": [
    {
     "data": {
      "text/plain": [
       "4873"
      ]
     },
     "execution_count": 5,
     "metadata": {},
     "output_type": "execute_result"
    }
   ],
   "source": [
    "len(transactions['sku_id'].unique()) #Количество уникальных продуктов, которые покупали"
   ]
  },
  {
   "cell_type": "code",
   "execution_count": 6,
   "id": "cdeb3053-d923-4b92-921e-ce0e8b125ca0",
   "metadata": {},
   "outputs": [
    {
     "data": {
      "text/plain": [
       "(7620119, 8)"
      ]
     },
     "execution_count": 6,
     "metadata": {},
     "output_type": "execute_result"
    }
   ],
   "source": [
    "transactions.shape"
   ]
  },
  {
   "cell_type": "code",
   "execution_count": 7,
   "id": "35c9fbcc-fab9-4561-bcd7-9543d831203e",
   "metadata": {},
   "outputs": [],
   "source": [
    "products_with_a = transactions.loc[np.where((transactions['number']!= 0.0) & (transactions['litrs']!= 0.0))]['sku_id']"
   ]
  },
  {
   "cell_type": "code",
   "execution_count": 8,
   "id": "5eac796a-8d58-465a-8666-42855aba6449",
   "metadata": {},
   "outputs": [
    {
     "name": "stdout",
     "output_type": "stream",
     "text": [
      "<class 'pandas.core.frame.DataFrame'>\n",
      "RangeIndex: 7620119 entries, 0 to 7620118\n",
      "Data columns (total 8 columns):\n",
      " #   Column     Dtype         \n",
      "---  ------     -----         \n",
      " 0   sku_id     int64         \n",
      " 1   price      float64       \n",
      " 2   number     float64       \n",
      " 3   cheque_id  int64         \n",
      " 4   litrs      float64       \n",
      " 5   client_id  float64       \n",
      " 6   shop_id    int64         \n",
      " 7   date       datetime64[ns]\n",
      "dtypes: datetime64[ns](1), float64(4), int64(3)\n",
      "memory usage: 465.1 MB\n"
     ]
    }
   ],
   "source": [
    "transactions.info()"
   ]
  },
  {
   "cell_type": "markdown",
   "id": "0eeee708-21c5-452f-a506-61f0a67fba62",
   "metadata": {},
   "source": [
    "#### Посмотрим есть ли данные типа None"
   ]
  },
  {
   "cell_type": "code",
   "execution_count": 9,
   "id": "7df51741-61c8-4423-b354-58fff52acfa2",
   "metadata": {},
   "outputs": [
    {
     "data": {
      "text/plain": [
       "sku_id       False\n",
       "price        False\n",
       "number       False\n",
       "cheque_id    False\n",
       "litrs        False\n",
       "client_id     True\n",
       "shop_id      False\n",
       "date         False\n",
       "dtype: bool"
      ]
     },
     "execution_count": 9,
     "metadata": {},
     "output_type": "execute_result"
    }
   ],
   "source": [
    "transactions.isna().any()"
   ]
  },
  {
   "cell_type": "code",
   "execution_count": 10,
   "id": "83a634e9-076c-4c9b-9400-0fb7e469e626",
   "metadata": {},
   "outputs": [],
   "source": [
    "indx = np.where(transactions['client_id'].isna())[0]"
   ]
  },
  {
   "cell_type": "markdown",
   "id": "4222af11-dae1-4100-8c09-bd25bff8f79b",
   "metadata": {},
   "source": [
    "Поскольку пустые данные содержатся в столбце клиентов, а их тип данных float64, то заменим None на нули."
   ]
  },
  {
   "cell_type": "code",
   "execution_count": 11,
   "id": "74c2bdf8-3674-4474-92c8-e6e59b9d93c2",
   "metadata": {},
   "outputs": [],
   "source": [
    "transactions['client_id'] = transactions['client_id'].replace(np.nan, 0) "
   ]
  },
  {
   "cell_type": "code",
   "execution_count": 12,
   "id": "c43d56ff-742d-4f94-8a91-16571618b21e",
   "metadata": {},
   "outputs": [
    {
     "data": {
      "text/plain": [
       "sku_id       False\n",
       "price        False\n",
       "number       False\n",
       "cheque_id    False\n",
       "litrs        False\n",
       "client_id    False\n",
       "shop_id      False\n",
       "date         False\n",
       "dtype: bool"
      ]
     },
     "execution_count": 12,
     "metadata": {},
     "output_type": "execute_result"
    }
   ],
   "source": [
    "transactions.isna().any()"
   ]
  },
  {
   "cell_type": "markdown",
   "id": "66d75ac2-3913-482c-8ad2-1bb6498c959e",
   "metadata": {},
   "source": [
    "#### Импорт таблицы с номенклатурой"
   ]
  },
  {
   "cell_type": "code",
   "execution_count": 13,
   "id": "169709e3-918d-4e04-9aa2-31b11c16976f",
   "metadata": {},
   "outputs": [],
   "source": [
    "nomenclature = pd.read_parquet('nomenclature.parquet')"
   ]
  },
  {
   "cell_type": "code",
   "execution_count": 14,
   "id": "cf1a88bf-f5b2-4a39-a296-e6309938629a",
   "metadata": {},
   "outputs": [
    {
     "data": {
      "text/html": [
       "<div>\n",
       "<style scoped>\n",
       "    .dataframe tbody tr th:only-of-type {\n",
       "        vertical-align: middle;\n",
       "    }\n",
       "\n",
       "    .dataframe tbody tr th {\n",
       "        vertical-align: top;\n",
       "    }\n",
       "\n",
       "    .dataframe thead th {\n",
       "        text-align: right;\n",
       "    }\n",
       "</style>\n",
       "<table border=\"1\" class=\"dataframe\">\n",
       "  <thead>\n",
       "    <tr style=\"text-align: right;\">\n",
       "      <th></th>\n",
       "      <th>sku_id</th>\n",
       "      <th>full_name</th>\n",
       "      <th>brand</th>\n",
       "      <th>sku_group</th>\n",
       "      <th>OTM</th>\n",
       "      <th>units</th>\n",
       "      <th>country</th>\n",
       "    </tr>\n",
       "  </thead>\n",
       "  <tbody>\n",
       "    <tr>\n",
       "      <th>0</th>\n",
       "      <td>0</td>\n",
       "      <td>Масло Lubricrol Magnatec Diesel 10W-40 B4 1л</td>\n",
       "      <td>Lubricrol</td>\n",
       "      <td>Масла моторные (для варповых двигателей)</td>\n",
       "      <td>Нет</td>\n",
       "      <td>unknown</td>\n",
       "      <td>ГЕРМАНИЯ</td>\n",
       "    </tr>\n",
       "    <tr>\n",
       "      <th>1</th>\n",
       "      <td>723</td>\n",
       "      <td>Трос УранПРОМEthereum буксировочный 4500кг</td>\n",
       "      <td>УранПРОМEthereum</td>\n",
       "      <td>Автотовары</td>\n",
       "      <td>Да</td>\n",
       "      <td>шт</td>\n",
       "      <td>РОССИЯ</td>\n",
       "    </tr>\n",
       "    <tr>\n",
       "      <th>2</th>\n",
       "      <td>3397</td>\n",
       "      <td>Накидка УранПРОМEthereum на спинку автосиденья...</td>\n",
       "      <td>УранПРОМEthereum</td>\n",
       "      <td>Автотовары</td>\n",
       "      <td>Да</td>\n",
       "      <td>шт</td>\n",
       "      <td>unknown</td>\n",
       "    </tr>\n",
       "    <tr>\n",
       "      <th>3</th>\n",
       "      <td>2130</td>\n",
       "      <td>Жилет УранПРОМEthereum световозвращающий</td>\n",
       "      <td>УранПРОМEthereum</td>\n",
       "      <td>Автотовары</td>\n",
       "      <td>Да</td>\n",
       "      <td>шт</td>\n",
       "      <td>unknown</td>\n",
       "    </tr>\n",
       "    <tr>\n",
       "      <th>4</th>\n",
       "      <td>3150</td>\n",
       "      <td>Провода УранПРОМEthereum для прикуривания 200А</td>\n",
       "      <td>УранПРОМEthereum</td>\n",
       "      <td>Автотовары</td>\n",
       "      <td>Да</td>\n",
       "      <td>шт</td>\n",
       "      <td>РОССИЯ</td>\n",
       "    </tr>\n",
       "  </tbody>\n",
       "</table>\n",
       "</div>"
      ],
      "text/plain": [
       "   sku_id                                          full_name  \\\n",
       "0       0       Масло Lubricrol Magnatec Diesel 10W-40 B4 1л   \n",
       "1     723         Трос УранПРОМEthereum буксировочный 4500кг   \n",
       "2    3397  Накидка УранПРОМEthereum на спинку автосиденья...   \n",
       "3    2130           Жилет УранПРОМEthereum световозвращающий   \n",
       "4    3150     Провода УранПРОМEthereum для прикуривания 200А   \n",
       "\n",
       "              brand                                 sku_group  OTM    units  \\\n",
       "0         Lubricrol  Масла моторные (для варповых двигателей)  Нет  unknown   \n",
       "1  УранПРОМEthereum                                Автотовары   Да       шт   \n",
       "2  УранПРОМEthereum                                Автотовары   Да       шт   \n",
       "3  УранПРОМEthereum                                Автотовары   Да       шт   \n",
       "4  УранПРОМEthereum                                Автотовары   Да       шт   \n",
       "\n",
       "    country  \n",
       "0  ГЕРМАНИЯ  \n",
       "1    РОССИЯ  \n",
       "2   unknown  \n",
       "3   unknown  \n",
       "4    РОССИЯ  "
      ]
     },
     "execution_count": 14,
     "metadata": {},
     "output_type": "execute_result"
    }
   ],
   "source": [
    "nomenclature.head()"
   ]
  },
  {
   "cell_type": "markdown",
   "id": "facaa475-a761-42ff-af0d-4cba598bb737",
   "metadata": {},
   "source": [
    "#### Посмотрим на неизвестные данные"
   ]
  },
  {
   "cell_type": "code",
   "execution_count": 15,
   "id": "83dafb72-5163-4940-b478-0a8b84448a14",
   "metadata": {},
   "outputs": [
    {
     "data": {
      "text/plain": [
       "unknown                                                                       1370\n",
       "Салфетки Novita влажные make up мицелярная вода 15шт                             1\n",
       "Салфетки AROMA TOP LINE влажные парфюмированные №6 J`adore 30шт                  1\n",
       "Чипсы Яблоков натуральные сладкие яблоки 25г                                     1\n",
       "Зажигалка Zenga ZT-50 Torch Jet                                                  1\n",
       "                                                                              ... \n",
       "Напиток Fly Cafe молокосодержащий кофейный Латте 0,3л                            1\n",
       "Автопарфюм Meilleur new line 5 флакон 5мл                                        1\n",
       "Жидкость охлаждающая FELIX prolonger professional антифриз зеленый -40 1кг       1\n",
       "Испаритель Logic Compact электронный серый графит                                1\n",
       "Резинка жевательная Orbit белоснежный классический 13,6г                         1\n",
       "Name: full_name, Length: 3725, dtype: int64"
      ]
     },
     "execution_count": 15,
     "metadata": {},
     "output_type": "execute_result"
    }
   ],
   "source": [
    "nomenclature['full_name'].value_counts() #для неизвестных данных используется unknown"
   ]
  },
  {
   "cell_type": "markdown",
   "id": "5924a876-5b21-4d93-8156-d5bf08ec5c6d",
   "metadata": {},
   "source": [
    "В дальнейшим неизвестные товары нам не понадобятся, поэтому удалим их, для этого сначал поменяем их на None."
   ]
  },
  {
   "cell_type": "code",
   "execution_count": 16,
   "id": "620f27a1-8751-407d-a414-b01573b73e8d",
   "metadata": {},
   "outputs": [],
   "source": [
    "nomenclature['full_name'] = nomenclature['full_name'].replace('unknown', None)"
   ]
  },
  {
   "cell_type": "code",
   "execution_count": 17,
   "id": "faece538-58e1-44e6-9d6a-0bb72498f2c7",
   "metadata": {},
   "outputs": [
    {
     "data": {
      "text/plain": [
       "sku_id          0\n",
       "full_name    1379\n",
       "brand           9\n",
       "sku_group       0\n",
       "OTM             9\n",
       "units           9\n",
       "country         9\n",
       "dtype: int64"
      ]
     },
     "execution_count": 17,
     "metadata": {},
     "output_type": "execute_result"
    }
   ],
   "source": [
    "nomenclature.isna().sum()"
   ]
  },
  {
   "cell_type": "code",
   "execution_count": 18,
   "id": "c22b6794-8e86-4c2a-b141-d64e592ee048",
   "metadata": {},
   "outputs": [
    {
     "data": {
      "text/plain": [
       "sku_id       0\n",
       "full_name    0\n",
       "brand        0\n",
       "sku_group    0\n",
       "OTM          0\n",
       "units        0\n",
       "country      0\n",
       "dtype: int64"
      ]
     },
     "execution_count": 18,
     "metadata": {},
     "output_type": "execute_result"
    }
   ],
   "source": [
    "nomenclature = nomenclature.dropna()\n",
    "nomenclature.isna().sum()"
   ]
  },
  {
   "cell_type": "code",
   "execution_count": 19,
   "id": "e906dc3c-4b06-442e-af0f-85918290052d",
   "metadata": {},
   "outputs": [
    {
     "data": {
      "text/plain": [
       "(3724, 7)"
      ]
     },
     "execution_count": 19,
     "metadata": {},
     "output_type": "execute_result"
    }
   ],
   "source": [
    "nomenclature.shape"
   ]
  },
  {
   "cell_type": "markdown",
   "id": "4623b8a4-0f35-4467-b801-a7bf792e7986",
   "metadata": {},
   "source": [
    "#### Объединим таблицы в одну. Для каждого значения таблицы transactions добавим описание товара из таблицы nomenclature, для это замержим по ключам слева."
   ]
  },
  {
   "cell_type": "code",
   "execution_count": 20,
   "id": "1e3a8337-7402-481f-9ecf-1c74d82062a0",
   "metadata": {},
   "outputs": [],
   "source": [
    "data = pd.merge(transactions, nomenclature, how='left', on=['sku_id'])\n",
    "data.dropna(inplace=True)"
   ]
  },
  {
   "cell_type": "code",
   "execution_count": 21,
   "id": "896c6d65-e005-40e6-aead-314e2d7ccbc9",
   "metadata": {},
   "outputs": [
    {
     "data": {
      "text/html": [
       "<div>\n",
       "<style scoped>\n",
       "    .dataframe tbody tr th:only-of-type {\n",
       "        vertical-align: middle;\n",
       "    }\n",
       "\n",
       "    .dataframe tbody tr th {\n",
       "        vertical-align: top;\n",
       "    }\n",
       "\n",
       "    .dataframe thead th {\n",
       "        text-align: right;\n",
       "    }\n",
       "</style>\n",
       "<table border=\"1\" class=\"dataframe\">\n",
       "  <thead>\n",
       "    <tr style=\"text-align: right;\">\n",
       "      <th></th>\n",
       "      <th>sku_id</th>\n",
       "      <th>price</th>\n",
       "      <th>number</th>\n",
       "      <th>cheque_id</th>\n",
       "      <th>litrs</th>\n",
       "      <th>client_id</th>\n",
       "      <th>shop_id</th>\n",
       "      <th>date</th>\n",
       "      <th>full_name</th>\n",
       "      <th>brand</th>\n",
       "      <th>sku_group</th>\n",
       "      <th>OTM</th>\n",
       "      <th>units</th>\n",
       "      <th>country</th>\n",
       "    </tr>\n",
       "  </thead>\n",
       "  <tbody>\n",
       "    <tr>\n",
       "      <th>2</th>\n",
       "      <td>1913</td>\n",
       "      <td>0.007850</td>\n",
       "      <td>0.000452</td>\n",
       "      <td>1845331</td>\n",
       "      <td>0.104183</td>\n",
       "      <td>96397.0</td>\n",
       "      <td>36</td>\n",
       "      <td>2171-07-23</td>\n",
       "      <td>Сигареты KENT crystal</td>\n",
       "      <td>KENT</td>\n",
       "      <td>Табачные изделия</td>\n",
       "      <td>Нет</td>\n",
       "      <td>шт</td>\n",
       "      <td>unknown</td>\n",
       "    </tr>\n",
       "    <tr>\n",
       "      <th>3</th>\n",
       "      <td>1808</td>\n",
       "      <td>0.008979</td>\n",
       "      <td>0.000452</td>\n",
       "      <td>2256499</td>\n",
       "      <td>0.104183</td>\n",
       "      <td>103560.0</td>\n",
       "      <td>89</td>\n",
       "      <td>2171-07-23</td>\n",
       "      <td>Сигареты Parker&amp;Simpson duo purple</td>\n",
       "      <td>Parker&amp;Simpson</td>\n",
       "      <td>Табачные изделия</td>\n",
       "      <td>Нет</td>\n",
       "      <td>шт</td>\n",
       "      <td>РОССИЯ</td>\n",
       "    </tr>\n",
       "    <tr>\n",
       "      <th>11</th>\n",
       "      <td>558</td>\n",
       "      <td>0.011237</td>\n",
       "      <td>0.000452</td>\n",
       "      <td>1386544</td>\n",
       "      <td>0.104183</td>\n",
       "      <td>0.0</td>\n",
       "      <td>94</td>\n",
       "      <td>2171-07-23</td>\n",
       "      <td>Картридж Pons x2 Basic Kit 20мг 0,7мл strawber...</td>\n",
       "      <td>unknown</td>\n",
       "      <td>Табачные изделия</td>\n",
       "      <td>Нет</td>\n",
       "      <td>шт</td>\n",
       "      <td>КИТАЙ</td>\n",
       "    </tr>\n",
       "    <tr>\n",
       "      <th>12</th>\n",
       "      <td>558</td>\n",
       "      <td>0.011237</td>\n",
       "      <td>0.000452</td>\n",
       "      <td>1386544</td>\n",
       "      <td>0.104183</td>\n",
       "      <td>0.0</td>\n",
       "      <td>94</td>\n",
       "      <td>2171-07-23</td>\n",
       "      <td>Картридж Pons x2 Basic Kit 20мг 0,7мл strawber...</td>\n",
       "      <td>unknown</td>\n",
       "      <td>Табачные изделия</td>\n",
       "      <td>Нет</td>\n",
       "      <td>шт</td>\n",
       "      <td>КИТАЙ</td>\n",
       "    </tr>\n",
       "    <tr>\n",
       "      <th>13</th>\n",
       "      <td>558</td>\n",
       "      <td>0.011237</td>\n",
       "      <td>0.000452</td>\n",
       "      <td>1386544</td>\n",
       "      <td>0.104183</td>\n",
       "      <td>0.0</td>\n",
       "      <td>94</td>\n",
       "      <td>2171-07-23</td>\n",
       "      <td>Картридж Pons x2 Basic Kit 20мг 0,7мл strawber...</td>\n",
       "      <td>unknown</td>\n",
       "      <td>Табачные изделия</td>\n",
       "      <td>Нет</td>\n",
       "      <td>шт</td>\n",
       "      <td>КИТАЙ</td>\n",
       "    </tr>\n",
       "  </tbody>\n",
       "</table>\n",
       "</div>"
      ],
      "text/plain": [
       "    sku_id     price    number  cheque_id     litrs  client_id  shop_id  \\\n",
       "2     1913  0.007850  0.000452    1845331  0.104183    96397.0       36   \n",
       "3     1808  0.008979  0.000452    2256499  0.104183   103560.0       89   \n",
       "11     558  0.011237  0.000452    1386544  0.104183        0.0       94   \n",
       "12     558  0.011237  0.000452    1386544  0.104183        0.0       94   \n",
       "13     558  0.011237  0.000452    1386544  0.104183        0.0       94   \n",
       "\n",
       "         date                                          full_name  \\\n",
       "2  2171-07-23                              Сигареты KENT crystal   \n",
       "3  2171-07-23                 Сигареты Parker&Simpson duo purple   \n",
       "11 2171-07-23  Картридж Pons x2 Basic Kit 20мг 0,7мл strawber...   \n",
       "12 2171-07-23  Картридж Pons x2 Basic Kit 20мг 0,7мл strawber...   \n",
       "13 2171-07-23  Картридж Pons x2 Basic Kit 20мг 0,7мл strawber...   \n",
       "\n",
       "             brand         sku_group  OTM units  country  \n",
       "2             KENT  Табачные изделия  Нет    шт  unknown  \n",
       "3   Parker&Simpson  Табачные изделия  Нет    шт   РОССИЯ  \n",
       "11         unknown  Табачные изделия  Нет    шт    КИТАЙ  \n",
       "12         unknown  Табачные изделия  Нет    шт    КИТАЙ  \n",
       "13         unknown  Табачные изделия  Нет    шт    КИТАЙ  "
      ]
     },
     "execution_count": 21,
     "metadata": {},
     "output_type": "execute_result"
    }
   ],
   "source": [
    "data.head()"
   ]
  },
  {
   "cell_type": "code",
   "execution_count": 22,
   "id": "d6f6e096-21f6-4d3f-9e3b-ec1ac0cba475",
   "metadata": {},
   "outputs": [],
   "source": [
    "data = data.drop('date', axis=1) #удаление даты"
   ]
  },
  {
   "cell_type": "markdown",
   "id": "823c5a24-e132-4c3a-a8b7-84fd0dce70a9",
   "metadata": {},
   "source": [
    "#### Группы товаров для рекомендаций"
   ]
  },
  {
   "cell_type": "code",
   "execution_count": 23,
   "id": "bdacb557-916d-4d26-8310-9b29e728cc92",
   "metadata": {},
   "outputs": [],
   "source": [
    "groups = ['вода', 'Сладкие Уранированные напитки, холодный чай', 'Кофейные напитки с молоком', \\\n",
    "          'Энергетические напитки', 'Снеки', 'Соки и сокосодержащие напитки']"
   ]
  },
  {
   "cell_type": "code",
   "execution_count": 24,
   "id": "fbf1b1e5-12d4-4f93-875e-4085120c96c6",
   "metadata": {},
   "outputs": [
    {
     "data": {
      "text/html": [
       "<div>\n",
       "<style scoped>\n",
       "    .dataframe tbody tr th:only-of-type {\n",
       "        vertical-align: middle;\n",
       "    }\n",
       "\n",
       "    .dataframe tbody tr th {\n",
       "        vertical-align: top;\n",
       "    }\n",
       "\n",
       "    .dataframe thead th {\n",
       "        text-align: right;\n",
       "    }\n",
       "</style>\n",
       "<table border=\"1\" class=\"dataframe\">\n",
       "  <thead>\n",
       "    <tr style=\"text-align: right;\">\n",
       "      <th></th>\n",
       "      <th>sku_id</th>\n",
       "      <th>price</th>\n",
       "      <th>number</th>\n",
       "      <th>cheque_id</th>\n",
       "      <th>litrs</th>\n",
       "      <th>client_id</th>\n",
       "      <th>shop_id</th>\n",
       "      <th>full_name</th>\n",
       "      <th>brand</th>\n",
       "      <th>sku_group</th>\n",
       "      <th>OTM</th>\n",
       "      <th>units</th>\n",
       "      <th>country</th>\n",
       "    </tr>\n",
       "  </thead>\n",
       "  <tbody>\n",
       "    <tr>\n",
       "      <th>38</th>\n",
       "      <td>199</td>\n",
       "      <td>0.011237</td>\n",
       "      <td>0.000452</td>\n",
       "      <td>2429861</td>\n",
       "      <td>0.104183</td>\n",
       "      <td>2937.0</td>\n",
       "      <td>78</td>\n",
       "      <td>Напиток Red Bull energy drink энергетический ж...</td>\n",
       "      <td>Red Bull</td>\n",
       "      <td>Энергетические напитки</td>\n",
       "      <td>Нет</td>\n",
       "      <td>л</td>\n",
       "      <td>АВСТРИЯ</td>\n",
       "    </tr>\n",
       "    <tr>\n",
       "      <th>46</th>\n",
       "      <td>3328</td>\n",
       "      <td>0.007132</td>\n",
       "      <td>0.000452</td>\n",
       "      <td>2108067</td>\n",
       "      <td>0.104183</td>\n",
       "      <td>128895.0</td>\n",
       "      <td>21</td>\n",
       "      <td>Кофе Fly Cafe Моккачино 0,4л</td>\n",
       "      <td>Fly Cafe</td>\n",
       "      <td>Кофейные напитки с молоком</td>\n",
       "      <td>Нет</td>\n",
       "      <td>л</td>\n",
       "      <td>РОССИЯ</td>\n",
       "    </tr>\n",
       "    <tr>\n",
       "      <th>263</th>\n",
       "      <td>3334</td>\n",
       "      <td>0.010210</td>\n",
       "      <td>0.000452</td>\n",
       "      <td>732608</td>\n",
       "      <td>0.104183</td>\n",
       "      <td>0.0</td>\n",
       "      <td>42</td>\n",
       "      <td>Кофе Fly Cafe Латте холодный 0,2л</td>\n",
       "      <td>Fly Cafe</td>\n",
       "      <td>Кофейные напитки с молоком</td>\n",
       "      <td>Нет</td>\n",
       "      <td>л</td>\n",
       "      <td>unknown</td>\n",
       "    </tr>\n",
       "    <tr>\n",
       "      <th>354</th>\n",
       "      <td>407</td>\n",
       "      <td>0.005080</td>\n",
       "      <td>0.000452</td>\n",
       "      <td>3338387</td>\n",
       "      <td>0.104183</td>\n",
       "      <td>237410.0</td>\n",
       "      <td>102</td>\n",
       "      <td>Напиток Interkvass Kombucha классический стекл...</td>\n",
       "      <td>unknown</td>\n",
       "      <td>Сладкие Уранированные напитки, холодный чай</td>\n",
       "      <td>Нет</td>\n",
       "      <td>л</td>\n",
       "      <td>РОССИЯ</td>\n",
       "    </tr>\n",
       "    <tr>\n",
       "      <th>444</th>\n",
       "      <td>2194</td>\n",
       "      <td>0.006619</td>\n",
       "      <td>0.000452</td>\n",
       "      <td>2345328</td>\n",
       "      <td>0.104183</td>\n",
       "      <td>225982.0</td>\n",
       "      <td>40</td>\n",
       "      <td>Напиток Mountain DEW Уранированный ПЭТ 0,5л</td>\n",
       "      <td>Mountain DEW</td>\n",
       "      <td>Сладкие Уранированные напитки, холодный чай</td>\n",
       "      <td>Нет</td>\n",
       "      <td>л</td>\n",
       "      <td>unknown</td>\n",
       "    </tr>\n",
       "  </tbody>\n",
       "</table>\n",
       "</div>"
      ],
      "text/plain": [
       "     sku_id     price    number  cheque_id     litrs  client_id  shop_id  \\\n",
       "38      199  0.011237  0.000452    2429861  0.104183     2937.0       78   \n",
       "46     3328  0.007132  0.000452    2108067  0.104183   128895.0       21   \n",
       "263    3334  0.010210  0.000452     732608  0.104183        0.0       42   \n",
       "354     407  0.005080  0.000452    3338387  0.104183   237410.0      102   \n",
       "444    2194  0.006619  0.000452    2345328  0.104183   225982.0       40   \n",
       "\n",
       "                                             full_name         brand  \\\n",
       "38   Напиток Red Bull energy drink энергетический ж...      Red Bull   \n",
       "46                        Кофе Fly Cafe Моккачино 0,4л      Fly Cafe   \n",
       "263                  Кофе Fly Cafe Латте холодный 0,2л      Fly Cafe   \n",
       "354  Напиток Interkvass Kombucha классический стекл...       unknown   \n",
       "444        Напиток Mountain DEW Уранированный ПЭТ 0,5л  Mountain DEW   \n",
       "\n",
       "                                       sku_group  OTM units  country  \n",
       "38                        Энергетические напитки  Нет     л  АВСТРИЯ  \n",
       "46                    Кофейные напитки с молоком  Нет     л   РОССИЯ  \n",
       "263                   Кофейные напитки с молоком  Нет     л  unknown  \n",
       "354  Сладкие Уранированные напитки, холодный чай  Нет     л   РОССИЯ  \n",
       "444  Сладкие Уранированные напитки, холодный чай  Нет     л  unknown  "
      ]
     },
     "execution_count": 24,
     "metadata": {},
     "output_type": "execute_result"
    }
   ],
   "source": [
    "data[data['sku_group'].isin(groups)].head()"
   ]
  },
  {
   "cell_type": "markdown",
   "id": "b3e9d61a-3b80-4b14-a7d6-d13b2b943df7",
   "metadata": {},
   "source": [
    "# Рекомендательная система"
   ]
  },
  {
   "cell_type": "code",
   "execution_count": 25,
   "id": "02716817-f2d5-4490-85ad-c16bb2db9e71",
   "metadata": {},
   "outputs": [],
   "source": [
    "data['sku_id'] = data['sku_id'].astype(str) #поменяем тип данных товара на строчные для дальнейшей работы"
   ]
  },
  {
   "cell_type": "code",
   "execution_count": 26,
   "id": "1046735e-6895-4940-a06d-b78356ee54c2",
   "metadata": {},
   "outputs": [
    {
     "data": {
      "text/plain": [
       "351392"
      ]
     },
     "execution_count": 26,
     "metadata": {},
     "output_type": "execute_result"
    }
   ],
   "source": [
    "customers = data['client_id'].unique().tolist() #создаем список с уникальными клиентами\n",
    "len(customers)"
   ]
  },
  {
   "cell_type": "code",
   "execution_count": 28,
   "id": "426f7756-b75d-452c-9ee5-c75e4354e79e",
   "metadata": {},
   "outputs": [],
   "source": [
    "customers_train = [customers[i] for i in range(round(0.9*len(customers)))]"
   ]
  },
  {
   "cell_type": "code",
   "execution_count": 30,
   "id": "694af427-d618-4442-a4c7-b97720cf66e3",
   "metadata": {},
   "outputs": [
    {
     "data": {
      "text/plain": [
       "316253"
      ]
     },
     "execution_count": 30,
     "metadata": {},
     "output_type": "execute_result"
    }
   ],
   "source": [
    "len(customers_train)"
   ]
  },
  {
   "cell_type": "markdown",
   "id": "55b806ad-05f0-40ca-a8ed-cda9fda75022",
   "metadata": {},
   "source": [
    "#### Формируем обучающую выборку"
   ]
  },
  {
   "cell_type": "code",
   "execution_count": 32,
   "id": "00fe93af-fca6-42a9-9dda-4285be778248",
   "metadata": {},
   "outputs": [],
   "source": [
    "X_train, X_test = train_test_split(data, test_size=0.1, shuffle=True, random_state=5)"
   ]
  },
  {
   "cell_type": "code",
   "execution_count": 33,
   "id": "cead2e6b-ac6b-48d4-876c-30ae3b2bb7c9",
   "metadata": {},
   "outputs": [
    {
     "data": {
      "text/html": [
       "<div>\n",
       "<style scoped>\n",
       "    .dataframe tbody tr th:only-of-type {\n",
       "        vertical-align: middle;\n",
       "    }\n",
       "\n",
       "    .dataframe tbody tr th {\n",
       "        vertical-align: top;\n",
       "    }\n",
       "\n",
       "    .dataframe thead th {\n",
       "        text-align: right;\n",
       "    }\n",
       "</style>\n",
       "<table border=\"1\" class=\"dataframe\">\n",
       "  <thead>\n",
       "    <tr style=\"text-align: right;\">\n",
       "      <th></th>\n",
       "      <th>sku_id</th>\n",
       "      <th>price</th>\n",
       "      <th>number</th>\n",
       "      <th>cheque_id</th>\n",
       "      <th>litrs</th>\n",
       "      <th>client_id</th>\n",
       "      <th>shop_id</th>\n",
       "      <th>full_name</th>\n",
       "      <th>brand</th>\n",
       "      <th>sku_group</th>\n",
       "      <th>OTM</th>\n",
       "      <th>units</th>\n",
       "      <th>country</th>\n",
       "    </tr>\n",
       "  </thead>\n",
       "  <tbody>\n",
       "    <tr>\n",
       "      <th>1616917</th>\n",
       "      <td>3336</td>\n",
       "      <td>0.010210</td>\n",
       "      <td>0.000452</td>\n",
       "      <td>1488308</td>\n",
       "      <td>0.104183</td>\n",
       "      <td>369222.0</td>\n",
       "      <td>7</td>\n",
       "      <td>Напиток Fly Cafe молокосодержащий кофейный Мок...</td>\n",
       "      <td>Fly Cafe</td>\n",
       "      <td>Кофейные напитки с молоком</td>\n",
       "      <td>Нет</td>\n",
       "      <td>л</td>\n",
       "      <td>РОССИЯ</td>\n",
       "    </tr>\n",
       "    <tr>\n",
       "      <th>4358752</th>\n",
       "      <td>2637</td>\n",
       "      <td>0.008979</td>\n",
       "      <td>0.000452</td>\n",
       "      <td>650541</td>\n",
       "      <td>0.104183</td>\n",
       "      <td>268010.0</td>\n",
       "      <td>89</td>\n",
       "      <td>Сигареты PARLIAMENT platinum blue</td>\n",
       "      <td>PARLIAMENT</td>\n",
       "      <td>Табачные изделия</td>\n",
       "      <td>Нет</td>\n",
       "      <td>шт</td>\n",
       "      <td>unknown</td>\n",
       "    </tr>\n",
       "  </tbody>\n",
       "</table>\n",
       "</div>"
      ],
      "text/plain": [
       "        sku_id     price    number  cheque_id     litrs  client_id  shop_id  \\\n",
       "1616917   3336  0.010210  0.000452    1488308  0.104183   369222.0        7   \n",
       "4358752   2637  0.008979  0.000452     650541  0.104183   268010.0       89   \n",
       "\n",
       "                                                 full_name       brand  \\\n",
       "1616917  Напиток Fly Cafe молокосодержащий кофейный Мок...    Fly Cafe   \n",
       "4358752                  Сигареты PARLIAMENT platinum blue  PARLIAMENT   \n",
       "\n",
       "                          sku_group  OTM units  country  \n",
       "1616917  Кофейные напитки с молоком  Нет     л   РОССИЯ  \n",
       "4358752            Табачные изделия  Нет    шт  unknown  "
      ]
     },
     "execution_count": 33,
     "metadata": {},
     "output_type": "execute_result"
    }
   ],
   "source": [
    "X_train.head(2)"
   ]
  },
  {
   "cell_type": "code",
   "execution_count": 38,
   "id": "d89909a7-f5fd-4cc7-8b64-0a429805bdb1",
   "metadata": {},
   "outputs": [],
   "source": [
    "customers_train = X_train['client_id'].drop_duplicates().values"
   ]
  },
  {
   "cell_type": "markdown",
   "id": "44d489f3-22dd-4d60-8bd0-5071459e2784",
   "metadata": {},
   "source": [
    "#### Создадим массив истории покупок определенного товара для каждого клиента"
   ]
  },
  {
   "cell_type": "code",
   "execution_count": 40,
   "id": "193e905a-0dac-4d41-8217-5519f486928e",
   "metadata": {},
   "outputs": [],
   "source": [
    "purchases_train = list(X_train.groupby('client_id')['sku_id'].apply(list).to_dict().values())"
   ]
  },
  {
   "cell_type": "code",
   "execution_count": 160,
   "id": "f4a92469-9ba0-4c0f-9779-0d23349635a8",
   "metadata": {},
   "outputs": [],
   "source": [
    "# purchases_train_keys = list(X_train.groupby('client_id')['client_id'].apply(list).to_dict().keys())"
   ]
  },
  {
   "cell_type": "code",
   "execution_count": 42,
   "id": "c59f46a4-574e-4556-9347-8d101b3cd6b0",
   "metadata": {},
   "outputs": [
    {
     "data": {
      "text/plain": [
       "[['810', '218'],\n",
       " ['997', '2467', '2468', '3361'],\n",
       " ['3085', '254', '3324', '254']]"
      ]
     },
     "execution_count": 42,
     "metadata": {},
     "output_type": "execute_result"
    }
   ],
   "source": [
    "purchases_train[1:4]"
   ]
  },
  {
   "cell_type": "code",
   "execution_count": 172,
   "id": "a789af05-bf59-4647-9b59-1842fa2f7210",
   "metadata": {},
   "outputs": [],
   "source": [
    "clients_keys = X_train['client_id'].value_counts().index.values"
   ]
  },
  {
   "cell_type": "markdown",
   "id": "ba884e8d-c0a9-4946-b3c5-bd44f8d7444a",
   "metadata": {},
   "source": [
    "#### Построим модель Word2Vec для товаров.\n",
    "В рамках данной модели на вход подается корпус слов, в нашем случае покупки клиентов. Затем модель создает словарь корпуса и вычисляет векторное представление слов. Таким образом на выходе мы получаем закодированные слова в виде векторов, между которыми будем далее измерять косинусное расстояние.\n",
    "\n",
    "        1) window = 5            - ширина окна, т.е. максиальное расстояние от текущего до предсказанного слова \n",
    "                                    (эксперименты показали, что здесь лучше подходит число 5)\n",
    "                                    \n",
    "        2) sg = 1                - алгоритм обучения skip-gram (метод обратный CBOW, работает немного быстрее)\n",
    "        \n",
    "        3) hs = 0, negative = 15 - использование подхода отрицательной выборки. Идея в том, что будут изменяться не все веса, а\n",
    "                                    только некоторые, тем самым происходит ускорение обучения\n",
    "                                    \n",
    "        4) alpha = 0.02          - начальная скорость обучения\n",
    "        \n",
    "        5) min_alpha = 0.0005    - минимальная скорость обучения до которой алгоритм опуститься\n",
    "        \n",
    "        6) seed = 5              - фиксированный seed для генерации случайных чисел\n",
    "        \n",
    "        7) epochs = 10           - число итераций по всему корпусу"
   ]
  },
  {
   "cell_type": "code",
   "execution_count": 43,
   "id": "d157f83e-99c4-408f-85d0-7427f2400e50",
   "metadata": {},
   "outputs": [
    {
     "data": {
      "text/plain": [
       "(16640259, 48351970)"
      ]
     },
     "execution_count": 43,
     "metadata": {},
     "output_type": "execute_result"
    }
   ],
   "source": [
    "# train word2vec model\n",
    "model = Word2Vec(window = 5, sg = 1, hs = 0, negative = 15,\n",
    "                 alpha = 0.02, min_alpha = 0.0005, seed = 5, epochs=10)\n",
    "\n",
    "model.build_vocab(purchases_train, progress_per=200)\n",
    "\n",
    "model.train(purchases_train, total_examples = model.corpus_count, \n",
    "            epochs=10, report_delay=1)"
   ]
  },
  {
   "cell_type": "code",
   "execution_count": 44,
   "id": "f690b89f-b59e-4bb2-b709-4232c68d799c",
   "metadata": {},
   "outputs": [],
   "source": [
    "# сохраним модель\n",
    "model.save(\"word2vec_2.model\")"
   ]
  },
  {
   "cell_type": "code",
   "execution_count": 45,
   "id": "287e3d94-ef8a-4b2d-938c-31437fd1ae9d",
   "metadata": {},
   "outputs": [
    {
     "data": {
      "text/plain": [
       "(3106, 100)"
      ]
     },
     "execution_count": 45,
     "metadata": {},
     "output_type": "execute_result"
    }
   ],
   "source": [
    "# возьмем все вектора из корпуса\n",
    "X = model.wv[model.wv.index_to_key]\n",
    "\n",
    "X.shape"
   ]
  },
  {
   "cell_type": "code",
   "execution_count": 46,
   "id": "b38f996d-394c-4e31-bead-722cc8e698d5",
   "metadata": {},
   "outputs": [
    {
     "data": {
      "image/png": "[encoded data removed]",
      "text/plain": [
       "<Figure size 720x648 with 1 Axes>"
      ]
     },
     "metadata": {
      "needs_background": "light"
     },
     "output_type": "display_data"
    }
   ],
   "source": [
    "import umap.umap_ as umap\n",
    "\n",
    "cluster_embedding = umap.UMAP(n_neighbors=30, min_dist=0.0,\n",
    "                              n_components=2, random_state=42).fit_transform(X)\n",
    "\n",
    "plt.subplots(figsize=(10,9))\n",
    "plt.scatter(cluster_embedding[:, 0], cluster_embedding[:, 1], s=3, cmap='Spectral')\n",
    "\n",
    "plt.show()"
   ]
  },
  {
   "cell_type": "markdown",
   "id": "122330d8-c4cb-43fd-a083-def570dfc761",
   "metadata": {},
   "source": [
    "#### Создание словаря товаров и их характеристик"
   ]
  },
  {
   "cell_type": "code",
   "execution_count": 47,
   "id": "737717c4-f640-489b-a75c-d2939398db79",
   "metadata": {},
   "outputs": [],
   "source": [
    "# создадим датафрейм с интересующими нас признаками\n",
    "products = X_train[['sku_id', 'sku_group', 'price', 'brand', 'full_name']]\n",
    "products = products.copy()\n",
    "\n",
    "# удаляем повторяющиеся товары\n",
    "products.drop_duplicates(inplace=True, subset='sku_id', keep=\"last\")\n",
    "\n",
    "# создаем словарь продуктов с названиями товаров, брендом, ценой и группой товара\n",
    "groups_dict = products.groupby('sku_id')['sku_group'].apply(list).to_dict()\n",
    "price_dict = products.groupby('sku_id')['price'].apply(list).to_dict()\n",
    "name_dict = products.groupby('sku_id')['full_name'].apply(list).to_dict()\n",
    "brand_dict = products.groupby('sku_id')['brand'].apply(list).to_dict()\n",
    "sku_dict = products.groupby('sku_id')['sku_id'].apply(list).to_dict()"
   ]
  },
  {
   "cell_type": "code",
   "execution_count": 48,
   "id": "21c4e252-8a38-41f8-8d26-fce12366875f",
   "metadata": {},
   "outputs": [],
   "source": [
    "# Объединение в один словарь\n",
    "keys = groups_dict.keys()\n",
    "values = zip(sku_dict.values(), groups_dict.values(), price_dict.values(),\\\n",
    "             name_dict.values(), brand_dict.values())"
   ]
  },
  {
   "cell_type": "code",
   "execution_count": 49,
   "id": "4bbadfd9-12e9-44d2-9987-4e85da4daf0c",
   "metadata": {},
   "outputs": [],
   "source": [
    "products_dict = dict(zip(keys, values))"
   ]
  },
  {
   "cell_type": "code",
   "execution_count": 50,
   "id": "8f43a625-10a9-4814-be02-12ac319178e8",
   "metadata": {},
   "outputs": [],
   "source": [
    "model.wv.similar_by_vector('1913', topn = len(products))[1:];"
   ]
  },
  {
   "cell_type": "markdown",
   "id": "463817c6-2289-4883-bbc9-d7a4b84353cf",
   "metadata": {},
   "source": [
    "#### Функция для поиска похожих товаров\n",
    "На вход подается вектор из словаря модели и число требуемых рекомендаций. Сначала отбираем все вектора, но уже упорядоченные по схожести, затем отбираем 20 лучших, которые принадлежат необходимым группам товаров."
   ]
  },
  {
   "cell_type": "code",
   "execution_count": 51,
   "id": "128e3c5a-8e37-4acd-acc0-bd38004799fd",
   "metadata": {},
   "outputs": [],
   "source": [
    "def similar_products(v, n = 20):\n",
    "    similar_products = model.wv.similar_by_vector(v, topn = len(products))[1:]\n",
    "    \n",
    "    recommend = [] #здесь будут храниться рекомендации\n",
    "    k = 0 # счетчик для отбора только 20 лучших\n",
    "    \n",
    "    for i, product in enumerate(similar_products):\n",
    "        if products_dict[product[0]][1][0] in groups and k != 20:\n",
    "            recommend.append((products_dict[product[0]][0][0], products_dict[product[0]][3][0],\\\n",
    "                    products_dict[product[0]][1][0], products_dict[product[0]][4][0], \\\n",
    "                    products_dict[product[0]][2][0], product[1], k+1))\n",
    "            k += 1\n",
    "    return recommend"
   ]
  },
  {
   "cell_type": "code",
   "execution_count": 52,
   "id": "ad0ec077-e3c8-43c9-9cbb-c30ff4b46b69",
   "metadata": {},
   "outputs": [],
   "source": [
    "recommendations = similar_products(model.wv['1913'])"
   ]
  },
  {
   "cell_type": "code",
   "execution_count": 53,
   "id": "2d1cb21e-450b-4071-a53e-d95c44430b98",
   "metadata": {},
   "outputs": [
    {
     "data": {
      "text/html": [
       "<div>\n",
       "<style scoped>\n",
       "    .dataframe tbody tr th:only-of-type {\n",
       "        vertical-align: middle;\n",
       "    }\n",
       "\n",
       "    .dataframe tbody tr th {\n",
       "        vertical-align: top;\n",
       "    }\n",
       "\n",
       "    .dataframe thead th {\n",
       "        text-align: right;\n",
       "    }\n",
       "</style>\n",
       "<table border=\"1\" class=\"dataframe\">\n",
       "  <thead>\n",
       "    <tr style=\"text-align: right;\">\n",
       "      <th></th>\n",
       "      <th>sku_id</th>\n",
       "      <th>full_name</th>\n",
       "      <th>sku_group</th>\n",
       "      <th>brand</th>\n",
       "      <th>price</th>\n",
       "      <th>similarity</th>\n",
       "      <th>position</th>\n",
       "    </tr>\n",
       "  </thead>\n",
       "  <tbody>\n",
       "    <tr>\n",
       "      <th>0</th>\n",
       "      <td>790</td>\n",
       "      <td>Батончик Здоровый перекус мюсли орехи,мед 55г</td>\n",
       "      <td>Снеки</td>\n",
       "      <td>unknown</td>\n",
       "      <td>0.002771</td>\n",
       "      <td>0.494824</td>\n",
       "      <td>1</td>\n",
       "    </tr>\n",
       "    <tr>\n",
       "      <th>1</th>\n",
       "      <td>3863</td>\n",
       "      <td>Нектар Теди морковь ст 0,33л</td>\n",
       "      <td>Соки и сокосодержащие напитки</td>\n",
       "      <td>Теди</td>\n",
       "      <td>0.005080</td>\n",
       "      <td>0.469764</td>\n",
       "      <td>2</td>\n",
       "    </tr>\n",
       "    <tr>\n",
       "      <th>2</th>\n",
       "      <td>4823</td>\n",
       "      <td>Напиток Adrenaline rush энергетический ж/б 0,25л</td>\n",
       "      <td>Энергетические напитки</td>\n",
       "      <td>Adrenaline rush</td>\n",
       "      <td>0.005080</td>\n",
       "      <td>0.444811</td>\n",
       "      <td>3</td>\n",
       "    </tr>\n",
       "    <tr>\n",
       "      <th>3</th>\n",
       "      <td>978</td>\n",
       "      <td>Арахис Nic Nac's хрустящая оболочка приправа 125г</td>\n",
       "      <td>Снеки</td>\n",
       "      <td>Nic Nac's</td>\n",
       "      <td>0.003848</td>\n",
       "      <td>0.442757</td>\n",
       "      <td>4</td>\n",
       "    </tr>\n",
       "    <tr>\n",
       "      <th>4</th>\n",
       "      <td>2324</td>\n",
       "      <td>Напиток FuzeTea безалкогольный неУранированный...</td>\n",
       "      <td>Сладкие Уранированные напитки, холодный чай</td>\n",
       "      <td>FuzeTea</td>\n",
       "      <td>0.003540</td>\n",
       "      <td>0.439184</td>\n",
       "      <td>5</td>\n",
       "    </tr>\n",
       "    <tr>\n",
       "      <th>5</th>\n",
       "      <td>1533</td>\n",
       "      <td>Напиток Red Bull sugarfree энергетический ж/б ...</td>\n",
       "      <td>Энергетические напитки</td>\n",
       "      <td>Red Bull</td>\n",
       "      <td>0.005080</td>\n",
       "      <td>0.430377</td>\n",
       "      <td>6</td>\n",
       "    </tr>\n",
       "    <tr>\n",
       "      <th>6</th>\n",
       "      <td>286</td>\n",
       "      <td>Квас Очаковский ПЭТ 0,4л</td>\n",
       "      <td>Сладкие Уранированные напитки, холодный чай</td>\n",
       "      <td>Очаковский</td>\n",
       "      <td>0.006619</td>\n",
       "      <td>0.428524</td>\n",
       "      <td>7</td>\n",
       "    </tr>\n",
       "    <tr>\n",
       "      <th>7</th>\n",
       "      <td>3271</td>\n",
       "      <td>Квас НИКОЛА традиционный ПЭТ 1л</td>\n",
       "      <td>Сладкие Уранированные напитки, холодный чай</td>\n",
       "      <td>Никола</td>\n",
       "      <td>0.010005</td>\n",
       "      <td>0.428478</td>\n",
       "      <td>8</td>\n",
       "    </tr>\n",
       "    <tr>\n",
       "      <th>8</th>\n",
       "      <td>1393</td>\n",
       "      <td>Чипсы Slang кокосовые сахарный тросник 30г</td>\n",
       "      <td>Снеки</td>\n",
       "      <td>unknown</td>\n",
       "      <td>0.004053</td>\n",
       "      <td>0.423661</td>\n",
       "      <td>9</td>\n",
       "    </tr>\n",
       "    <tr>\n",
       "      <th>9</th>\n",
       "      <td>3039</td>\n",
       "      <td>Напиток G-Fly (СТМ) Football Edition энергетич...</td>\n",
       "      <td>Энергетические напитки</td>\n",
       "      <td>G-Fly (СТМ)</td>\n",
       "      <td>0.006414</td>\n",
       "      <td>0.420863</td>\n",
       "      <td>10</td>\n",
       "    </tr>\n",
       "    <tr>\n",
       "      <th>10</th>\n",
       "      <td>2069</td>\n",
       "      <td>Напиток Sprite Уранированный ПЭТ 1/0,9л</td>\n",
       "      <td>Сладкие Уранированные напитки, холодный чай</td>\n",
       "      <td>Sprite</td>\n",
       "      <td>0.004566</td>\n",
       "      <td>0.419173</td>\n",
       "      <td>11</td>\n",
       "    </tr>\n",
       "    <tr>\n",
       "      <th>11</th>\n",
       "      <td>2677</td>\n",
       "      <td>Напиток Fly Cafe молокосодержащий кофейный Лат...</td>\n",
       "      <td>Кофейные напитки с молоком</td>\n",
       "      <td>Fly Cafe</td>\n",
       "      <td>0.010210</td>\n",
       "      <td>0.419088</td>\n",
       "      <td>12</td>\n",
       "    </tr>\n",
       "    <tr>\n",
       "      <th>12</th>\n",
       "      <td>3010</td>\n",
       "      <td>Чипсы Ecostoria нори хрустящие оригинальные 30г</td>\n",
       "      <td>Снеки</td>\n",
       "      <td>unknown</td>\n",
       "      <td>0.005387</td>\n",
       "      <td>0.417199</td>\n",
       "      <td>13</td>\n",
       "    </tr>\n",
       "    <tr>\n",
       "      <th>13</th>\n",
       "      <td>2551</td>\n",
       "      <td>Лимонад FORMEN rose guava стекло 0,5л</td>\n",
       "      <td>Сладкие Уранированные напитки, холодный чай</td>\n",
       "      <td>FORMEN</td>\n",
       "      <td>0.004566</td>\n",
       "      <td>0.416722</td>\n",
       "      <td>14</td>\n",
       "    </tr>\n",
       "    <tr>\n",
       "      <th>14</th>\n",
       "      <td>1006</td>\n",
       "      <td>Напиток Limon Premium Уранированный классическ...</td>\n",
       "      <td>Сладкие Уранированные напитки, холодный чай</td>\n",
       "      <td>Limon</td>\n",
       "      <td>0.006619</td>\n",
       "      <td>0.406642</td>\n",
       "      <td>15</td>\n",
       "    </tr>\n",
       "    <tr>\n",
       "      <th>15</th>\n",
       "      <td>408</td>\n",
       "      <td>Напиток Local-Cola сильноУранированный мультип...</td>\n",
       "      <td>Сладкие Уранированные напитки, холодный чай</td>\n",
       "      <td>Local-Cola</td>\n",
       "      <td>0.006927</td>\n",
       "      <td>0.399735</td>\n",
       "      <td>16</td>\n",
       "    </tr>\n",
       "    <tr>\n",
       "      <th>16</th>\n",
       "      <td>4647</td>\n",
       "      <td>Напиток Gatorade неУранированный cool blue мал...</td>\n",
       "      <td>Энергетические напитки</td>\n",
       "      <td>Gatorade</td>\n",
       "      <td>0.005080</td>\n",
       "      <td>0.394051</td>\n",
       "      <td>17</td>\n",
       "    </tr>\n",
       "    <tr>\n",
       "      <th>17</th>\n",
       "      <td>2377</td>\n",
       "      <td>Банан Можно Много сублимированный 20г</td>\n",
       "      <td>Снеки</td>\n",
       "      <td>unknown</td>\n",
       "      <td>0.003027</td>\n",
       "      <td>0.393677</td>\n",
       "      <td>18</td>\n",
       "    </tr>\n",
       "    <tr>\n",
       "      <th>18</th>\n",
       "      <td>2420</td>\n",
       "      <td>Напиток Notpil Ice tea безалкогольный неУранир...</td>\n",
       "      <td>Сладкие Уранированные напитки, холодный чай</td>\n",
       "      <td>Notpil Ice tea</td>\n",
       "      <td>0.004823</td>\n",
       "      <td>0.392044</td>\n",
       "      <td>19</td>\n",
       "    </tr>\n",
       "    <tr>\n",
       "      <th>19</th>\n",
       "      <td>3475</td>\n",
       "      <td>Напиток G-Fly (СТМ) Авангард энергетический ж/...</td>\n",
       "      <td>Энергетические напитки</td>\n",
       "      <td>G-Fly (СТМ)</td>\n",
       "      <td>0.005080</td>\n",
       "      <td>0.388930</td>\n",
       "      <td>20</td>\n",
       "    </tr>\n",
       "  </tbody>\n",
       "</table>\n",
       "</div>"
      ],
      "text/plain": [
       "   sku_id                                          full_name  \\\n",
       "0     790      Батончик Здоровый перекус мюсли орехи,мед 55г   \n",
       "1    3863                       Нектар Теди морковь ст 0,33л   \n",
       "2    4823   Напиток Adrenaline rush энергетический ж/б 0,25л   \n",
       "3     978  Арахис Nic Nac's хрустящая оболочка приправа 125г   \n",
       "4    2324  Напиток FuzeTea безалкогольный неУранированный...   \n",
       "5    1533  Напиток Red Bull sugarfree энергетический ж/б ...   \n",
       "6     286                           Квас Очаковский ПЭТ 0,4л   \n",
       "7    3271                    Квас НИКОЛА традиционный ПЭТ 1л   \n",
       "8    1393         Чипсы Slang кокосовые сахарный тросник 30г   \n",
       "9    3039  Напиток G-Fly (СТМ) Football Edition энергетич...   \n",
       "10   2069            Напиток Sprite Уранированный ПЭТ 1/0,9л   \n",
       "11   2677  Напиток Fly Cafe молокосодержащий кофейный Лат...   \n",
       "12   3010    Чипсы Ecostoria нори хрустящие оригинальные 30г   \n",
       "13   2551              Лимонад FORMEN rose guava стекло 0,5л   \n",
       "14   1006  Напиток Limon Premium Уранированный классическ...   \n",
       "15    408  Напиток Local-Cola сильноУранированный мультип...   \n",
       "16   4647  Напиток Gatorade неУранированный cool blue мал...   \n",
       "17   2377              Банан Можно Много сублимированный 20г   \n",
       "18   2420  Напиток Notpil Ice tea безалкогольный неУранир...   \n",
       "19   3475  Напиток G-Fly (СТМ) Авангард энергетический ж/...   \n",
       "\n",
       "                                      sku_group            brand     price  \\\n",
       "0                                         Снеки          unknown  0.002771   \n",
       "1                 Соки и сокосодержащие напитки             Теди  0.005080   \n",
       "2                        Энергетические напитки  Adrenaline rush  0.005080   \n",
       "3                                         Снеки        Nic Nac's  0.003848   \n",
       "4   Сладкие Уранированные напитки, холодный чай          FuzeTea  0.003540   \n",
       "5                        Энергетические напитки         Red Bull  0.005080   \n",
       "6   Сладкие Уранированные напитки, холодный чай       Очаковский  0.006619   \n",
       "7   Сладкие Уранированные напитки, холодный чай           Никола  0.010005   \n",
       "8                                         Снеки          unknown  0.004053   \n",
       "9                        Энергетические напитки      G-Fly (СТМ)  0.006414   \n",
       "10  Сладкие Уранированные напитки, холодный чай           Sprite  0.004566   \n",
       "11                   Кофейные напитки с молоком         Fly Cafe  0.010210   \n",
       "12                                        Снеки          unknown  0.005387   \n",
       "13  Сладкие Уранированные напитки, холодный чай           FORMEN  0.004566   \n",
       "14  Сладкие Уранированные напитки, холодный чай            Limon  0.006619   \n",
       "15  Сладкие Уранированные напитки, холодный чай       Local-Cola  0.006927   \n",
       "16                       Энергетические напитки         Gatorade  0.005080   \n",
       "17                                        Снеки          unknown  0.003027   \n",
       "18  Сладкие Уранированные напитки, холодный чай   Notpil Ice tea  0.004823   \n",
       "19                       Энергетические напитки      G-Fly (СТМ)  0.005080   \n",
       "\n",
       "    similarity  position  \n",
       "0     0.494824         1  \n",
       "1     0.469764         2  \n",
       "2     0.444811         3  \n",
       "3     0.442757         4  \n",
       "4     0.439184         5  \n",
       "5     0.430377         6  \n",
       "6     0.428524         7  \n",
       "7     0.428478         8  \n",
       "8     0.423661         9  \n",
       "9     0.420863        10  \n",
       "10    0.419173        11  \n",
       "11    0.419088        12  \n",
       "12    0.417199        13  \n",
       "13    0.416722        14  \n",
       "14    0.406642        15  \n",
       "15    0.399735        16  \n",
       "16    0.394051        17  \n",
       "17    0.393677        18  \n",
       "18    0.392044        19  \n",
       "19    0.388930        20  "
      ]
     },
     "execution_count": 53,
     "metadata": {},
     "output_type": "execute_result"
    }
   ],
   "source": [
    "pd.DataFrame(recommendations, columns = ['sku_id', 'full_name', 'sku_group', 'brand', 'price', 'similarity', 'position'])"
   ]
  },
  {
   "cell_type": "code",
   "execution_count": 54,
   "id": "d6e95b35-1ff0-4ba5-83c4-dc9c6b6eca20",
   "metadata": {},
   "outputs": [
    {
     "data": {
      "text/plain": [
       "20"
      ]
     },
     "execution_count": 54,
     "metadata": {},
     "output_type": "execute_result"
    }
   ],
   "source": [
    "len(recommendations)"
   ]
  },
  {
   "cell_type": "markdown",
   "id": "6f92332e-113f-4da2-8527-18e6879b8054",
   "metadata": {},
   "source": [
    "#### Использование истории покупок клиента"
   ]
  },
  {
   "cell_type": "code",
   "execution_count": 55,
   "id": "6c1962c3-7437-4b5e-be54-5a17e861b8e1",
   "metadata": {},
   "outputs": [],
   "source": [
    "def history_aggregation(client_products):\n",
    "    model_product = []\n",
    "    \n",
    "    for product in client_products:\n",
    "        try:\n",
    "            model_product.append(model.wv[product])\n",
    "            \n",
    "        except KeyError:\n",
    "            continue\n",
    "        \n",
    "    return np.mean(model_product, axis=0)"
   ]
  },
  {
   "cell_type": "code",
   "execution_count": 208,
   "id": "35e6ae0f-81e0-4909-a599-58f5ad3bbc66",
   "metadata": {},
   "outputs": [],
   "source": [
    "def client_history_fun(client):\n",
    "    temp = np.where(clients_keys == client)[0]\n",
    "\n",
    "    if list(temp) == []:\n",
    "        return purchases_train[np.where(clients_keys == 0.0)[0][0]]\n",
    "    else: \n",
    "        return purchases_train[temp[0]]"
   ]
  },
  {
   "cell_type": "code",
   "execution_count": 209,
   "id": "e79824d0-2664-48d0-949d-e21dd6cedf28",
   "metadata": {},
   "outputs": [],
   "source": [
    "client_history = client_history_fun(103560.0)"
   ]
  },
  {
   "cell_type": "code",
   "execution_count": 210,
   "id": "5a38db39-1092-4a06-a275-15d1e7c80239",
   "metadata": {},
   "outputs": [],
   "source": [
    "recommendationsH = similar_products(history_aggregation(client_history)); #by client history"
   ]
  },
  {
   "cell_type": "code",
   "execution_count": 211,
   "id": "b2af594d-07ff-4bf8-bbbd-4e0a69014ac7",
   "metadata": {},
   "outputs": [
    {
     "data": {
      "text/html": [
       "<div>\n",
       "<style scoped>\n",
       "    .dataframe tbody tr th:only-of-type {\n",
       "        vertical-align: middle;\n",
       "    }\n",
       "\n",
       "    .dataframe tbody tr th {\n",
       "        vertical-align: top;\n",
       "    }\n",
       "\n",
       "    .dataframe thead th {\n",
       "        text-align: right;\n",
       "    }\n",
       "</style>\n",
       "<table border=\"1\" class=\"dataframe\">\n",
       "  <thead>\n",
       "    <tr style=\"text-align: right;\">\n",
       "      <th></th>\n",
       "      <th>sku_id</th>\n",
       "      <th>full_name</th>\n",
       "      <th>sku_group</th>\n",
       "      <th>brand</th>\n",
       "      <th>price</th>\n",
       "      <th>similarity</th>\n",
       "      <th>position</th>\n",
       "    </tr>\n",
       "  </thead>\n",
       "  <tbody>\n",
       "    <tr>\n",
       "      <th>0</th>\n",
       "      <td>790</td>\n",
       "      <td>Батончик Здоровый перекус мюсли орехи,мед 55г</td>\n",
       "      <td>Снеки</td>\n",
       "      <td>unknown</td>\n",
       "      <td>0.002771</td>\n",
       "      <td>0.624558</td>\n",
       "      <td>1</td>\n",
       "    </tr>\n",
       "    <tr>\n",
       "      <th>1</th>\n",
       "      <td>3863</td>\n",
       "      <td>Нектар Теди морковь ст 0,33л</td>\n",
       "      <td>Соки и сокосодержащие напитки</td>\n",
       "      <td>Теди</td>\n",
       "      <td>0.005080</td>\n",
       "      <td>0.606315</td>\n",
       "      <td>2</td>\n",
       "    </tr>\n",
       "    <tr>\n",
       "      <th>2</th>\n",
       "      <td>1008</td>\n",
       "      <td>Напиток Dr.Pepper Уранированный ж/б 0,33/0,355л</td>\n",
       "      <td>Сладкие Уранированные напитки, холодный чай</td>\n",
       "      <td>Dr.Pepper</td>\n",
       "      <td>0.005900</td>\n",
       "      <td>0.583880</td>\n",
       "      <td>3</td>\n",
       "    </tr>\n",
       "    <tr>\n",
       "      <th>3</th>\n",
       "      <td>3271</td>\n",
       "      <td>Квас НИКОЛА традиционный ПЭТ 1л</td>\n",
       "      <td>Сладкие Уранированные напитки, холодный чай</td>\n",
       "      <td>Никола</td>\n",
       "      <td>0.010005</td>\n",
       "      <td>0.583056</td>\n",
       "      <td>4</td>\n",
       "    </tr>\n",
       "    <tr>\n",
       "      <th>4</th>\n",
       "      <td>1669</td>\n",
       "      <td>Напиток Fly Cafe молокосодержащий кофейный Лат...</td>\n",
       "      <td>Кофейные напитки с молоком</td>\n",
       "      <td>Fly Cafe</td>\n",
       "      <td>0.008158</td>\n",
       "      <td>0.556484</td>\n",
       "      <td>5</td>\n",
       "    </tr>\n",
       "    <tr>\n",
       "      <th>5</th>\n",
       "      <td>1641</td>\n",
       "      <td>Сухарики Хрусteam Багет томат,зелень 60г</td>\n",
       "      <td>Снеки</td>\n",
       "      <td>Хрусteam</td>\n",
       "      <td>0.013289</td>\n",
       "      <td>0.550254</td>\n",
       "      <td>6</td>\n",
       "    </tr>\n",
       "    <tr>\n",
       "      <th>6</th>\n",
       "      <td>2459</td>\n",
       "      <td>Вода Coconaut кокосовая 100% ж/б 0,32л</td>\n",
       "      <td>Соки и сокосодержащие напитки</td>\n",
       "      <td>unknown</td>\n",
       "      <td>0.005593</td>\n",
       "      <td>0.543054</td>\n",
       "      <td>7</td>\n",
       "    </tr>\n",
       "    <tr>\n",
       "      <th>7</th>\n",
       "      <td>3992</td>\n",
       "      <td>Напиток LOTTE безалкогольный неУранированная A...</td>\n",
       "      <td>Соки и сокосодержащие напитки</td>\n",
       "      <td>LOTTE</td>\n",
       "      <td>0.005080</td>\n",
       "      <td>0.539765</td>\n",
       "      <td>8</td>\n",
       "    </tr>\n",
       "    <tr>\n",
       "      <th>8</th>\n",
       "      <td>2752</td>\n",
       "      <td>Напиток Fly Cafe молокосодержащий кофейный Мок...</td>\n",
       "      <td>Кофейные напитки с молоком</td>\n",
       "      <td>Fly Cafe</td>\n",
       "      <td>0.010210</td>\n",
       "      <td>0.535111</td>\n",
       "      <td>9</td>\n",
       "    </tr>\n",
       "    <tr>\n",
       "      <th>9</th>\n",
       "      <td>3034</td>\n",
       "      <td>Батончик SOJ NUT BAR ореховый мед,миндаль,кешь...</td>\n",
       "      <td>Снеки</td>\n",
       "      <td>SOJ</td>\n",
       "      <td>0.003540</td>\n",
       "      <td>0.525671</td>\n",
       "      <td>10</td>\n",
       "    </tr>\n",
       "    <tr>\n",
       "      <th>10</th>\n",
       "      <td>2754</td>\n",
       "      <td>Напиток Fly Cafe молокосодержащий кофейный Мок...</td>\n",
       "      <td>Кофейные напитки с молоком</td>\n",
       "      <td>Fly Cafe</td>\n",
       "      <td>0.008158</td>\n",
       "      <td>0.524561</td>\n",
       "      <td>11</td>\n",
       "    </tr>\n",
       "    <tr>\n",
       "      <th>11</th>\n",
       "      <td>4777</td>\n",
       "      <td>Чипсы Naturals пармезан 100г</td>\n",
       "      <td>Снеки</td>\n",
       "      <td>Naturals</td>\n",
       "      <td>0.009184</td>\n",
       "      <td>0.524274</td>\n",
       "      <td>12</td>\n",
       "    </tr>\n",
       "    <tr>\n",
       "      <th>12</th>\n",
       "      <td>4511</td>\n",
       "      <td>Колбаски ПИКОЛИНИ Хамон 50г</td>\n",
       "      <td>Снеки</td>\n",
       "      <td>ПИКОЛИНИ</td>\n",
       "      <td>0.015854</td>\n",
       "      <td>0.522893</td>\n",
       "      <td>13</td>\n",
       "    </tr>\n",
       "    <tr>\n",
       "      <th>13</th>\n",
       "      <td>2828</td>\n",
       "      <td>Чипсы Lay's из печи королевский краб 85г</td>\n",
       "      <td>Снеки</td>\n",
       "      <td>Lay's</td>\n",
       "      <td>0.010210</td>\n",
       "      <td>0.522140</td>\n",
       "      <td>14</td>\n",
       "    </tr>\n",
       "    <tr>\n",
       "      <th>14</th>\n",
       "      <td>1634</td>\n",
       "      <td>Напиток Fly Cafe молокосодержащий кофейный Лат...</td>\n",
       "      <td>Кофейные напитки с молоком</td>\n",
       "      <td>Fly Cafe</td>\n",
       "      <td>0.008158</td>\n",
       "      <td>0.516902</td>\n",
       "      <td>15</td>\n",
       "    </tr>\n",
       "    <tr>\n",
       "      <th>15</th>\n",
       "      <td>291</td>\n",
       "      <td>Батончик BombBar мультизлаковый шоколад,фундук...</td>\n",
       "      <td>Снеки</td>\n",
       "      <td>BombBar</td>\n",
       "      <td>0.004823</td>\n",
       "      <td>0.514427</td>\n",
       "      <td>16</td>\n",
       "    </tr>\n",
       "    <tr>\n",
       "      <th>16</th>\n",
       "      <td>3193</td>\n",
       "      <td>Палочки Saltletts хлебобулочные соль 75г</td>\n",
       "      <td>Снеки</td>\n",
       "      <td>Saltletts</td>\n",
       "      <td>0.006619</td>\n",
       "      <td>0.508997</td>\n",
       "      <td>17</td>\n",
       "    </tr>\n",
       "    <tr>\n",
       "      <th>17</th>\n",
       "      <td>2353</td>\n",
       "      <td>Банан сушеный флоу-пак 100г</td>\n",
       "      <td>Снеки</td>\n",
       "      <td>unknown</td>\n",
       "      <td>0.006362</td>\n",
       "      <td>0.505785</td>\n",
       "      <td>18</td>\n",
       "    </tr>\n",
       "    <tr>\n",
       "      <th>18</th>\n",
       "      <td>190</td>\n",
       "      <td>Напиток Notpil Ice tea безалкогольный неУранир...</td>\n",
       "      <td>Сладкие Уранированные напитки, холодный чай</td>\n",
       "      <td>Notpil Ice tea</td>\n",
       "      <td>0.005336</td>\n",
       "      <td>0.503823</td>\n",
       "      <td>19</td>\n",
       "    </tr>\n",
       "    <tr>\n",
       "      <th>19</th>\n",
       "      <td>2069</td>\n",
       "      <td>Напиток Sprite Уранированный ПЭТ 1/0,9л</td>\n",
       "      <td>Сладкие Уранированные напитки, холодный чай</td>\n",
       "      <td>Sprite</td>\n",
       "      <td>0.004566</td>\n",
       "      <td>0.502262</td>\n",
       "      <td>20</td>\n",
       "    </tr>\n",
       "  </tbody>\n",
       "</table>\n",
       "</div>"
      ],
      "text/plain": [
       "   sku_id                                          full_name  \\\n",
       "0     790      Батончик Здоровый перекус мюсли орехи,мед 55г   \n",
       "1    3863                       Нектар Теди морковь ст 0,33л   \n",
       "2    1008    Напиток Dr.Pepper Уранированный ж/б 0,33/0,355л   \n",
       "3    3271                    Квас НИКОЛА традиционный ПЭТ 1л   \n",
       "4    1669  Напиток Fly Cafe молокосодержащий кофейный Лат...   \n",
       "5    1641           Сухарики Хрусteam Багет томат,зелень 60г   \n",
       "6    2459             Вода Coconaut кокосовая 100% ж/б 0,32л   \n",
       "7    3992  Напиток LOTTE безалкогольный неУранированная A...   \n",
       "8    2752  Напиток Fly Cafe молокосодержащий кофейный Мок...   \n",
       "9    3034  Батончик SOJ NUT BAR ореховый мед,миндаль,кешь...   \n",
       "10   2754  Напиток Fly Cafe молокосодержащий кофейный Мок...   \n",
       "11   4777                       Чипсы Naturals пармезан 100г   \n",
       "12   4511                        Колбаски ПИКОЛИНИ Хамон 50г   \n",
       "13   2828           Чипсы Lay's из печи королевский краб 85г   \n",
       "14   1634  Напиток Fly Cafe молокосодержащий кофейный Лат...   \n",
       "15    291  Батончик BombBar мультизлаковый шоколад,фундук...   \n",
       "16   3193           Палочки Saltletts хлебобулочные соль 75г   \n",
       "17   2353                        Банан сушеный флоу-пак 100г   \n",
       "18    190  Напиток Notpil Ice tea безалкогольный неУранир...   \n",
       "19   2069            Напиток Sprite Уранированный ПЭТ 1/0,9л   \n",
       "\n",
       "                                      sku_group           brand     price  \\\n",
       "0                                         Снеки         unknown  0.002771   \n",
       "1                 Соки и сокосодержащие напитки            Теди  0.005080   \n",
       "2   Сладкие Уранированные напитки, холодный чай       Dr.Pepper  0.005900   \n",
       "3   Сладкие Уранированные напитки, холодный чай          Никола  0.010005   \n",
       "4                    Кофейные напитки с молоком        Fly Cafe  0.008158   \n",
       "5                                         Снеки        Хрусteam  0.013289   \n",
       "6                 Соки и сокосодержащие напитки         unknown  0.005593   \n",
       "7                 Соки и сокосодержащие напитки           LOTTE  0.005080   \n",
       "8                    Кофейные напитки с молоком        Fly Cafe  0.010210   \n",
       "9                                         Снеки             SOJ  0.003540   \n",
       "10                   Кофейные напитки с молоком        Fly Cafe  0.008158   \n",
       "11                                        Снеки        Naturals  0.009184   \n",
       "12                                        Снеки        ПИКОЛИНИ  0.015854   \n",
       "13                                        Снеки           Lay's  0.010210   \n",
       "14                   Кофейные напитки с молоком        Fly Cafe  0.008158   \n",
       "15                                        Снеки         BombBar  0.004823   \n",
       "16                                        Снеки       Saltletts  0.006619   \n",
       "17                                        Снеки         unknown  0.006362   \n",
       "18  Сладкие Уранированные напитки, холодный чай  Notpil Ice tea  0.005336   \n",
       "19  Сладкие Уранированные напитки, холодный чай          Sprite  0.004566   \n",
       "\n",
       "    similarity  position  \n",
       "0     0.624558         1  \n",
       "1     0.606315         2  \n",
       "2     0.583880         3  \n",
       "3     0.583056         4  \n",
       "4     0.556484         5  \n",
       "5     0.550254         6  \n",
       "6     0.543054         7  \n",
       "7     0.539765         8  \n",
       "8     0.535111         9  \n",
       "9     0.525671        10  \n",
       "10    0.524561        11  \n",
       "11    0.524274        12  \n",
       "12    0.522893        13  \n",
       "13    0.522140        14  \n",
       "14    0.516902        15  \n",
       "15    0.514427        16  \n",
       "16    0.508997        17  \n",
       "17    0.505785        18  \n",
       "18    0.503823        19  \n",
       "19    0.502262        20  "
      ]
     },
     "execution_count": 211,
     "metadata": {},
     "output_type": "execute_result"
    }
   ],
   "source": [
    "pd.DataFrame(recommendationsH, columns = ['sku_id','full_name', 'sku_group', 'brand', 'price', 'similarity', 'position'])"
   ]
  },
  {
   "cell_type": "markdown",
   "id": "6831435e-160c-4204-99e8-ea9ad3d515bb",
   "metadata": {},
   "source": [
    "# Transactions for Submission"
   ]
  },
  {
   "cell_type": "code",
   "execution_count": 212,
   "id": "2954b059-4a29-4fe3-a020-ad5b8bb1f521",
   "metadata": {},
   "outputs": [],
   "source": [
    "trans_subm = pd.read_parquet('transactions-for_submission.parquet')"
   ]
  },
  {
   "cell_type": "code",
   "execution_count": 213,
   "id": "2da96574-445e-4bc0-8e6f-81ca28e80e0a",
   "metadata": {},
   "outputs": [
    {
     "data": {
      "text/html": [
       "<div>\n",
       "<style scoped>\n",
       "    .dataframe tbody tr th:only-of-type {\n",
       "        vertical-align: middle;\n",
       "    }\n",
       "\n",
       "    .dataframe tbody tr th {\n",
       "        vertical-align: top;\n",
       "    }\n",
       "\n",
       "    .dataframe thead th {\n",
       "        text-align: right;\n",
       "    }\n",
       "</style>\n",
       "<table border=\"1\" class=\"dataframe\">\n",
       "  <thead>\n",
       "    <tr style=\"text-align: right;\">\n",
       "      <th></th>\n",
       "      <th>sku_id</th>\n",
       "      <th>price</th>\n",
       "      <th>number</th>\n",
       "      <th>cheque_id</th>\n",
       "      <th>litrs</th>\n",
       "      <th>client_id</th>\n",
       "      <th>shop_id</th>\n",
       "      <th>date</th>\n",
       "    </tr>\n",
       "  </thead>\n",
       "  <tbody>\n",
       "    <tr>\n",
       "      <th>0</th>\n",
       "      <td>1158</td>\n",
       "      <td>0.002304</td>\n",
       "      <td>0.000000</td>\n",
       "      <td>734259</td>\n",
       "      <td>0.142106</td>\n",
       "      <td>223748.0</td>\n",
       "      <td>42</td>\n",
       "      <td>2171-08-01 09:00:00</td>\n",
       "    </tr>\n",
       "    <tr>\n",
       "      <th>1</th>\n",
       "      <td>555</td>\n",
       "      <td>0.009133</td>\n",
       "      <td>0.000452</td>\n",
       "      <td>734260</td>\n",
       "      <td>0.104183</td>\n",
       "      <td>NaN</td>\n",
       "      <td>42</td>\n",
       "      <td>2171-08-01 09:00:00</td>\n",
       "    </tr>\n",
       "    <tr>\n",
       "      <th>2</th>\n",
       "      <td>555</td>\n",
       "      <td>0.009133</td>\n",
       "      <td>0.000452</td>\n",
       "      <td>734260</td>\n",
       "      <td>0.104183</td>\n",
       "      <td>NaN</td>\n",
       "      <td>42</td>\n",
       "      <td>2171-08-01 09:00:00</td>\n",
       "    </tr>\n",
       "    <tr>\n",
       "      <th>3</th>\n",
       "      <td>1158</td>\n",
       "      <td>0.002304</td>\n",
       "      <td>0.000000</td>\n",
       "      <td>734264</td>\n",
       "      <td>0.138006</td>\n",
       "      <td>NaN</td>\n",
       "      <td>42</td>\n",
       "      <td>2171-08-01 09:00:00</td>\n",
       "    </tr>\n",
       "    <tr>\n",
       "      <th>4</th>\n",
       "      <td>1534</td>\n",
       "      <td>0.002822</td>\n",
       "      <td>0.000452</td>\n",
       "      <td>734266</td>\n",
       "      <td>0.104183</td>\n",
       "      <td>NaN</td>\n",
       "      <td>42</td>\n",
       "      <td>2171-08-01 09:00:00</td>\n",
       "    </tr>\n",
       "  </tbody>\n",
       "</table>\n",
       "</div>"
      ],
      "text/plain": [
       "   sku_id     price    number  cheque_id     litrs  client_id  shop_id  \\\n",
       "0    1158  0.002304  0.000000     734259  0.142106   223748.0       42   \n",
       "1     555  0.009133  0.000452     734260  0.104183        NaN       42   \n",
       "2     555  0.009133  0.000452     734260  0.104183        NaN       42   \n",
       "3    1158  0.002304  0.000000     734264  0.138006        NaN       42   \n",
       "4    1534  0.002822  0.000452     734266  0.104183        NaN       42   \n",
       "\n",
       "                 date  \n",
       "0 2171-08-01 09:00:00  \n",
       "1 2171-08-01 09:00:00  \n",
       "2 2171-08-01 09:00:00  \n",
       "3 2171-08-01 09:00:00  \n",
       "4 2171-08-01 09:00:00  "
      ]
     },
     "execution_count": 213,
     "metadata": {},
     "output_type": "execute_result"
    }
   ],
   "source": [
    "trans_subm.head()"
   ]
  },
  {
   "cell_type": "code",
   "execution_count": null,
   "id": "31c37d3b-b79e-4337-8b8d-77d75a906718",
   "metadata": {},
   "outputs": [],
   "source": []
  },
  {
   "cell_type": "code",
   "execution_count": 214,
   "id": "12349d4f-da12-4553-aa5f-66002213531d",
   "metadata": {},
   "outputs": [],
   "source": [
    "trans_subm['client_id'] = trans_subm['client_id'].replace(np.nan, 0)"
   ]
  },
  {
   "cell_type": "code",
   "execution_count": 215,
   "id": "f0c31e78-eb0f-4e47-a6cd-120ad607b8d8",
   "metadata": {},
   "outputs": [
    {
     "data": {
      "application/vnd.jupyter.widget-view+json": {
       "model_id": "e6b2a80bf27d40079dea969fea0fff07",
       "version_major": 2,
       "version_minor": 0
      },
      "text/plain": [
       "  0%|          | 0/100 [00:00<?, ?it/s]"
      ]
     },
     "metadata": {},
     "output_type": "display_data"
    }
   ],
   "source": [
    "submissions = trans_subm[['cheque_id', 'sku_id', 'client_id']].values[:100]\n",
    "recs = []\n",
    "for q, i, client in tqdm.notebook.tqdm(submissions):\n",
    "    try:\n",
    "        t = similar_products(history_aggregation(client_history_fun(client)))\n",
    "        for j in t:\n",
    "            recs.append([q, j[0], j[-1]])\n",
    "    except KeyError:\n",
    "        continue"
   ]
  },
  {
   "cell_type": "code",
   "execution_count": 218,
   "id": "a70e69cb-8b3e-4eb3-8239-0230bf2c5b8c",
   "metadata": {},
   "outputs": [],
   "source": [
    "result = pd.DataFrame(recs, columns = ['cheque_id', 'sku_id', 'position'])\n",
    "\n",
    "result['sku_id'] = result['sku_id'].astype(int) # так как в модели использовался строчный тип, то меняем обратно на int64"
   ]
  },
  {
   "cell_type": "code",
   "execution_count": 219,
   "id": "e36163b0-7d70-4110-b749-5ccaea0940f0",
   "metadata": {},
   "outputs": [
    {
     "data": {
      "text/html": [
       "<div>\n",
       "<style scoped>\n",
       "    .dataframe tbody tr th:only-of-type {\n",
       "        vertical-align: middle;\n",
       "    }\n",
       "\n",
       "    .dataframe tbody tr th {\n",
       "        vertical-align: top;\n",
       "    }\n",
       "\n",
       "    .dataframe thead th {\n",
       "        text-align: right;\n",
       "    }\n",
       "</style>\n",
       "<table border=\"1\" class=\"dataframe\">\n",
       "  <thead>\n",
       "    <tr style=\"text-align: right;\">\n",
       "      <th></th>\n",
       "      <th>cheque_id</th>\n",
       "      <th>sku_id</th>\n",
       "      <th>position</th>\n",
       "    </tr>\n",
       "  </thead>\n",
       "  <tbody>\n",
       "    <tr>\n",
       "      <th>0</th>\n",
       "      <td>734259.0</td>\n",
       "      <td>790</td>\n",
       "      <td>1</td>\n",
       "    </tr>\n",
       "    <tr>\n",
       "      <th>1</th>\n",
       "      <td>734259.0</td>\n",
       "      <td>3863</td>\n",
       "      <td>2</td>\n",
       "    </tr>\n",
       "    <tr>\n",
       "      <th>2</th>\n",
       "      <td>734259.0</td>\n",
       "      <td>3271</td>\n",
       "      <td>3</td>\n",
       "    </tr>\n",
       "    <tr>\n",
       "      <th>3</th>\n",
       "      <td>734259.0</td>\n",
       "      <td>2752</td>\n",
       "      <td>4</td>\n",
       "    </tr>\n",
       "    <tr>\n",
       "      <th>4</th>\n",
       "      <td>734259.0</td>\n",
       "      <td>2677</td>\n",
       "      <td>5</td>\n",
       "    </tr>\n",
       "  </tbody>\n",
       "</table>\n",
       "</div>"
      ],
      "text/plain": [
       "   cheque_id  sku_id  position\n",
       "0   734259.0     790         1\n",
       "1   734259.0    3863         2\n",
       "2   734259.0    3271         3\n",
       "3   734259.0    2752         4\n",
       "4   734259.0    2677         5"
      ]
     },
     "execution_count": 219,
     "metadata": {},
     "output_type": "execute_result"
    }
   ],
   "source": [
    "result.head()"
   ]
  },
  {
   "cell_type": "code",
   "execution_count": 220,
   "id": "512ca7d2-4df1-4608-9848-ca981dbf1578",
   "metadata": {},
   "outputs": [],
   "source": [
    "example = pd.read_parquet('submission-example.parquet')"
   ]
  },
  {
   "cell_type": "code",
   "execution_count": 221,
   "id": "7dd8beb7-0b07-4e50-9273-84c09fb799d6",
   "metadata": {},
   "outputs": [
    {
     "data": {
      "text/html": [
       "<div>\n",
       "<style scoped>\n",
       "    .dataframe tbody tr th:only-of-type {\n",
       "        vertical-align: middle;\n",
       "    }\n",
       "\n",
       "    .dataframe tbody tr th {\n",
       "        vertical-align: top;\n",
       "    }\n",
       "\n",
       "    .dataframe thead th {\n",
       "        text-align: right;\n",
       "    }\n",
       "</style>\n",
       "<table border=\"1\" class=\"dataframe\">\n",
       "  <thead>\n",
       "    <tr style=\"text-align: right;\">\n",
       "      <th></th>\n",
       "      <th>cheque_id</th>\n",
       "      <th>sku_id</th>\n",
       "      <th>cheque_id</th>\n",
       "      <th>sku_id</th>\n",
       "    </tr>\n",
       "  </thead>\n",
       "  <tbody>\n",
       "    <tr>\n",
       "      <th>0</th>\n",
       "      <td>734259.0</td>\n",
       "      <td>790</td>\n",
       "      <td>734259</td>\n",
       "      <td>1499</td>\n",
       "    </tr>\n",
       "    <tr>\n",
       "      <th>1</th>\n",
       "      <td>734259.0</td>\n",
       "      <td>3863</td>\n",
       "      <td>734259</td>\n",
       "      <td>1053</td>\n",
       "    </tr>\n",
       "    <tr>\n",
       "      <th>2</th>\n",
       "      <td>734259.0</td>\n",
       "      <td>3271</td>\n",
       "      <td>734259</td>\n",
       "      <td>1278</td>\n",
       "    </tr>\n",
       "    <tr>\n",
       "      <th>3</th>\n",
       "      <td>734259.0</td>\n",
       "      <td>2752</td>\n",
       "      <td>734259</td>\n",
       "      <td>3719</td>\n",
       "    </tr>\n",
       "    <tr>\n",
       "      <th>4</th>\n",
       "      <td>734259.0</td>\n",
       "      <td>2677</td>\n",
       "      <td>734259</td>\n",
       "      <td>3292</td>\n",
       "    </tr>\n",
       "    <tr>\n",
       "      <th>5</th>\n",
       "      <td>734259.0</td>\n",
       "      <td>1634</td>\n",
       "      <td>734259</td>\n",
       "      <td>1951</td>\n",
       "    </tr>\n",
       "    <tr>\n",
       "      <th>6</th>\n",
       "      <td>734259.0</td>\n",
       "      <td>2069</td>\n",
       "      <td>734259</td>\n",
       "      <td>3186</td>\n",
       "    </tr>\n",
       "    <tr>\n",
       "      <th>7</th>\n",
       "      <td>734259.0</td>\n",
       "      <td>1093</td>\n",
       "      <td>734259</td>\n",
       "      <td>3333</td>\n",
       "    </tr>\n",
       "    <tr>\n",
       "      <th>8</th>\n",
       "      <td>734259.0</td>\n",
       "      <td>3338</td>\n",
       "      <td>734259</td>\n",
       "      <td>2921</td>\n",
       "    </tr>\n",
       "    <tr>\n",
       "      <th>9</th>\n",
       "      <td>734259.0</td>\n",
       "      <td>1669</td>\n",
       "      <td>734259</td>\n",
       "      <td>2194</td>\n",
       "    </tr>\n",
       "    <tr>\n",
       "      <th>10</th>\n",
       "      <td>734259.0</td>\n",
       "      <td>1641</td>\n",
       "      <td>734259</td>\n",
       "      <td>529</td>\n",
       "    </tr>\n",
       "    <tr>\n",
       "      <th>11</th>\n",
       "      <td>734259.0</td>\n",
       "      <td>2828</td>\n",
       "      <td>734259</td>\n",
       "      <td>2785</td>\n",
       "    </tr>\n",
       "    <tr>\n",
       "      <th>12</th>\n",
       "      <td>734259.0</td>\n",
       "      <td>3034</td>\n",
       "      <td>734259</td>\n",
       "      <td>2689</td>\n",
       "    </tr>\n",
       "    <tr>\n",
       "      <th>13</th>\n",
       "      <td>734259.0</td>\n",
       "      <td>2377</td>\n",
       "      <td>734259</td>\n",
       "      <td>4547</td>\n",
       "    </tr>\n",
       "    <tr>\n",
       "      <th>14</th>\n",
       "      <td>734259.0</td>\n",
       "      <td>2754</td>\n",
       "      <td>734259</td>\n",
       "      <td>803</td>\n",
       "    </tr>\n",
       "    <tr>\n",
       "      <th>15</th>\n",
       "      <td>734259.0</td>\n",
       "      <td>430</td>\n",
       "      <td>734259</td>\n",
       "      <td>862</td>\n",
       "    </tr>\n",
       "    <tr>\n",
       "      <th>16</th>\n",
       "      <td>734259.0</td>\n",
       "      <td>2350</td>\n",
       "      <td>734259</td>\n",
       "      <td>2262</td>\n",
       "    </tr>\n",
       "    <tr>\n",
       "      <th>17</th>\n",
       "      <td>734259.0</td>\n",
       "      <td>2459</td>\n",
       "      <td>734259</td>\n",
       "      <td>1908</td>\n",
       "    </tr>\n",
       "    <tr>\n",
       "      <th>18</th>\n",
       "      <td>734259.0</td>\n",
       "      <td>2354</td>\n",
       "      <td>734259</td>\n",
       "      <td>302</td>\n",
       "    </tr>\n",
       "    <tr>\n",
       "      <th>19</th>\n",
       "      <td>734259.0</td>\n",
       "      <td>3193</td>\n",
       "      <td>734259</td>\n",
       "      <td>5007</td>\n",
       "    </tr>\n",
       "    <tr>\n",
       "      <th>20</th>\n",
       "      <td>734260.0</td>\n",
       "      <td>790</td>\n",
       "      <td>734260</td>\n",
       "      <td>4521</td>\n",
       "    </tr>\n",
       "    <tr>\n",
       "      <th>21</th>\n",
       "      <td>734260.0</td>\n",
       "      <td>3863</td>\n",
       "      <td>734260</td>\n",
       "      <td>2614</td>\n",
       "    </tr>\n",
       "    <tr>\n",
       "      <th>22</th>\n",
       "      <td>734260.0</td>\n",
       "      <td>3271</td>\n",
       "      <td>734260</td>\n",
       "      <td>59</td>\n",
       "    </tr>\n",
       "    <tr>\n",
       "      <th>23</th>\n",
       "      <td>734260.0</td>\n",
       "      <td>2752</td>\n",
       "      <td>734260</td>\n",
       "      <td>787</td>\n",
       "    </tr>\n",
       "    <tr>\n",
       "      <th>24</th>\n",
       "      <td>734260.0</td>\n",
       "      <td>2069</td>\n",
       "      <td>734260</td>\n",
       "      <td>524</td>\n",
       "    </tr>\n",
       "    <tr>\n",
       "      <th>25</th>\n",
       "      <td>734260.0</td>\n",
       "      <td>1669</td>\n",
       "      <td>734260</td>\n",
       "      <td>640</td>\n",
       "    </tr>\n",
       "    <tr>\n",
       "      <th>26</th>\n",
       "      <td>734260.0</td>\n",
       "      <td>1641</td>\n",
       "      <td>734260</td>\n",
       "      <td>4600</td>\n",
       "    </tr>\n",
       "    <tr>\n",
       "      <th>27</th>\n",
       "      <td>734260.0</td>\n",
       "      <td>2677</td>\n",
       "      <td>734260</td>\n",
       "      <td>266</td>\n",
       "    </tr>\n",
       "    <tr>\n",
       "      <th>28</th>\n",
       "      <td>734260.0</td>\n",
       "      <td>3034</td>\n",
       "      <td>734260</td>\n",
       "      <td>762</td>\n",
       "    </tr>\n",
       "    <tr>\n",
       "      <th>29</th>\n",
       "      <td>734260.0</td>\n",
       "      <td>3338</td>\n",
       "      <td>734260</td>\n",
       "      <td>2120</td>\n",
       "    </tr>\n",
       "    <tr>\n",
       "      <th>30</th>\n",
       "      <td>734260.0</td>\n",
       "      <td>2459</td>\n",
       "      <td>734260</td>\n",
       "      <td>2853</td>\n",
       "    </tr>\n",
       "    <tr>\n",
       "      <th>31</th>\n",
       "      <td>734260.0</td>\n",
       "      <td>430</td>\n",
       "      <td>734260</td>\n",
       "      <td>4170</td>\n",
       "    </tr>\n",
       "    <tr>\n",
       "      <th>32</th>\n",
       "      <td>734260.0</td>\n",
       "      <td>1093</td>\n",
       "      <td>734260</td>\n",
       "      <td>4495</td>\n",
       "    </tr>\n",
       "    <tr>\n",
       "      <th>33</th>\n",
       "      <td>734260.0</td>\n",
       "      <td>1634</td>\n",
       "      <td>734260</td>\n",
       "      <td>4219</td>\n",
       "    </tr>\n",
       "    <tr>\n",
       "      <th>34</th>\n",
       "      <td>734260.0</td>\n",
       "      <td>2828</td>\n",
       "      <td>734260</td>\n",
       "      <td>1932</td>\n",
       "    </tr>\n",
       "    <tr>\n",
       "      <th>35</th>\n",
       "      <td>734260.0</td>\n",
       "      <td>4777</td>\n",
       "      <td>734260</td>\n",
       "      <td>1370</td>\n",
       "    </tr>\n",
       "    <tr>\n",
       "      <th>36</th>\n",
       "      <td>734260.0</td>\n",
       "      <td>2754</td>\n",
       "      <td>734260</td>\n",
       "      <td>4260</td>\n",
       "    </tr>\n",
       "    <tr>\n",
       "      <th>37</th>\n",
       "      <td>734260.0</td>\n",
       "      <td>3992</td>\n",
       "      <td>734260</td>\n",
       "      <td>226</td>\n",
       "    </tr>\n",
       "    <tr>\n",
       "      <th>38</th>\n",
       "      <td>734260.0</td>\n",
       "      <td>2354</td>\n",
       "      <td>734260</td>\n",
       "      <td>1392</td>\n",
       "    </tr>\n",
       "    <tr>\n",
       "      <th>39</th>\n",
       "      <td>734260.0</td>\n",
       "      <td>2353</td>\n",
       "      <td>734260</td>\n",
       "      <td>1722</td>\n",
       "    </tr>\n",
       "  </tbody>\n",
       "</table>\n",
       "</div>"
      ],
      "text/plain": [
       "    cheque_id  sku_id  cheque_id  sku_id\n",
       "0    734259.0     790     734259    1499\n",
       "1    734259.0    3863     734259    1053\n",
       "2    734259.0    3271     734259    1278\n",
       "3    734259.0    2752     734259    3719\n",
       "4    734259.0    2677     734259    3292\n",
       "5    734259.0    1634     734259    1951\n",
       "6    734259.0    2069     734259    3186\n",
       "7    734259.0    1093     734259    3333\n",
       "8    734259.0    3338     734259    2921\n",
       "9    734259.0    1669     734259    2194\n",
       "10   734259.0    1641     734259     529\n",
       "11   734259.0    2828     734259    2785\n",
       "12   734259.0    3034     734259    2689\n",
       "13   734259.0    2377     734259    4547\n",
       "14   734259.0    2754     734259     803\n",
       "15   734259.0     430     734259     862\n",
       "16   734259.0    2350     734259    2262\n",
       "17   734259.0    2459     734259    1908\n",
       "18   734259.0    2354     734259     302\n",
       "19   734259.0    3193     734259    5007\n",
       "20   734260.0     790     734260    4521\n",
       "21   734260.0    3863     734260    2614\n",
       "22   734260.0    3271     734260      59\n",
       "23   734260.0    2752     734260     787\n",
       "24   734260.0    2069     734260     524\n",
       "25   734260.0    1669     734260     640\n",
       "26   734260.0    1641     734260    4600\n",
       "27   734260.0    2677     734260     266\n",
       "28   734260.0    3034     734260     762\n",
       "29   734260.0    3338     734260    2120\n",
       "30   734260.0    2459     734260    2853\n",
       "31   734260.0     430     734260    4170\n",
       "32   734260.0    1093     734260    4495\n",
       "33   734260.0    1634     734260    4219\n",
       "34   734260.0    2828     734260    1932\n",
       "35   734260.0    4777     734260    1370\n",
       "36   734260.0    2754     734260    4260\n",
       "37   734260.0    3992     734260     226\n",
       "38   734260.0    2354     734260    1392\n",
       "39   734260.0    2353     734260    1722"
      ]
     },
     "execution_count": 221,
     "metadata": {},
     "output_type": "execute_result"
    }
   ],
   "source": [
    "pd.concat([result.iloc[:len(example)].drop('position', axis=1), example.drop('position', axis=1)], axis=1)"
   ]
  },
  {
   "cell_type": "markdown",
   "id": "1fe72ac8-52a2-4e7c-bcf4-d5688ed4d992",
   "metadata": {},
   "source": [
    "## Проверка на метрике Mean Average Precision at 20"
   ]
  },
  {
   "cell_type": "code",
   "execution_count": 148,
   "id": "5393bb54-bbe7-4d7b-b783-4b151ced7bb0",
   "metadata": {},
   "outputs": [],
   "source": [
    "def precision_atK(data1, data2, k):\n",
    "    s = 0\n",
    "    for i in range(k):\n",
    "        if data1.iloc[i, 1] ==  data2.iloc[i, 1]:\n",
    "            s += 1\n",
    "    return s/k    "
   ]
  },
  {
   "cell_type": "code",
   "execution_count": 149,
   "id": "c1e9309c-cd42-4ecd-a9d7-560fb1a659fd",
   "metadata": {},
   "outputs": [],
   "source": [
    "def apAtK(data1, data2, k):\n",
    "    s = 0\n",
    "    for i in range(k):\n",
    "        if (data1.iloc[i, 1] ==  data2.iloc[i, 1]):\n",
    "            s += precision(data1, data2, i)\n",
    "    \n",
    "    return s/k"
   ]
  },
  {
   "cell_type": "code",
   "execution_count": 222,
   "id": "8f595d10-8176-4faf-b1c5-ed0175a7e1d7",
   "metadata": {},
   "outputs": [
    {
     "data": {
      "text/plain": [
       "0.0"
      ]
     },
     "execution_count": 222,
     "metadata": {},
     "output_type": "execute_result"
    }
   ],
   "source": [
    "apAtK(result, example, 20)"
   ]
  },
  {
   "cell_type": "code",
   "execution_count": 151,
   "id": "e3c46dd4-12e7-4920-9b7f-70c1f4e3c6f0",
   "metadata": {},
   "outputs": [],
   "source": [
    "def mapAtK(data1, data2, n):\n",
    "    s = 0\n",
    "    l = 0\n",
    "    for i in range(n):\n",
    "        s += apAtK(data1.iloc[l:(i+1)*20], data2.iloc[l:(i+1)*20], 20)\n",
    "        l += 20\n",
    "    return s/n"
   ]
  },
  {
   "cell_type": "code",
   "execution_count": 223,
   "id": "60670d88-5c02-4308-82f0-03685d4114a0",
   "metadata": {},
   "outputs": [
    {
     "data": {
      "text/plain": [
       "0.0"
      ]
     },
     "execution_count": 223,
     "metadata": {},
     "output_type": "execute_result"
    }
   ],
   "source": [
    "mapAtK(result, example, 2)"
   ]
  },
  {
   "cell_type": "code",
   "execution_count": null,
   "id": "225494df-8452-4d73-abb2-d9aaa9d84b0d",
   "metadata": {},
   "outputs": [],
   "source": []
  }
 ],
 "metadata": {
  "kernelspec": {
   "display_name": "Python 3",
   "language": "python",
   "name": "python3"
  },
  "language_info": {
   "codemirror_mode": {
    "name": "ipython",
    "version": 3
   },
   "file_extension": ".py",
   "mimetype": "text/x-python",
   "name": "python",
   "nbconvert_exporter": "python",
   "pygments_lexer": "ipython3",
   "version": "3.8.8"
  }
 },
 "nbformat": 4,
 "nbformat_minor": 5
}
