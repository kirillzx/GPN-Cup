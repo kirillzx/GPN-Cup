{
 "cells": [
  {
   "cell_type": "markdown",
   "id": "456f3278-12f9-4ee7-98ed-f5f37eda8fa6",
   "metadata": {},
   "source": [
    "# GPN Cup 2021\n",
    "# Кирилл Захаров\n",
    "#### Студент 4 курса прикладной математики и информатики в экономике и управлении СПбГЭУ\n",
    "-------\n",
    "## Содержание\n",
    "1. [Импорт данных](#Импорт-данных)\n",
    "\n",
    "2. [Рекомендательная система](#Рекомендательная-система)\n",
    "\n",
    "    2.1. [Рекомендации по товару](#Рекомендации-по-товару)\n",
    "\n",
    "    2.2. [Рекомендации по истории покупок клиента](#Рекомендации-по-истории-покупок-клиента)\n",
    "\n",
    "3. [Формирование рекомендаций](#Формирование-рекомендаций)\n",
    "\n",
    "4. [Заключение](#Заключение)\n",
    "\n",
    "\n",
    "-------"
   ]
  },
  {
   "cell_type": "markdown",
   "id": "6d712853-5b03-4b71-983f-e44a126fbe71",
   "metadata": {},
   "source": [
    "# Импорт данных"
   ]
  },
  {
   "cell_type": "markdown",
   "id": "32794334-7fd9-4be4-9a72-e331185a43a6",
   "metadata": {},
   "source": [
    "#### Импорт библиотек"
   ]
  },
  {
   "cell_type": "code",
   "execution_count": 76,
   "id": "4f3802ae-59f2-4547-b98f-9102ca1607dc",
   "metadata": {},
   "outputs": [],
   "source": [
    "import numpy as np\n",
    "import pandas as pd\n",
    "\n",
    "from sklearn.model_selection import train_test_split\n",
    "from sklearn.preprocessing import OrdinalEncoder\n",
    "\n",
    "from sklearn.metrics.pairwise import cosine_similarity, linear_kernel\n",
    "from sklearn.decomposition import PCA\n",
    "from gensim.models import Word2Vec\n",
    "\n",
    "import tqdm\n",
    "\n",
    "import matplotlib.pyplot as plt\n",
    "%matplotlib inline\n",
    "plt.style.use('ggplot')"
   ]
  },
  {
   "cell_type": "markdown",
   "id": "f35a685a-f63b-453f-a99f-7f9d2af8454b",
   "metadata": {},
   "source": [
    "#### Импорт транзакций"
   ]
  },
  {
   "cell_type": "code",
   "execution_count": 2,
   "id": "35c4510b-ae5e-44df-afc3-16bb6b739b4d",
   "metadata": {},
   "outputs": [],
   "source": [
    "transactions = pd.read_parquet('transactions.parquet')"
   ]
  },
  {
   "cell_type": "code",
   "execution_count": 3,
   "id": "f8bc29aa-c3de-45db-ab75-ff78a5ee2ff5",
   "metadata": {},
   "outputs": [
    {
     "data": {
      "text/html": [
       "<div>\n",
       "<style scoped>\n",
       "    .dataframe tbody tr th:only-of-type {\n",
       "        vertical-align: middle;\n",
       "    }\n",
       "\n",
       "    .dataframe tbody tr th {\n",
       "        vertical-align: top;\n",
       "    }\n",
       "\n",
       "    .dataframe thead th {\n",
       "        text-align: right;\n",
       "    }\n",
       "</style>\n",
       "<table border=\"1\" class=\"dataframe\">\n",
       "  <thead>\n",
       "    <tr style=\"text-align: right;\">\n",
       "      <th></th>\n",
       "      <th>sku_id</th>\n",
       "      <th>price</th>\n",
       "      <th>number</th>\n",
       "      <th>cheque_id</th>\n",
       "      <th>litrs</th>\n",
       "      <th>client_id</th>\n",
       "      <th>shop_id</th>\n",
       "      <th>date</th>\n",
       "    </tr>\n",
       "  </thead>\n",
       "  <tbody>\n",
       "    <tr>\n",
       "      <th>0</th>\n",
       "      <td>1158</td>\n",
       "      <td>0.002335</td>\n",
       "      <td>0.000000</td>\n",
       "      <td>3338297</td>\n",
       "      <td>0.147929</td>\n",
       "      <td>78634.0</td>\n",
       "      <td>102</td>\n",
       "      <td>2171-07-23</td>\n",
       "    </tr>\n",
       "    <tr>\n",
       "      <th>1</th>\n",
       "      <td>1158</td>\n",
       "      <td>0.002317</td>\n",
       "      <td>0.000000</td>\n",
       "      <td>3386107</td>\n",
       "      <td>0.134562</td>\n",
       "      <td>20900.0</td>\n",
       "      <td>101</td>\n",
       "      <td>2171-07-23</td>\n",
       "    </tr>\n",
       "    <tr>\n",
       "      <th>2</th>\n",
       "      <td>1913</td>\n",
       "      <td>0.007850</td>\n",
       "      <td>0.000452</td>\n",
       "      <td>1845331</td>\n",
       "      <td>0.104183</td>\n",
       "      <td>96397.0</td>\n",
       "      <td>36</td>\n",
       "      <td>2171-07-23</td>\n",
       "    </tr>\n",
       "    <tr>\n",
       "      <th>3</th>\n",
       "      <td>1808</td>\n",
       "      <td>0.008979</td>\n",
       "      <td>0.000452</td>\n",
       "      <td>2256499</td>\n",
       "      <td>0.104183</td>\n",
       "      <td>103560.0</td>\n",
       "      <td>89</td>\n",
       "      <td>2171-07-23</td>\n",
       "    </tr>\n",
       "    <tr>\n",
       "      <th>4</th>\n",
       "      <td>1158</td>\n",
       "      <td>0.002355</td>\n",
       "      <td>0.000000</td>\n",
       "      <td>3257281</td>\n",
       "      <td>0.115023</td>\n",
       "      <td>67691.0</td>\n",
       "      <td>58</td>\n",
       "      <td>2171-07-23</td>\n",
       "    </tr>\n",
       "  </tbody>\n",
       "</table>\n",
       "</div>"
      ],
      "text/plain": [
       "   sku_id     price    number  cheque_id     litrs  client_id  shop_id  \\\n",
       "0    1158  0.002335  0.000000    3338297  0.147929    78634.0      102   \n",
       "1    1158  0.002317  0.000000    3386107  0.134562    20900.0      101   \n",
       "2    1913  0.007850  0.000452    1845331  0.104183    96397.0       36   \n",
       "3    1808  0.008979  0.000452    2256499  0.104183   103560.0       89   \n",
       "4    1158  0.002355  0.000000    3257281  0.115023    67691.0       58   \n",
       "\n",
       "        date  \n",
       "0 2171-07-23  \n",
       "1 2171-07-23  \n",
       "2 2171-07-23  \n",
       "3 2171-07-23  \n",
       "4 2171-07-23  "
      ]
     },
     "execution_count": 3,
     "metadata": {},
     "output_type": "execute_result"
    }
   ],
   "source": [
    "transactions.head()"
   ]
  },
  {
   "cell_type": "code",
   "execution_count": 4,
   "id": "ce00c102-9717-491e-9388-ee6a747bca1e",
   "metadata": {},
   "outputs": [
    {
     "data": {
      "text/plain": [
       "370083"
      ]
     },
     "execution_count": 4,
     "metadata": {},
     "output_type": "execute_result"
    }
   ],
   "source": [
    "len(transactions['client_id'].unique()) #Количество уникальных покупателей"
   ]
  },
  {
   "cell_type": "code",
   "execution_count": 5,
   "id": "0ac02be4-4472-417a-925d-729c854cef02",
   "metadata": {},
   "outputs": [
    {
     "data": {
      "text/plain": [
       "4873"
      ]
     },
     "execution_count": 5,
     "metadata": {},
     "output_type": "execute_result"
    }
   ],
   "source": [
    "len(transactions['sku_id'].unique()) #Количество уникальных продуктов, которые покупали"
   ]
  },
  {
   "cell_type": "code",
   "execution_count": 6,
   "id": "35c9fbcc-fab9-4561-bcd7-9543d831203e",
   "metadata": {},
   "outputs": [],
   "source": [
    "# список товаров у которых некорректные данные о количестве\n",
    "products_with_a = transactions.loc[np.where((transactions['number']!= 0.0) & (transactions['litrs']!= 0.0))]['sku_id']"
   ]
  },
  {
   "cell_type": "code",
   "execution_count": 7,
   "id": "5eac796a-8d58-465a-8666-42855aba6449",
   "metadata": {},
   "outputs": [
    {
     "data": {
      "text/plain": [
       "sku_id                int64\n",
       "price               float64\n",
       "number              float64\n",
       "cheque_id             int64\n",
       "litrs               float64\n",
       "client_id           float64\n",
       "shop_id               int64\n",
       "date         datetime64[ns]\n",
       "dtype: object"
      ]
     },
     "execution_count": 7,
     "metadata": {},
     "output_type": "execute_result"
    }
   ],
   "source": [
    "transactions.dtypes #иформация о типах данных"
   ]
  },
  {
   "cell_type": "markdown",
   "id": "0eeee708-21c5-452f-a506-61f0a67fba62",
   "metadata": {},
   "source": [
    "#### Посмотрим есть ли данные типа None"
   ]
  },
  {
   "cell_type": "code",
   "execution_count": 8,
   "id": "7df51741-61c8-4423-b354-58fff52acfa2",
   "metadata": {},
   "outputs": [
    {
     "data": {
      "text/plain": [
       "sku_id       False\n",
       "price        False\n",
       "number       False\n",
       "cheque_id    False\n",
       "litrs        False\n",
       "client_id     True\n",
       "shop_id      False\n",
       "date         False\n",
       "dtype: bool"
      ]
     },
     "execution_count": 8,
     "metadata": {},
     "output_type": "execute_result"
    }
   ],
   "source": [
    "transactions.isna().any()"
   ]
  },
  {
   "cell_type": "code",
   "execution_count": 9,
   "id": "83a634e9-076c-4c9b-9400-0fb7e469e626",
   "metadata": {},
   "outputs": [],
   "source": [
    "indx = np.where(transactions['client_id'].isna())[0]"
   ]
  },
  {
   "cell_type": "markdown",
   "id": "4222af11-dae1-4100-8c09-bd25bff8f79b",
   "metadata": {},
   "source": [
    "Поскольку пустые данные содержатся в столбце клиентов, а их тип данных float64, то заменим None на нули."
   ]
  },
  {
   "cell_type": "code",
   "execution_count": 10,
   "id": "74c2bdf8-3674-4474-92c8-e6e59b9d93c2",
   "metadata": {},
   "outputs": [],
   "source": [
    "transactions['client_id'] = transactions['client_id'].replace(np.nan, 0) "
   ]
  },
  {
   "cell_type": "code",
   "execution_count": 11,
   "id": "c43d56ff-742d-4f94-8a91-16571618b21e",
   "metadata": {},
   "outputs": [
    {
     "data": {
      "text/plain": [
       "sku_id       False\n",
       "price        False\n",
       "number       False\n",
       "cheque_id    False\n",
       "litrs        False\n",
       "client_id    False\n",
       "shop_id      False\n",
       "date         False\n",
       "dtype: bool"
      ]
     },
     "execution_count": 11,
     "metadata": {},
     "output_type": "execute_result"
    }
   ],
   "source": [
    "transactions.isna().any()"
   ]
  },
  {
   "cell_type": "markdown",
   "id": "66d75ac2-3913-482c-8ad2-1bb6498c959e",
   "metadata": {},
   "source": [
    "#### Импорт таблицы с номенклатурой"
   ]
  },
  {
   "cell_type": "code",
   "execution_count": 12,
   "id": "169709e3-918d-4e04-9aa2-31b11c16976f",
   "metadata": {},
   "outputs": [],
   "source": [
    "nomenclature = pd.read_parquet('nomenclature.parquet')"
   ]
  },
  {
   "cell_type": "code",
   "execution_count": 13,
   "id": "cf1a88bf-f5b2-4a39-a296-e6309938629a",
   "metadata": {},
   "outputs": [
    {
     "data": {
      "text/html": [
       "<div>\n",
       "<style scoped>\n",
       "    .dataframe tbody tr th:only-of-type {\n",
       "        vertical-align: middle;\n",
       "    }\n",
       "\n",
       "    .dataframe tbody tr th {\n",
       "        vertical-align: top;\n",
       "    }\n",
       "\n",
       "    .dataframe thead th {\n",
       "        text-align: right;\n",
       "    }\n",
       "</style>\n",
       "<table border=\"1\" class=\"dataframe\">\n",
       "  <thead>\n",
       "    <tr style=\"text-align: right;\">\n",
       "      <th></th>\n",
       "      <th>sku_id</th>\n",
       "      <th>full_name</th>\n",
       "      <th>brand</th>\n",
       "      <th>sku_group</th>\n",
       "      <th>OTM</th>\n",
       "      <th>units</th>\n",
       "      <th>country</th>\n",
       "    </tr>\n",
       "  </thead>\n",
       "  <tbody>\n",
       "    <tr>\n",
       "      <th>0</th>\n",
       "      <td>0</td>\n",
       "      <td>Масло Lubricrol Magnatec Diesel 10W-40 B4 1л</td>\n",
       "      <td>Lubricrol</td>\n",
       "      <td>Масла моторные (для варповых двигателей)</td>\n",
       "      <td>Нет</td>\n",
       "      <td>unknown</td>\n",
       "      <td>ГЕРМАНИЯ</td>\n",
       "    </tr>\n",
       "    <tr>\n",
       "      <th>1</th>\n",
       "      <td>723</td>\n",
       "      <td>Трос УранПРОМEthereum буксировочный 4500кг</td>\n",
       "      <td>УранПРОМEthereum</td>\n",
       "      <td>Автотовары</td>\n",
       "      <td>Да</td>\n",
       "      <td>шт</td>\n",
       "      <td>РОССИЯ</td>\n",
       "    </tr>\n",
       "    <tr>\n",
       "      <th>2</th>\n",
       "      <td>3397</td>\n",
       "      <td>Накидка УранПРОМEthereum на спинку автосиденья...</td>\n",
       "      <td>УранПРОМEthereum</td>\n",
       "      <td>Автотовары</td>\n",
       "      <td>Да</td>\n",
       "      <td>шт</td>\n",
       "      <td>unknown</td>\n",
       "    </tr>\n",
       "    <tr>\n",
       "      <th>3</th>\n",
       "      <td>2130</td>\n",
       "      <td>Жилет УранПРОМEthereum световозвращающий</td>\n",
       "      <td>УранПРОМEthereum</td>\n",
       "      <td>Автотовары</td>\n",
       "      <td>Да</td>\n",
       "      <td>шт</td>\n",
       "      <td>unknown</td>\n",
       "    </tr>\n",
       "    <tr>\n",
       "      <th>4</th>\n",
       "      <td>3150</td>\n",
       "      <td>Провода УранПРОМEthereum для прикуривания 200А</td>\n",
       "      <td>УранПРОМEthereum</td>\n",
       "      <td>Автотовары</td>\n",
       "      <td>Да</td>\n",
       "      <td>шт</td>\n",
       "      <td>РОССИЯ</td>\n",
       "    </tr>\n",
       "  </tbody>\n",
       "</table>\n",
       "</div>"
      ],
      "text/plain": [
       "   sku_id                                          full_name  \\\n",
       "0       0       Масло Lubricrol Magnatec Diesel 10W-40 B4 1л   \n",
       "1     723         Трос УранПРОМEthereum буксировочный 4500кг   \n",
       "2    3397  Накидка УранПРОМEthereum на спинку автосиденья...   \n",
       "3    2130           Жилет УранПРОМEthereum световозвращающий   \n",
       "4    3150     Провода УранПРОМEthereum для прикуривания 200А   \n",
       "\n",
       "              brand                                 sku_group  OTM    units  \\\n",
       "0         Lubricrol  Масла моторные (для варповых двигателей)  Нет  unknown   \n",
       "1  УранПРОМEthereum                                Автотовары   Да       шт   \n",
       "2  УранПРОМEthereum                                Автотовары   Да       шт   \n",
       "3  УранПРОМEthereum                                Автотовары   Да       шт   \n",
       "4  УранПРОМEthereum                                Автотовары   Да       шт   \n",
       "\n",
       "    country  \n",
       "0  ГЕРМАНИЯ  \n",
       "1    РОССИЯ  \n",
       "2   unknown  \n",
       "3   unknown  \n",
       "4    РОССИЯ  "
      ]
     },
     "execution_count": 13,
     "metadata": {},
     "output_type": "execute_result"
    }
   ],
   "source": [
    "nomenclature.head()"
   ]
  },
  {
   "cell_type": "markdown",
   "id": "facaa475-a761-42ff-af0d-4cba598bb737",
   "metadata": {},
   "source": [
    "#### Посмотрим на неизвестные данные"
   ]
  },
  {
   "cell_type": "code",
   "execution_count": 14,
   "id": "f647db27-edd9-4c93-b86e-814714450595",
   "metadata": {},
   "outputs": [
    {
     "data": {
      "text/plain": [
       "sku_id       0\n",
       "full_name    9\n",
       "brand        9\n",
       "sku_group    0\n",
       "OTM          9\n",
       "units        9\n",
       "country      9\n",
       "dtype: int64"
      ]
     },
     "execution_count": 14,
     "metadata": {},
     "output_type": "execute_result"
    }
   ],
   "source": [
    "nomenclature.isna().sum() #есть некоторое количество полностью пустых данных, удалим их."
   ]
  },
  {
   "cell_type": "code",
   "execution_count": 15,
   "id": "31fb2336-4eef-449c-8f6d-faf7118f8dcf",
   "metadata": {},
   "outputs": [],
   "source": [
    "nomenclature.dropna(inplace=True)"
   ]
  },
  {
   "cell_type": "code",
   "execution_count": 16,
   "id": "94739f84-039d-4358-8253-213ac9d6b9b5",
   "metadata": {},
   "outputs": [
    {
     "data": {
      "text/plain": [
       "sku_id       0\n",
       "full_name    0\n",
       "brand        0\n",
       "sku_group    0\n",
       "OTM          0\n",
       "units        0\n",
       "country      0\n",
       "dtype: int64"
      ]
     },
     "execution_count": 16,
     "metadata": {},
     "output_type": "execute_result"
    }
   ],
   "source": [
    "nomenclature.isna().sum()"
   ]
  },
  {
   "cell_type": "markdown",
   "id": "4623b8a4-0f35-4467-b801-a7bf792e7986",
   "metadata": {},
   "source": [
    "#### Объединим таблицы в одну. Для каждого значения таблицы transactions добавим описание товара из таблицы nomenclature, для этого склеим  по ключам слева."
   ]
  },
  {
   "cell_type": "code",
   "execution_count": 17,
   "id": "1e3a8337-7402-481f-9ecf-1c74d82062a0",
   "metadata": {},
   "outputs": [],
   "source": [
    "data = pd.merge(transactions, nomenclature, how='left', on=['sku_id'])\n",
    "data.dropna(inplace=True)"
   ]
  },
  {
   "cell_type": "code",
   "execution_count": 18,
   "id": "896c6d65-e005-40e6-aead-314e2d7ccbc9",
   "metadata": {},
   "outputs": [
    {
     "data": {
      "text/html": [
       "<div>\n",
       "<style scoped>\n",
       "    .dataframe tbody tr th:only-of-type {\n",
       "        vertical-align: middle;\n",
       "    }\n",
       "\n",
       "    .dataframe tbody tr th {\n",
       "        vertical-align: top;\n",
       "    }\n",
       "\n",
       "    .dataframe thead th {\n",
       "        text-align: right;\n",
       "    }\n",
       "</style>\n",
       "<table border=\"1\" class=\"dataframe\">\n",
       "  <thead>\n",
       "    <tr style=\"text-align: right;\">\n",
       "      <th></th>\n",
       "      <th>sku_id</th>\n",
       "      <th>price</th>\n",
       "      <th>number</th>\n",
       "      <th>cheque_id</th>\n",
       "      <th>litrs</th>\n",
       "      <th>client_id</th>\n",
       "      <th>shop_id</th>\n",
       "      <th>date</th>\n",
       "      <th>full_name</th>\n",
       "      <th>brand</th>\n",
       "      <th>sku_group</th>\n",
       "      <th>OTM</th>\n",
       "      <th>units</th>\n",
       "      <th>country</th>\n",
       "    </tr>\n",
       "  </thead>\n",
       "  <tbody>\n",
       "    <tr>\n",
       "      <th>2</th>\n",
       "      <td>1913</td>\n",
       "      <td>0.007850</td>\n",
       "      <td>0.000452</td>\n",
       "      <td>1845331</td>\n",
       "      <td>0.104183</td>\n",
       "      <td>96397.0</td>\n",
       "      <td>36</td>\n",
       "      <td>2171-07-23</td>\n",
       "      <td>Сигареты KENT crystal</td>\n",
       "      <td>KENT</td>\n",
       "      <td>Табачные изделия</td>\n",
       "      <td>Нет</td>\n",
       "      <td>шт</td>\n",
       "      <td>unknown</td>\n",
       "    </tr>\n",
       "    <tr>\n",
       "      <th>3</th>\n",
       "      <td>1808</td>\n",
       "      <td>0.008979</td>\n",
       "      <td>0.000452</td>\n",
       "      <td>2256499</td>\n",
       "      <td>0.104183</td>\n",
       "      <td>103560.0</td>\n",
       "      <td>89</td>\n",
       "      <td>2171-07-23</td>\n",
       "      <td>Сигареты Parker&amp;Simpson duo purple</td>\n",
       "      <td>Parker&amp;Simpson</td>\n",
       "      <td>Табачные изделия</td>\n",
       "      <td>Нет</td>\n",
       "      <td>шт</td>\n",
       "      <td>РОССИЯ</td>\n",
       "    </tr>\n",
       "    <tr>\n",
       "      <th>11</th>\n",
       "      <td>558</td>\n",
       "      <td>0.011237</td>\n",
       "      <td>0.000452</td>\n",
       "      <td>1386544</td>\n",
       "      <td>0.104183</td>\n",
       "      <td>0.0</td>\n",
       "      <td>94</td>\n",
       "      <td>2171-07-23</td>\n",
       "      <td>Картридж Pons x2 Basic Kit 20мг 0,7мл strawber...</td>\n",
       "      <td>unknown</td>\n",
       "      <td>Табачные изделия</td>\n",
       "      <td>Нет</td>\n",
       "      <td>шт</td>\n",
       "      <td>КИТАЙ</td>\n",
       "    </tr>\n",
       "    <tr>\n",
       "      <th>12</th>\n",
       "      <td>558</td>\n",
       "      <td>0.011237</td>\n",
       "      <td>0.000452</td>\n",
       "      <td>1386544</td>\n",
       "      <td>0.104183</td>\n",
       "      <td>0.0</td>\n",
       "      <td>94</td>\n",
       "      <td>2171-07-23</td>\n",
       "      <td>Картридж Pons x2 Basic Kit 20мг 0,7мл strawber...</td>\n",
       "      <td>unknown</td>\n",
       "      <td>Табачные изделия</td>\n",
       "      <td>Нет</td>\n",
       "      <td>шт</td>\n",
       "      <td>КИТАЙ</td>\n",
       "    </tr>\n",
       "    <tr>\n",
       "      <th>13</th>\n",
       "      <td>558</td>\n",
       "      <td>0.011237</td>\n",
       "      <td>0.000452</td>\n",
       "      <td>1386544</td>\n",
       "      <td>0.104183</td>\n",
       "      <td>0.0</td>\n",
       "      <td>94</td>\n",
       "      <td>2171-07-23</td>\n",
       "      <td>Картридж Pons x2 Basic Kit 20мг 0,7мл strawber...</td>\n",
       "      <td>unknown</td>\n",
       "      <td>Табачные изделия</td>\n",
       "      <td>Нет</td>\n",
       "      <td>шт</td>\n",
       "      <td>КИТАЙ</td>\n",
       "    </tr>\n",
       "  </tbody>\n",
       "</table>\n",
       "</div>"
      ],
      "text/plain": [
       "    sku_id     price    number  cheque_id     litrs  client_id  shop_id  \\\n",
       "2     1913  0.007850  0.000452    1845331  0.104183    96397.0       36   \n",
       "3     1808  0.008979  0.000452    2256499  0.104183   103560.0       89   \n",
       "11     558  0.011237  0.000452    1386544  0.104183        0.0       94   \n",
       "12     558  0.011237  0.000452    1386544  0.104183        0.0       94   \n",
       "13     558  0.011237  0.000452    1386544  0.104183        0.0       94   \n",
       "\n",
       "         date                                          full_name  \\\n",
       "2  2171-07-23                              Сигареты KENT crystal   \n",
       "3  2171-07-23                 Сигареты Parker&Simpson duo purple   \n",
       "11 2171-07-23  Картридж Pons x2 Basic Kit 20мг 0,7мл strawber...   \n",
       "12 2171-07-23  Картридж Pons x2 Basic Kit 20мг 0,7мл strawber...   \n",
       "13 2171-07-23  Картридж Pons x2 Basic Kit 20мг 0,7мл strawber...   \n",
       "\n",
       "             brand         sku_group  OTM units  country  \n",
       "2             KENT  Табачные изделия  Нет    шт  unknown  \n",
       "3   Parker&Simpson  Табачные изделия  Нет    шт   РОССИЯ  \n",
       "11         unknown  Табачные изделия  Нет    шт    КИТАЙ  \n",
       "12         unknown  Табачные изделия  Нет    шт    КИТАЙ  \n",
       "13         unknown  Табачные изделия  Нет    шт    КИТАЙ  "
      ]
     },
     "execution_count": 18,
     "metadata": {},
     "output_type": "execute_result"
    }
   ],
   "source": [
    "data.head()"
   ]
  },
  {
   "cell_type": "code",
   "execution_count": 19,
   "id": "d6f6e096-21f6-4d3f-9e3b-ec1ac0cba475",
   "metadata": {},
   "outputs": [],
   "source": [
    "data = data.drop(['date','country'], axis=1) #удаление даты и страны, так как дальше нигде не используются"
   ]
  },
  {
   "cell_type": "code",
   "execution_count": 20,
   "id": "04181c13-74a1-4b7a-8b08-188490610e99",
   "metadata": {},
   "outputs": [
    {
     "data": {
      "text/plain": [
       "(5794703, 12)"
      ]
     },
     "execution_count": 20,
     "metadata": {},
     "output_type": "execute_result"
    }
   ],
   "source": [
    "data.shape"
   ]
  },
  {
   "cell_type": "markdown",
   "id": "823c5a24-e132-4c3a-a8b7-84fd0dce70a9",
   "metadata": {},
   "source": [
    "#### Группы товаров для рекомендаций"
   ]
  },
  {
   "cell_type": "code",
   "execution_count": 21,
   "id": "bdacb557-916d-4d26-8310-9b29e728cc92",
   "metadata": {},
   "outputs": [],
   "source": [
    "groups = ['Вода', 'Сладкие Уранированные напитки, холодный чай', 'Кофейные напитки с молоком', \\\n",
    "          'Энергетические напитки', 'Снеки', 'Соки и сокосодержащие напитки']"
   ]
  },
  {
   "cell_type": "code",
   "execution_count": 22,
   "id": "fbf1b1e5-12d4-4f93-875e-4085120c96c6",
   "metadata": {},
   "outputs": [
    {
     "data": {
      "text/html": [
       "<div>\n",
       "<style scoped>\n",
       "    .dataframe tbody tr th:only-of-type {\n",
       "        vertical-align: middle;\n",
       "    }\n",
       "\n",
       "    .dataframe tbody tr th {\n",
       "        vertical-align: top;\n",
       "    }\n",
       "\n",
       "    .dataframe thead th {\n",
       "        text-align: right;\n",
       "    }\n",
       "</style>\n",
       "<table border=\"1\" class=\"dataframe\">\n",
       "  <thead>\n",
       "    <tr style=\"text-align: right;\">\n",
       "      <th></th>\n",
       "      <th>sku_id</th>\n",
       "      <th>price</th>\n",
       "      <th>number</th>\n",
       "      <th>cheque_id</th>\n",
       "      <th>litrs</th>\n",
       "      <th>client_id</th>\n",
       "      <th>shop_id</th>\n",
       "      <th>full_name</th>\n",
       "      <th>brand</th>\n",
       "      <th>sku_group</th>\n",
       "      <th>OTM</th>\n",
       "      <th>units</th>\n",
       "    </tr>\n",
       "  </thead>\n",
       "  <tbody>\n",
       "    <tr>\n",
       "      <th>38</th>\n",
       "      <td>199</td>\n",
       "      <td>0.011237</td>\n",
       "      <td>0.000452</td>\n",
       "      <td>2429861</td>\n",
       "      <td>0.104183</td>\n",
       "      <td>2937.0</td>\n",
       "      <td>78</td>\n",
       "      <td>Напиток Red Bull energy drink энергетический ж...</td>\n",
       "      <td>Red Bull</td>\n",
       "      <td>Энергетические напитки</td>\n",
       "      <td>Нет</td>\n",
       "      <td>л</td>\n",
       "    </tr>\n",
       "    <tr>\n",
       "      <th>46</th>\n",
       "      <td>3328</td>\n",
       "      <td>0.007132</td>\n",
       "      <td>0.000452</td>\n",
       "      <td>2108067</td>\n",
       "      <td>0.104183</td>\n",
       "      <td>128895.0</td>\n",
       "      <td>21</td>\n",
       "      <td>Кофе Fly Cafe Моккачино 0,4л</td>\n",
       "      <td>Fly Cafe</td>\n",
       "      <td>Кофейные напитки с молоком</td>\n",
       "      <td>Нет</td>\n",
       "      <td>л</td>\n",
       "    </tr>\n",
       "    <tr>\n",
       "      <th>51</th>\n",
       "      <td>1551</td>\n",
       "      <td>0.005593</td>\n",
       "      <td>0.000452</td>\n",
       "      <td>3142853</td>\n",
       "      <td>0.104183</td>\n",
       "      <td>94533.0</td>\n",
       "      <td>56</td>\n",
       "      <td>unknown</td>\n",
       "      <td>unknown</td>\n",
       "      <td>Кофейные напитки с молоком</td>\n",
       "      <td>unknown</td>\n",
       "      <td>unknown</td>\n",
       "    </tr>\n",
       "    <tr>\n",
       "      <th>55</th>\n",
       "      <td>1551</td>\n",
       "      <td>0.005593</td>\n",
       "      <td>0.000452</td>\n",
       "      <td>2808683</td>\n",
       "      <td>0.104183</td>\n",
       "      <td>125076.0</td>\n",
       "      <td>17</td>\n",
       "      <td>unknown</td>\n",
       "      <td>unknown</td>\n",
       "      <td>Кофейные напитки с молоком</td>\n",
       "      <td>unknown</td>\n",
       "      <td>unknown</td>\n",
       "    </tr>\n",
       "    <tr>\n",
       "      <th>64</th>\n",
       "      <td>1551</td>\n",
       "      <td>0.005593</td>\n",
       "      <td>0.000452</td>\n",
       "      <td>2808595</td>\n",
       "      <td>0.104183</td>\n",
       "      <td>390043.0</td>\n",
       "      <td>17</td>\n",
       "      <td>unknown</td>\n",
       "      <td>unknown</td>\n",
       "      <td>Кофейные напитки с молоком</td>\n",
       "      <td>unknown</td>\n",
       "      <td>unknown</td>\n",
       "    </tr>\n",
       "  </tbody>\n",
       "</table>\n",
       "</div>"
      ],
      "text/plain": [
       "    sku_id     price    number  cheque_id     litrs  client_id  shop_id  \\\n",
       "38     199  0.011237  0.000452    2429861  0.104183     2937.0       78   \n",
       "46    3328  0.007132  0.000452    2108067  0.104183   128895.0       21   \n",
       "51    1551  0.005593  0.000452    3142853  0.104183    94533.0       56   \n",
       "55    1551  0.005593  0.000452    2808683  0.104183   125076.0       17   \n",
       "64    1551  0.005593  0.000452    2808595  0.104183   390043.0       17   \n",
       "\n",
       "                                            full_name     brand  \\\n",
       "38  Напиток Red Bull energy drink энергетический ж...  Red Bull   \n",
       "46                       Кофе Fly Cafe Моккачино 0,4л  Fly Cafe   \n",
       "51                                            unknown   unknown   \n",
       "55                                            unknown   unknown   \n",
       "64                                            unknown   unknown   \n",
       "\n",
       "                     sku_group      OTM    units  \n",
       "38      Энергетические напитки      Нет        л  \n",
       "46  Кофейные напитки с молоком      Нет        л  \n",
       "51  Кофейные напитки с молоком  unknown  unknown  \n",
       "55  Кофейные напитки с молоком  unknown  unknown  \n",
       "64  Кофейные напитки с молоком  unknown  unknown  "
      ]
     },
     "execution_count": 22,
     "metadata": {},
     "output_type": "execute_result"
    }
   ],
   "source": [
    "data[data['sku_group'].isin(groups)].head() #посмотрим как вяглядят записи для данных групп"
   ]
  },
  {
   "cell_type": "markdown",
   "id": "b3e9d61a-3b80-4b14-a7d6-d13b2b943df7",
   "metadata": {},
   "source": [
    "------\n",
    "# Рекомендательная система"
   ]
  },
  {
   "cell_type": "code",
   "execution_count": 23,
   "id": "02716817-f2d5-4490-85ad-c16bb2db9e71",
   "metadata": {},
   "outputs": [],
   "source": [
    "data['sku_id'] = data['sku_id'].astype(str) #поменяем тип данных товара на строчные для дальнейшей работы"
   ]
  },
  {
   "cell_type": "code",
   "execution_count": 24,
   "id": "1046735e-6895-4940-a06d-b78356ee54c2",
   "metadata": {},
   "outputs": [
    {
     "data": {
      "text/plain": [
       "369179"
      ]
     },
     "execution_count": 24,
     "metadata": {},
     "output_type": "execute_result"
    }
   ],
   "source": [
    "customers = data['client_id'].unique().tolist() #создаем список с уникальными клиентами\n",
    "len(customers)"
   ]
  },
  {
   "cell_type": "code",
   "execution_count": 25,
   "id": "426f7756-b75d-452c-9ee5-c75e4354e79e",
   "metadata": {},
   "outputs": [],
   "source": [
    "# customers_train = [customers[i] for i in range(round(0.9*len(customers)))]"
   ]
  },
  {
   "cell_type": "markdown",
   "id": "55b806ad-05f0-40ca-a8ed-cda9fda75022",
   "metadata": {},
   "source": [
    "#### Формируем обучающую выборку"
   ]
  },
  {
   "cell_type": "code",
   "execution_count": 26,
   "id": "8620e1ce-bedb-455a-87a5-09eed21be058",
   "metadata": {},
   "outputs": [],
   "source": [
    "X_train = data #будем использовать все данные для обучения"
   ]
  },
  {
   "cell_type": "code",
   "execution_count": 27,
   "id": "cead2e6b-ac6b-48d4-876c-30ae3b2bb7c9",
   "metadata": {},
   "outputs": [
    {
     "data": {
      "text/html": [
       "<div>\n",
       "<style scoped>\n",
       "    .dataframe tbody tr th:only-of-type {\n",
       "        vertical-align: middle;\n",
       "    }\n",
       "\n",
       "    .dataframe tbody tr th {\n",
       "        vertical-align: top;\n",
       "    }\n",
       "\n",
       "    .dataframe thead th {\n",
       "        text-align: right;\n",
       "    }\n",
       "</style>\n",
       "<table border=\"1\" class=\"dataframe\">\n",
       "  <thead>\n",
       "    <tr style=\"text-align: right;\">\n",
       "      <th></th>\n",
       "      <th>sku_id</th>\n",
       "      <th>price</th>\n",
       "      <th>number</th>\n",
       "      <th>cheque_id</th>\n",
       "      <th>litrs</th>\n",
       "      <th>client_id</th>\n",
       "      <th>shop_id</th>\n",
       "      <th>full_name</th>\n",
       "      <th>brand</th>\n",
       "      <th>sku_group</th>\n",
       "      <th>OTM</th>\n",
       "      <th>units</th>\n",
       "    </tr>\n",
       "  </thead>\n",
       "  <tbody>\n",
       "    <tr>\n",
       "      <th>2</th>\n",
       "      <td>1913</td>\n",
       "      <td>0.007850</td>\n",
       "      <td>0.000452</td>\n",
       "      <td>1845331</td>\n",
       "      <td>0.104183</td>\n",
       "      <td>96397.0</td>\n",
       "      <td>36</td>\n",
       "      <td>Сигареты KENT crystal</td>\n",
       "      <td>KENT</td>\n",
       "      <td>Табачные изделия</td>\n",
       "      <td>Нет</td>\n",
       "      <td>шт</td>\n",
       "    </tr>\n",
       "    <tr>\n",
       "      <th>3</th>\n",
       "      <td>1808</td>\n",
       "      <td>0.008979</td>\n",
       "      <td>0.000452</td>\n",
       "      <td>2256499</td>\n",
       "      <td>0.104183</td>\n",
       "      <td>103560.0</td>\n",
       "      <td>89</td>\n",
       "      <td>Сигареты Parker&amp;Simpson duo purple</td>\n",
       "      <td>Parker&amp;Simpson</td>\n",
       "      <td>Табачные изделия</td>\n",
       "      <td>Нет</td>\n",
       "      <td>шт</td>\n",
       "    </tr>\n",
       "  </tbody>\n",
       "</table>\n",
       "</div>"
      ],
      "text/plain": [
       "  sku_id     price    number  cheque_id     litrs  client_id  shop_id  \\\n",
       "2   1913  0.007850  0.000452    1845331  0.104183    96397.0       36   \n",
       "3   1808  0.008979  0.000452    2256499  0.104183   103560.0       89   \n",
       "\n",
       "                            full_name           brand         sku_group  OTM  \\\n",
       "2               Сигареты KENT crystal            KENT  Табачные изделия  Нет   \n",
       "3  Сигареты Parker&Simpson duo purple  Parker&Simpson  Табачные изделия  Нет   \n",
       "\n",
       "  units  \n",
       "2    шт  \n",
       "3    шт  "
      ]
     },
     "execution_count": 27,
     "metadata": {},
     "output_type": "execute_result"
    }
   ],
   "source": [
    "X_train.head(2)"
   ]
  },
  {
   "cell_type": "code",
   "execution_count": 28,
   "id": "d89909a7-f5fd-4cc7-8b64-0a429805bdb1",
   "metadata": {},
   "outputs": [],
   "source": [
    "customers_train = X_train['client_id'].drop_duplicates().values #создаем список с уникальными клиентами"
   ]
  },
  {
   "cell_type": "code",
   "execution_count": 29,
   "id": "f168ed43-1416-42f8-8acb-f9a924a47588",
   "metadata": {},
   "outputs": [
    {
     "data": {
      "text/plain": [
       "369179"
      ]
     },
     "execution_count": 29,
     "metadata": {},
     "output_type": "execute_result"
    }
   ],
   "source": [
    "len(customers_train)"
   ]
  },
  {
   "cell_type": "markdown",
   "id": "44d489f3-22dd-4d60-8bd0-5071459e2784",
   "metadata": {},
   "source": [
    "#### Создадим массив истории покупок определенного товара для каждого клиента"
   ]
  },
  {
   "cell_type": "code",
   "execution_count": 30,
   "id": "193e905a-0dac-4d41-8217-5519f486928e",
   "metadata": {},
   "outputs": [],
   "source": [
    "purchases_train = list(X_train.groupby('client_id')['sku_id'].apply(list).to_dict().values())"
   ]
  },
  {
   "cell_type": "code",
   "execution_count": 31,
   "id": "5edef551-cfc8-4c03-ad7f-1044b2c48931",
   "metadata": {},
   "outputs": [],
   "source": [
    "# number_train = list(X_train.groupby('client_id')['number'].apply(list).to_dict().values())"
   ]
  },
  {
   "cell_type": "code",
   "execution_count": 32,
   "id": "449511c3-05c8-4d98-806c-d15a174ee220",
   "metadata": {},
   "outputs": [],
   "source": [
    "# def join_subset(array1, array2):\n",
    "#     array = array1\n",
    "#     for i in range(len(array1)):\n",
    "#         for j in range(len(array1[i])):\n",
    "#             array[i][j] = array1[i][j] + ' ' + array2[i][j]    \n",
    "            \n",
    "#     return array"
   ]
  },
  {
   "cell_type": "code",
   "execution_count": 33,
   "id": "c59f46a4-574e-4556-9347-8d101b3cd6b0",
   "metadata": {},
   "outputs": [
    {
     "data": {
      "text/plain": [
       "[['1551', '1551'],\n",
       " ['218', '2884', '3125', '810', '1861', '1512'],\n",
       " ['997', '997', '2468', '2467', '3361']]"
      ]
     },
     "execution_count": 33,
     "metadata": {},
     "output_type": "execute_result"
    }
   ],
   "source": [
    "purchases_train[1:4]"
   ]
  },
  {
   "cell_type": "code",
   "execution_count": 34,
   "id": "a789af05-bf59-4647-9b59-1842fa2f7210",
   "metadata": {},
   "outputs": [],
   "source": [
    "clients_keys = X_train['client_id'].value_counts().index.values # массив идентификаторов клиентов в порядке как в purchases_train"
   ]
  },
  {
   "cell_type": "markdown",
   "id": "ba884e8d-c0a9-4946-b3c5-bd44f8d7444a",
   "metadata": {},
   "source": [
    "#### Построим модель Word2Vec для товаров.\n",
    "В рамках данной модели на вход подается корпус слов, в нашем случае покупки клиентов. Затем модель создает словарь корпуса и вычисляет векторное представление слов. Таким образом на выходе мы получаем закодированные слова в виде векторов, между которыми будем далее измерять косинусное расстояние.\n",
    "\n",
    "        1) window = 5            - ширина окна, т.е. максиальное расстояние от текущего до предсказанного слова \n",
    "                                    (эксперименты показали, что здесь лучше подходит число 5)\n",
    "                                    \n",
    "        2) sg = 1                - алгоритм обучения skip-gram (метод обратный CBOW, работает немного быстрее)\n",
    "        \n",
    "        3) hs = 0, negative = 15 - использование подхода отрицательной выборки. Идея в том, что будут изменяться не все веса, а\n",
    "                                    только некоторые, тем самым происходит ускорение обучения\n",
    "                                    \n",
    "        4) alpha = 0.02          - начальная скорость обучения\n",
    "        \n",
    "        5) min_alpha = 0.0005    - минимальная скорость обучения до которой алгоритм опуститься\n",
    "        \n",
    "        6) seed = 5              - фиксированный seed для генерации случайных чисел\n",
    "        \n",
    "        7) epochs = 10           - число итераций по всему корпусу"
   ]
  },
  {
   "cell_type": "code",
   "execution_count": 35,
   "id": "d157f83e-99c4-408f-85d0-7427f2400e50",
   "metadata": {},
   "outputs": [
    {
     "data": {
      "text/plain": [
       "(10321667, 28973515)"
      ]
     },
     "execution_count": 35,
     "metadata": {},
     "output_type": "execute_result"
    }
   ],
   "source": [
    "# train word2vec model\n",
    "model = Word2Vec(purchases_train, window = 2, vector_size = 50, sg = 1, hs = 0, negative = 10,\n",
    "                 alpha = 0.05, min_alpha = 0.0005, seed = 5, epochs=5, compute_loss=True, min_count=0)\n",
    "\n",
    "model.build_vocab(purchases_train)\n",
    "\n",
    "model.train(purchases_train, total_examples = 1, epochs=5)"
   ]
  },
  {
   "cell_type": "code",
   "execution_count": 36,
   "id": "79213af5-e445-489d-9ef1-d545686bc927",
   "metadata": {},
   "outputs": [
    {
     "data": {
      "text/plain": [
       "0.0"
      ]
     },
     "execution_count": 36,
     "metadata": {},
     "output_type": "execute_result"
    }
   ],
   "source": [
    "model.get_latest_training_loss()"
   ]
  },
  {
   "cell_type": "code",
   "execution_count": 37,
   "id": "576eb48c-2d8a-43de-b74f-80a3b1270efb",
   "metadata": {},
   "outputs": [
    {
     "data": {
      "text/plain": [
       "369179"
      ]
     },
     "execution_count": 37,
     "metadata": {},
     "output_type": "execute_result"
    }
   ],
   "source": [
    "model.corpus_count"
   ]
  },
  {
   "cell_type": "code",
   "execution_count": 38,
   "id": "f690b89f-b59e-4bb2-b709-4232c68d799c",
   "metadata": {},
   "outputs": [],
   "source": [
    "# сохраним модель\n",
    "model.save(\"word2vec_2.model\")"
   ]
  },
  {
   "cell_type": "code",
   "execution_count": 39,
   "id": "287e3d94-ef8a-4b2d-938c-31437fd1ae9d",
   "metadata": {},
   "outputs": [
    {
     "data": {
      "text/plain": [
       "(4864, 50)"
      ]
     },
     "execution_count": 39,
     "metadata": {},
     "output_type": "execute_result"
    }
   ],
   "source": [
    "# возьмем все вектора из корпуса\n",
    "X = model.wv[model.wv.index_to_key]\n",
    "\n",
    "X.shape"
   ]
  },
  {
   "cell_type": "code",
   "execution_count": 40,
   "id": "eebf525c-b204-442a-aa03-5618a5106f2b",
   "metadata": {},
   "outputs": [
    {
     "data": {
      "text/plain": [
       "3329    129716\n",
       "926     105297\n",
       "3324     96884\n",
       "269      78120\n",
       "834      64544\n",
       "         ...  \n",
       "2399         1\n",
       "2249         1\n",
       "4620         1\n",
       "623          1\n",
       "4309         1\n",
       "Name: sku_id, Length: 4864, dtype: int64"
      ]
     },
     "execution_count": 40,
     "metadata": {},
     "output_type": "execute_result"
    }
   ],
   "source": [
    "X_train['sku_id'].value_counts()"
   ]
  },
  {
   "cell_type": "markdown",
   "id": "275a4562-6123-4259-81bd-9d5de2e667f0",
   "metadata": {},
   "source": [
    "## Визуализация"
   ]
  },
  {
   "cell_type": "markdown",
   "id": "b9bb0cb5-f212-446e-9078-21841448e1c4",
   "metadata": {},
   "source": [
    "Чтобы посмотреть как расположены товары определенных групп после преобразования моделью, применим метод главных компонент для понижения размерности."
   ]
  },
  {
   "cell_type": "code",
   "execution_count": 41,
   "id": "e286c0a2-f03f-4f1f-83ce-8c5b39fdc14e",
   "metadata": {},
   "outputs": [],
   "source": [
    "pca = PCA(n_components=2, random_state=5)"
   ]
  },
  {
   "cell_type": "code",
   "execution_count": 42,
   "id": "1be149d9-f40a-41da-b8a1-61e25d4f3e9c",
   "metadata": {},
   "outputs": [],
   "source": [
    "x_reduction = pca.fit_transform(X)"
   ]
  },
  {
   "cell_type": "code",
   "execution_count": 43,
   "id": "defcce4d-0737-470b-aeb3-c4cc3f3489dc",
   "metadata": {},
   "outputs": [
    {
     "data": {
      "text/plain": [
       "array([[ 1.2120258 ,  1.2005903 ],\n",
       "       [ 0.5741496 ,  1.6214619 ],\n",
       "       [ 0.91765594,  1.3393885 ],\n",
       "       ...,\n",
       "       [-0.4656781 , -0.29436105],\n",
       "       [-0.42403206, -0.3755358 ],\n",
       "       [ 0.01582409, -0.4802534 ]], dtype=float32)"
      ]
     },
     "execution_count": 43,
     "metadata": {},
     "output_type": "execute_result"
    }
   ],
   "source": [
    "x_reduction"
   ]
  },
  {
   "cell_type": "code",
   "execution_count": 44,
   "id": "85ce3261-7f9f-48ac-a9d6-85a89bdfc3ef",
   "metadata": {},
   "outputs": [],
   "source": [
    "vocab = model.wv.index_to_key #словарь модели"
   ]
  },
  {
   "cell_type": "code",
   "execution_count": 45,
   "id": "507073ea-daf5-4fe9-b7b4-e55cb4f3e162",
   "metadata": {},
   "outputs": [],
   "source": [
    "X_dupl = X_train.drop_duplicates('sku_id') #удаляем все дупликаты, для визуализации"
   ]
  },
  {
   "cell_type": "markdown",
   "id": "6ce8fd84-7da8-44c1-bcd8-758cc490d623",
   "metadata": {},
   "source": [
    "Сформируем массив colors, который будет отвечать за цвет определенной группы на позициях как в x_reduction."
   ]
  },
  {
   "cell_type": "code",
   "execution_count": 46,
   "id": "56c0add9-4885-4308-8459-61da756e3d19",
   "metadata": {},
   "outputs": [
    {
     "name": "stderr",
     "output_type": "stream",
     "text": [
      "100%|██████████| 4864/4864 [00:14<00:00, 338.16it/s]\n"
     ]
    }
   ],
   "source": [
    "colors = []\n",
    "for i in tqdm.tqdm(vocab):\n",
    "    for j in groups:\n",
    "        if X_dupl[X_dupl['sku_id'] == i].iloc[0,9] == j:\n",
    "            colors.append(groups.index(j))"
   ]
  },
  {
   "cell_type": "code",
   "execution_count": 47,
   "id": "bb1e2f85-7560-41eb-b720-eb411004013f",
   "metadata": {},
   "outputs": [],
   "source": [
    "colors = np.array(colors)"
   ]
  },
  {
   "cell_type": "code",
   "execution_count": 48,
   "id": "2173ac82-ffd5-45bb-9ccb-0781f0735d6b",
   "metadata": {},
   "outputs": [
    {
     "data": {
      "image/png": "[encoded data removed]",
      "text/plain": [
       "<Figure size 720x720 with 1 Axes>"
      ]
     },
     "metadata": {},
     "output_type": "display_data"
    }
   ],
   "source": [
    "plt.subplots(figsize=(10, 10))\n",
    "\n",
    "for i in range(len(groups)):\n",
    "    \n",
    "    var = x_reduction[np.where(colors == i)[0]]\n",
    "    plt.scatter(var.T[0], var.T[1], label=groups[i], s=25)\n",
    "    \n",
    "plt.title(\"Similar vectors\", fontsize=16)    \n",
    "plt.legend()\n",
    "plt.show()"
   ]
  },
  {
   "cell_type": "markdown",
   "id": "655faa7a-295e-4527-bcfa-c4c83b632d98",
   "metadata": {},
   "source": [
    "На графике видно, как распределены товары определенных групп после преобразования в вектора."
   ]
  },
  {
   "cell_type": "markdown",
   "id": "122330d8-c4cb-43fd-a083-def570dfc761",
   "metadata": {},
   "source": [
    "#### Создание словаря товаров и их характеристик"
   ]
  },
  {
   "cell_type": "code",
   "execution_count": 49,
   "id": "737717c4-f640-489b-a75c-d2939398db79",
   "metadata": {},
   "outputs": [],
   "source": [
    "# создадим датафрейм с интересующими нас признаками\n",
    "products = X_train[['sku_id', 'sku_group', 'price', 'brand', 'full_name']]\n",
    "products = products.copy()\n",
    "\n",
    "# удаляем повторяющиеся товары\n",
    "products.drop_duplicates(inplace=True, subset='sku_id', keep=\"last\")\n",
    "\n",
    "# создаем словарь продуктов с названиями товаров, брендом, ценой и группой товара\n",
    "groups_dict = products.groupby('sku_id')['sku_group'].apply(list).to_dict()\n",
    "price_dict = products.groupby('sku_id')['price'].apply(list).to_dict()\n",
    "name_dict = products.groupby('sku_id')['full_name'].apply(list).to_dict()\n",
    "brand_dict = products.groupby('sku_id')['brand'].apply(list).to_dict()\n",
    "sku_dict = products.groupby('sku_id')['sku_id'].apply(list).to_dict()"
   ]
  },
  {
   "cell_type": "code",
   "execution_count": 50,
   "id": "21c4e252-8a38-41f8-8d26-fce12366875f",
   "metadata": {},
   "outputs": [],
   "source": [
    "# Объединение в один словарь\n",
    "keys = groups_dict.keys()\n",
    "values = zip(sku_dict.values(), groups_dict.values(), price_dict.values(),\\\n",
    "             name_dict.values(), brand_dict.values())"
   ]
  },
  {
   "cell_type": "code",
   "execution_count": 51,
   "id": "4bbadfd9-12e9-44d2-9987-4e85da4daf0c",
   "metadata": {},
   "outputs": [],
   "source": [
    "products_dict = dict(zip(keys, values))"
   ]
  },
  {
   "cell_type": "markdown",
   "id": "c1c651e1-b967-4213-a521-aa296c783e2d",
   "metadata": {},
   "source": [
    "## Рекомендации по товару"
   ]
  },
  {
   "cell_type": "markdown",
   "id": "463817c6-2289-4883-bbc9-d7a4b84353cf",
   "metadata": {},
   "source": [
    "#### Функция для поиска похожих товаров\n",
    "На вход подается вектор из словаря модели и число требуемых рекомендаций. Сначала отбираем все вектора, но уже упорядоченные по схожести, затем отбираем 20 лучших, которые принадлежат необходимым группам товаров, вычисляя косинусное расстояние между векторами."
   ]
  },
  {
   "cell_type": "code",
   "execution_count": 52,
   "id": "128e3c5a-8e37-4acd-acc0-bd38004799fd",
   "metadata": {},
   "outputs": [],
   "source": [
    "def similar_products(v, n = 20):\n",
    "    similar_products = model.wv.similar_by_vector(v, topn = len(products))[1:]\n",
    "    \n",
    "    recommend = [] #здесь будут храниться рекомендации\n",
    "    k = 0 # счетчик для отбора только 20 лучших\n",
    "    \n",
    "    for i, product in enumerate(similar_products):\n",
    "        if products_dict[product[0]][1][0] in groups and k != 20:\n",
    "            recommend.append((products_dict[product[0]][0][0], products_dict[product[0]][3][0],\\\n",
    "                    products_dict[product[0]][1][0], products_dict[product[0]][4][0], \\\n",
    "                    products_dict[product[0]][2][0], product[1], k+1))\n",
    "            k += 1\n",
    "    return recommend"
   ]
  },
  {
   "cell_type": "code",
   "execution_count": 53,
   "id": "ad0ec077-e3c8-43c9-9cbb-c30ff4b46b69",
   "metadata": {},
   "outputs": [],
   "source": [
    "recommendations = similar_products(model.wv['3345'])"
   ]
  },
  {
   "cell_type": "code",
   "execution_count": 54,
   "id": "2d1cb21e-450b-4071-a53e-d95c44430b98",
   "metadata": {},
   "outputs": [
    {
     "data": {
      "text/html": [
       "<div>\n",
       "<style scoped>\n",
       "    .dataframe tbody tr th:only-of-type {\n",
       "        vertical-align: middle;\n",
       "    }\n",
       "\n",
       "    .dataframe tbody tr th {\n",
       "        vertical-align: top;\n",
       "    }\n",
       "\n",
       "    .dataframe thead th {\n",
       "        text-align: right;\n",
       "    }\n",
       "</style>\n",
       "<table border=\"1\" class=\"dataframe\">\n",
       "  <thead>\n",
       "    <tr style=\"text-align: right;\">\n",
       "      <th></th>\n",
       "      <th>sku_id</th>\n",
       "      <th>full_name</th>\n",
       "      <th>sku_group</th>\n",
       "      <th>brand</th>\n",
       "      <th>price</th>\n",
       "      <th>similarity</th>\n",
       "      <th>position</th>\n",
       "    </tr>\n",
       "  </thead>\n",
       "  <tbody>\n",
       "    <tr>\n",
       "      <th>0</th>\n",
       "      <td>983</td>\n",
       "      <td>Напиток G-Fly (СТМ) энергетический apple ж/б 0...</td>\n",
       "      <td>Энергетические напитки</td>\n",
       "      <td>G-Fly (СТМ)</td>\n",
       "      <td>1.123653e-02</td>\n",
       "      <td>0.902324</td>\n",
       "      <td>1</td>\n",
       "    </tr>\n",
       "    <tr>\n",
       "      <th>1</th>\n",
       "      <td>2350</td>\n",
       "      <td>Попкорн PARTY TIME соль стакан 40г</td>\n",
       "      <td>Снеки</td>\n",
       "      <td>unknown</td>\n",
       "      <td>1.021036e-02</td>\n",
       "      <td>0.900560</td>\n",
       "      <td>2</td>\n",
       "    </tr>\n",
       "    <tr>\n",
       "      <th>2</th>\n",
       "      <td>1818</td>\n",
       "      <td>Чипсы Dr.Korner корнерсы кукурузно-рисовые том...</td>\n",
       "      <td>Снеки</td>\n",
       "      <td>Dr.Korner</td>\n",
       "      <td>5.079528e-03</td>\n",
       "      <td>0.899108</td>\n",
       "      <td>3</td>\n",
       "    </tr>\n",
       "    <tr>\n",
       "      <th>3</th>\n",
       "      <td>1959</td>\n",
       "      <td>Чипсы Lay's лисички,сметана 85г</td>\n",
       "      <td>Снеки</td>\n",
       "      <td>Lay's</td>\n",
       "      <td>5.079528e-03</td>\n",
       "      <td>0.895059</td>\n",
       "      <td>4</td>\n",
       "    </tr>\n",
       "    <tr>\n",
       "      <th>4</th>\n",
       "      <td>4900</td>\n",
       "      <td>unknown</td>\n",
       "      <td>Кофейные напитки с молоком</td>\n",
       "      <td>unknown</td>\n",
       "      <td>1.400718e-02</td>\n",
       "      <td>0.893648</td>\n",
       "      <td>5</td>\n",
       "    </tr>\n",
       "    <tr>\n",
       "      <th>5</th>\n",
       "      <td>2459</td>\n",
       "      <td>Вода Coconaut кокосовая 100% ж/б 0,32л</td>\n",
       "      <td>Соки и сокосодержащие напитки</td>\n",
       "      <td>unknown</td>\n",
       "      <td>5.592612e-03</td>\n",
       "      <td>0.893316</td>\n",
       "      <td>6</td>\n",
       "    </tr>\n",
       "    <tr>\n",
       "      <th>6</th>\n",
       "      <td>3142</td>\n",
       "      <td>unknown</td>\n",
       "      <td>Кофейные напитки с молоком</td>\n",
       "      <td>unknown</td>\n",
       "      <td>5.130836e-07</td>\n",
       "      <td>0.893116</td>\n",
       "      <td>7</td>\n",
       "    </tr>\n",
       "    <tr>\n",
       "      <th>7</th>\n",
       "      <td>4457</td>\n",
       "      <td>unknown</td>\n",
       "      <td>Кофейные напитки с молоком</td>\n",
       "      <td>unknown</td>\n",
       "      <td>1.015906e-02</td>\n",
       "      <td>0.892036</td>\n",
       "      <td>8</td>\n",
       "    </tr>\n",
       "    <tr>\n",
       "      <th>8</th>\n",
       "      <td>3275</td>\n",
       "      <td>Напиток Fly Cafe (СТМ) /G-Fly безалкогольный н...</td>\n",
       "      <td>Сладкие Уранированные напитки, холодный чай</td>\n",
       "      <td>Fly Cafe (СТМ)</td>\n",
       "      <td>5.592612e-03</td>\n",
       "      <td>0.890032</td>\n",
       "      <td>9</td>\n",
       "    </tr>\n",
       "    <tr>\n",
       "      <th>9</th>\n",
       "      <td>1441</td>\n",
       "      <td>Батончик Energizer мюсли фрукты шоколад,мята 40г</td>\n",
       "      <td>Снеки</td>\n",
       "      <td>Energizer</td>\n",
       "      <td>5.900462e-03</td>\n",
       "      <td>0.884992</td>\n",
       "      <td>10</td>\n",
       "    </tr>\n",
       "    <tr>\n",
       "      <th>10</th>\n",
       "      <td>2297</td>\n",
       "      <td>Чипсы FitFruits фруктовые клубника 20г</td>\n",
       "      <td>Снеки</td>\n",
       "      <td>FitFruits</td>\n",
       "      <td>1.328887e-02</td>\n",
       "      <td>0.882808</td>\n",
       "      <td>11</td>\n",
       "    </tr>\n",
       "    <tr>\n",
       "      <th>11</th>\n",
       "      <td>126</td>\n",
       "      <td>Напиток sipep Уранированный mango ж/б 0,33л</td>\n",
       "      <td>Сладкие Уранированные напитки, холодный чай</td>\n",
       "      <td>sipep</td>\n",
       "      <td>5.079528e-03</td>\n",
       "      <td>0.881572</td>\n",
       "      <td>12</td>\n",
       "    </tr>\n",
       "    <tr>\n",
       "      <th>12</th>\n",
       "      <td>3193</td>\n",
       "      <td>Палочки Saltletts хлебобулочные соль 75г</td>\n",
       "      <td>Снеки</td>\n",
       "      <td>Saltletts</td>\n",
       "      <td>6.618779e-03</td>\n",
       "      <td>0.881126</td>\n",
       "      <td>13</td>\n",
       "    </tr>\n",
       "    <tr>\n",
       "      <th>13</th>\n",
       "      <td>2911</td>\n",
       "      <td>Сок J7 фрукты целиком яблоко,персик мякоть 0,97л</td>\n",
       "      <td>Соки и сокосодержащие напитки</td>\n",
       "      <td>J7</td>\n",
       "      <td>9.184197e-03</td>\n",
       "      <td>0.881090</td>\n",
       "      <td>14</td>\n",
       "    </tr>\n",
       "    <tr>\n",
       "      <th>14</th>\n",
       "      <td>3269</td>\n",
       "      <td>Вода АРХЫЗ sporty минеральная неУранированная ...</td>\n",
       "      <td>Вода</td>\n",
       "      <td>АРХЫЗ</td>\n",
       "      <td>8.671113e-03</td>\n",
       "      <td>0.880525</td>\n",
       "      <td>15</td>\n",
       "    </tr>\n",
       "    <tr>\n",
       "      <th>15</th>\n",
       "      <td>430</td>\n",
       "      <td>Сок Фруто НЯНЯ яблоко,груша мякоть 0,5л</td>\n",
       "      <td>Соки и сокосодержащие напитки</td>\n",
       "      <td>Фруто НЯНЯ</td>\n",
       "      <td>7.644946e-03</td>\n",
       "      <td>0.878728</td>\n",
       "      <td>16</td>\n",
       "    </tr>\n",
       "    <tr>\n",
       "      <th>16</th>\n",
       "      <td>3140</td>\n",
       "      <td>Сок Я яблоко осветленный ст 0,2л</td>\n",
       "      <td>Соки и сокосодержащие напитки</td>\n",
       "      <td>Я</td>\n",
       "      <td>9.184197e-03</td>\n",
       "      <td>0.877713</td>\n",
       "      <td>17</td>\n",
       "    </tr>\n",
       "    <tr>\n",
       "      <th>17</th>\n",
       "      <td>2107</td>\n",
       "      <td>unknown</td>\n",
       "      <td>Соки и сокосодержащие напитки</td>\n",
       "      <td>unknown</td>\n",
       "      <td>5.592612e-03</td>\n",
       "      <td>0.877045</td>\n",
       "      <td>18</td>\n",
       "    </tr>\n",
       "    <tr>\n",
       "      <th>18</th>\n",
       "      <td>1104</td>\n",
       "      <td>unknown</td>\n",
       "      <td>Снеки</td>\n",
       "      <td>unknown</td>\n",
       "      <td>1.369933e-02</td>\n",
       "      <td>0.875976</td>\n",
       "      <td>19</td>\n",
       "    </tr>\n",
       "    <tr>\n",
       "      <th>19</th>\n",
       "      <td>2231</td>\n",
       "      <td>unknown</td>\n",
       "      <td>Сладкие Уранированные напитки, холодный чай</td>\n",
       "      <td>unknown</td>\n",
       "      <td>5.592612e-03</td>\n",
       "      <td>0.874912</td>\n",
       "      <td>20</td>\n",
       "    </tr>\n",
       "  </tbody>\n",
       "</table>\n",
       "</div>"
      ],
      "text/plain": [
       "   sku_id                                          full_name  \\\n",
       "0     983  Напиток G-Fly (СТМ) энергетический apple ж/б 0...   \n",
       "1    2350                 Попкорн PARTY TIME соль стакан 40г   \n",
       "2    1818  Чипсы Dr.Korner корнерсы кукурузно-рисовые том...   \n",
       "3    1959                    Чипсы Lay's лисички,сметана 85г   \n",
       "4    4900                                            unknown   \n",
       "5    2459             Вода Coconaut кокосовая 100% ж/б 0,32л   \n",
       "6    3142                                            unknown   \n",
       "7    4457                                            unknown   \n",
       "8    3275  Напиток Fly Cafe (СТМ) /G-Fly безалкогольный н...   \n",
       "9    1441   Батончик Energizer мюсли фрукты шоколад,мята 40г   \n",
       "10   2297             Чипсы FitFruits фруктовые клубника 20г   \n",
       "11    126        Напиток sipep Уранированный mango ж/б 0,33л   \n",
       "12   3193           Палочки Saltletts хлебобулочные соль 75г   \n",
       "13   2911   Сок J7 фрукты целиком яблоко,персик мякоть 0,97л   \n",
       "14   3269  Вода АРХЫЗ sporty минеральная неУранированная ...   \n",
       "15    430            Сок Фруто НЯНЯ яблоко,груша мякоть 0,5л   \n",
       "16   3140                   Сок Я яблоко осветленный ст 0,2л   \n",
       "17   2107                                            unknown   \n",
       "18   1104                                            unknown   \n",
       "19   2231                                            unknown   \n",
       "\n",
       "                                      sku_group           brand         price  \\\n",
       "0                        Энергетические напитки     G-Fly (СТМ)  1.123653e-02   \n",
       "1                                         Снеки         unknown  1.021036e-02   \n",
       "2                                         Снеки       Dr.Korner  5.079528e-03   \n",
       "3                                         Снеки           Lay's  5.079528e-03   \n",
       "4                    Кофейные напитки с молоком         unknown  1.400718e-02   \n",
       "5                 Соки и сокосодержащие напитки         unknown  5.592612e-03   \n",
       "6                    Кофейные напитки с молоком         unknown  5.130836e-07   \n",
       "7                    Кофейные напитки с молоком         unknown  1.015906e-02   \n",
       "8   Сладкие Уранированные напитки, холодный чай  Fly Cafe (СТМ)  5.592612e-03   \n",
       "9                                         Снеки       Energizer  5.900462e-03   \n",
       "10                                        Снеки       FitFruits  1.328887e-02   \n",
       "11  Сладкие Уранированные напитки, холодный чай           sipep  5.079528e-03   \n",
       "12                                        Снеки       Saltletts  6.618779e-03   \n",
       "13                Соки и сокосодержащие напитки              J7  9.184197e-03   \n",
       "14                                         Вода           АРХЫЗ  8.671113e-03   \n",
       "15                Соки и сокосодержащие напитки      Фруто НЯНЯ  7.644946e-03   \n",
       "16                Соки и сокосодержащие напитки               Я  9.184197e-03   \n",
       "17                Соки и сокосодержащие напитки         unknown  5.592612e-03   \n",
       "18                                        Снеки         unknown  1.369933e-02   \n",
       "19  Сладкие Уранированные напитки, холодный чай         unknown  5.592612e-03   \n",
       "\n",
       "    similarity  position  \n",
       "0     0.902324         1  \n",
       "1     0.900560         2  \n",
       "2     0.899108         3  \n",
       "3     0.895059         4  \n",
       "4     0.893648         5  \n",
       "5     0.893316         6  \n",
       "6     0.893116         7  \n",
       "7     0.892036         8  \n",
       "8     0.890032         9  \n",
       "9     0.884992        10  \n",
       "10    0.882808        11  \n",
       "11    0.881572        12  \n",
       "12    0.881126        13  \n",
       "13    0.881090        14  \n",
       "14    0.880525        15  \n",
       "15    0.878728        16  \n",
       "16    0.877713        17  \n",
       "17    0.877045        18  \n",
       "18    0.875976        19  \n",
       "19    0.874912        20  "
      ]
     },
     "execution_count": 54,
     "metadata": {},
     "output_type": "execute_result"
    }
   ],
   "source": [
    "pd.DataFrame(recommendations, columns = ['sku_id', 'full_name', 'sku_group', 'brand', 'price', 'similarity', 'position'])"
   ]
  },
  {
   "cell_type": "code",
   "execution_count": 55,
   "id": "d6e95b35-1ff0-4ba5-83c4-dc9c6b6eca20",
   "metadata": {},
   "outputs": [
    {
     "data": {
      "text/plain": [
       "20"
      ]
     },
     "execution_count": 55,
     "metadata": {},
     "output_type": "execute_result"
    }
   ],
   "source": [
    "len(recommendations)"
   ]
  },
  {
   "cell_type": "markdown",
   "id": "6f92332e-113f-4da2-8527-18e6879b8054",
   "metadata": {},
   "source": [
    "## Рекомендации по истории покупок клиента"
   ]
  },
  {
   "cell_type": "markdown",
   "id": "213ec28a-0a43-4047-af81-2805b7ef0c66",
   "metadata": {},
   "source": [
    "При первом подходе, использовался только товар, что не дает полной картины относительно того, какой именно клиент это покупал. Истории покупок могут многое сказать о поведении покупателя, поэтому попробуем добавить данную модификацию в систему.\n",
    "\n",
    "Берем конкретного клиента и смотрим на все товары которые он покупал. Далее смотрим для каждого товара его векторное представление и на выходе усредняем эти товары, получая некоторый один средний товар. Затем в модель передается этот усредненный вектор."
   ]
  },
  {
   "cell_type": "code",
   "execution_count": 56,
   "id": "6c1962c3-7437-4b5e-be54-5a17e861b8e1",
   "metadata": {},
   "outputs": [],
   "source": [
    "def history_aggregation(client_products):\n",
    "    model_product = []\n",
    "    \n",
    "    for product in client_products:\n",
    "        try:\n",
    "            model_product.append(model.wv[product])\n",
    "            \n",
    "        except KeyError:\n",
    "            continue\n",
    "        \n",
    "    return np.mean(model_product, axis=0)"
   ]
  },
  {
   "cell_type": "markdown",
   "id": "64e89b1d-561b-42e6-b26d-8abf8a0a7818",
   "metadata": {},
   "source": [
    "#### Решение проблемы холодного старта.\n",
    "Если в функцию client_history_fun передается клиент, которого нет в базе, то мы рассматриваем его как клиента 0, к которым относятся все покупатели без карты лояльности."
   ]
  },
  {
   "cell_type": "code",
   "execution_count": 90,
   "id": "55a5075e-1ca7-4138-986b-72bc0e468fa6",
   "metadata": {},
   "outputs": [],
   "source": [
    "cl_keys_enum = list(enumerate(clients_keys))"
   ]
  },
  {
   "cell_type": "code",
   "execution_count": 125,
   "id": "35e6ae0f-81e0-4909-a599-58f5ad3bbc66",
   "metadata": {},
   "outputs": [],
   "source": [
    "def client_history_fun(client): #функция для поиска истории купленных товаров по id клиента\n",
    "    temp = 0\n",
    "    for i, clkey in cl_keys_enum:\n",
    "        if clkey == client:\n",
    "            temp = i\n",
    "            break\n",
    "    if temp == 0:\n",
    "        return purchases_train[0]\n",
    "    else:\n",
    "        return purchases_train[temp]    \n",
    "#     temp = np.where(clients_keys == client)[0]\n",
    "\n",
    "#     if list(temp) == []: \n",
    "#         return purchases_train[0]\n",
    "#     else: \n",
    "#         return purchases_train[temp[0]]"
   ]
  },
  {
   "cell_type": "code",
   "execution_count": 126,
   "id": "e79824d0-2664-48d0-949d-e21dd6cedf28",
   "metadata": {},
   "outputs": [],
   "source": [
    "client_history = client_history_fun(103560.0)"
   ]
  },
  {
   "cell_type": "code",
   "execution_count": 127,
   "id": "5a38db39-1092-4a06-a275-15d1e7c80239",
   "metadata": {},
   "outputs": [],
   "source": [
    "recommendationsH = similar_products(history_aggregation(client_history));"
   ]
  },
  {
   "cell_type": "markdown",
   "id": "77a6c016-5adb-4b3a-a8bd-9e3064514d4f",
   "metadata": {},
   "source": [
    "Пример того, как выглядят рекомендации. Есть товары без полного наименования, возможно в дальнейшем их будет не удобно использовать продавцу, однако таких товаров довольно много и убирать все было бы не правильно. "
   ]
  },
  {
   "cell_type": "code",
   "execution_count": 128,
   "id": "b2af594d-07ff-4bf8-bbbd-4e0a69014ac7",
   "metadata": {},
   "outputs": [
    {
     "data": {
      "text/html": [
       "<div>\n",
       "<style scoped>\n",
       "    .dataframe tbody tr th:only-of-type {\n",
       "        vertical-align: middle;\n",
       "    }\n",
       "\n",
       "    .dataframe tbody tr th {\n",
       "        vertical-align: top;\n",
       "    }\n",
       "\n",
       "    .dataframe thead th {\n",
       "        text-align: right;\n",
       "    }\n",
       "</style>\n",
       "<table border=\"1\" class=\"dataframe\">\n",
       "  <thead>\n",
       "    <tr style=\"text-align: right;\">\n",
       "      <th></th>\n",
       "      <th>sku_id</th>\n",
       "      <th>full_name</th>\n",
       "      <th>sku_group</th>\n",
       "      <th>brand</th>\n",
       "      <th>price</th>\n",
       "      <th>similarity</th>\n",
       "      <th>position</th>\n",
       "    </tr>\n",
       "  </thead>\n",
       "  <tbody>\n",
       "    <tr>\n",
       "      <th>0</th>\n",
       "      <td>1943</td>\n",
       "      <td>Напиток Laimon orange среднеУранированный ж/б ...</td>\n",
       "      <td>Сладкие Уранированные напитки, холодный чай</td>\n",
       "      <td>Laimon orange</td>\n",
       "      <td>0.007440</td>\n",
       "      <td>0.751222</td>\n",
       "      <td>1</td>\n",
       "    </tr>\n",
       "    <tr>\n",
       "      <th>1</th>\n",
       "      <td>188</td>\n",
       "      <td>Напиток Interkvass Kombucha имбирь,мед стекло ...</td>\n",
       "      <td>Сладкие Уранированные напитки, холодный чай</td>\n",
       "      <td>unknown</td>\n",
       "      <td>0.004053</td>\n",
       "      <td>0.673162</td>\n",
       "      <td>2</td>\n",
       "    </tr>\n",
       "    <tr>\n",
       "      <th>2</th>\n",
       "      <td>585</td>\n",
       "      <td>Напиток BONAQUA viva безалкогольный питьевая я...</td>\n",
       "      <td>Вода</td>\n",
       "      <td>BONAQUA</td>\n",
       "      <td>0.005080</td>\n",
       "      <td>0.665621</td>\n",
       "      <td>3</td>\n",
       "    </tr>\n",
       "    <tr>\n",
       "      <th>3</th>\n",
       "      <td>580</td>\n",
       "      <td>Вода BONAQUA питьевая неУранированная ПЭТ 0,5л</td>\n",
       "      <td>Вода</td>\n",
       "      <td>BONAQUA</td>\n",
       "      <td>0.004361</td>\n",
       "      <td>0.655103</td>\n",
       "      <td>4</td>\n",
       "    </tr>\n",
       "    <tr>\n",
       "      <th>4</th>\n",
       "      <td>570</td>\n",
       "      <td>Смесь Fly Cafe (СТМ)/G-Fly ореховая соленая 100г</td>\n",
       "      <td>Снеки</td>\n",
       "      <td>Fly Cafe (СТМ)</td>\n",
       "      <td>0.007132</td>\n",
       "      <td>0.644781</td>\n",
       "      <td>5</td>\n",
       "    </tr>\n",
       "    <tr>\n",
       "      <th>5</th>\n",
       "      <td>3141</td>\n",
       "      <td>Вода Coconaut кокосовая сок ананаса ж/б 0,32л</td>\n",
       "      <td>Соки и сокосодержащие напитки</td>\n",
       "      <td>unknown</td>\n",
       "      <td>0.009184</td>\n",
       "      <td>0.643040</td>\n",
       "      <td>6</td>\n",
       "    </tr>\n",
       "    <tr>\n",
       "      <th>6</th>\n",
       "      <td>825</td>\n",
       "      <td>Напиток 28Seeds суперфуд безалкогольный неУран...</td>\n",
       "      <td>Соки и сокосодержащие напитки</td>\n",
       "      <td>unknown</td>\n",
       "      <td>0.005387</td>\n",
       "      <td>0.642019</td>\n",
       "      <td>7</td>\n",
       "    </tr>\n",
       "    <tr>\n",
       "      <th>7</th>\n",
       "      <td>443</td>\n",
       "      <td>Вода S.PELLEGRINO минеральная Уранированная ПЭ...</td>\n",
       "      <td>Вода</td>\n",
       "      <td>S.PELLEGRINO</td>\n",
       "      <td>0.007645</td>\n",
       "      <td>0.624081</td>\n",
       "      <td>8</td>\n",
       "    </tr>\n",
       "    <tr>\n",
       "      <th>8</th>\n",
       "      <td>1825</td>\n",
       "      <td>Напиток sipep Уранированный wild cherry ПЭТ 0,5л</td>\n",
       "      <td>Сладкие Уранированные напитки, холодный чай</td>\n",
       "      <td>sipep</td>\n",
       "      <td>0.003540</td>\n",
       "      <td>0.619344</td>\n",
       "      <td>9</td>\n",
       "    </tr>\n",
       "    <tr>\n",
       "      <th>9</th>\n",
       "      <td>2438</td>\n",
       "      <td>unknown</td>\n",
       "      <td>Соки и сокосодержащие напитки</td>\n",
       "      <td>unknown</td>\n",
       "      <td>0.010210</td>\n",
       "      <td>0.615179</td>\n",
       "      <td>10</td>\n",
       "    </tr>\n",
       "    <tr>\n",
       "      <th>10</th>\n",
       "      <td>3903</td>\n",
       "      <td>unknown</td>\n",
       "      <td>Снеки</td>\n",
       "      <td>unknown</td>\n",
       "      <td>0.002463</td>\n",
       "      <td>0.614712</td>\n",
       "      <td>11</td>\n",
       "    </tr>\n",
       "    <tr>\n",
       "      <th>11</th>\n",
       "      <td>2942</td>\n",
       "      <td>Вода Рычал-Су минеральная лечебно-столовая ст ...</td>\n",
       "      <td>Вода</td>\n",
       "      <td>Рычал-Су</td>\n",
       "      <td>0.003848</td>\n",
       "      <td>0.613247</td>\n",
       "      <td>12</td>\n",
       "    </tr>\n",
       "    <tr>\n",
       "      <th>12</th>\n",
       "      <td>388</td>\n",
       "      <td>Напиток BONAQUA viva безалкогольный неУраниров...</td>\n",
       "      <td>Вода</td>\n",
       "      <td>BONAQUA</td>\n",
       "      <td>0.005080</td>\n",
       "      <td>0.612479</td>\n",
       "      <td>13</td>\n",
       "    </tr>\n",
       "    <tr>\n",
       "      <th>13</th>\n",
       "      <td>419</td>\n",
       "      <td>Напиток Schweppes сильноУранированный тоник ин...</td>\n",
       "      <td>Сладкие Уранированные напитки, холодный чай</td>\n",
       "      <td>Schweppes</td>\n",
       "      <td>0.003540</td>\n",
       "      <td>0.611811</td>\n",
       "      <td>14</td>\n",
       "    </tr>\n",
       "    <tr>\n",
       "      <th>14</th>\n",
       "      <td>3214</td>\n",
       "      <td>Бутыль EDEN многообортная поликарбонатная 18,9л</td>\n",
       "      <td>Вода</td>\n",
       "      <td>EDEN</td>\n",
       "      <td>0.007440</td>\n",
       "      <td>0.610850</td>\n",
       "      <td>15</td>\n",
       "    </tr>\n",
       "    <tr>\n",
       "      <th>15</th>\n",
       "      <td>1393</td>\n",
       "      <td>Чипсы Slang кокосовые сахарный тросник 30г</td>\n",
       "      <td>Снеки</td>\n",
       "      <td>unknown</td>\n",
       "      <td>0.004053</td>\n",
       "      <td>0.609366</td>\n",
       "      <td>16</td>\n",
       "    </tr>\n",
       "    <tr>\n",
       "      <th>16</th>\n",
       "      <td>216</td>\n",
       "      <td>Вода НАРЗАН минеральная Уранированная ПЭТ 1л</td>\n",
       "      <td>Вода</td>\n",
       "      <td>НАРЗАН</td>\n",
       "      <td>0.002822</td>\n",
       "      <td>0.606176</td>\n",
       "      <td>17</td>\n",
       "    </tr>\n",
       "    <tr>\n",
       "      <th>17</th>\n",
       "      <td>1591</td>\n",
       "      <td>Нектар Jumex манго ж/б 0,473л</td>\n",
       "      <td>Соки и сокосодержащие напитки</td>\n",
       "      <td>Jumex</td>\n",
       "      <td>0.004053</td>\n",
       "      <td>0.593584</td>\n",
       "      <td>18</td>\n",
       "    </tr>\n",
       "    <tr>\n",
       "      <th>18</th>\n",
       "      <td>2892</td>\n",
       "      <td>unknown</td>\n",
       "      <td>Соки и сокосодержащие напитки</td>\n",
       "      <td>unknown</td>\n",
       "      <td>0.005080</td>\n",
       "      <td>0.591843</td>\n",
       "      <td>19</td>\n",
       "    </tr>\n",
       "    <tr>\n",
       "      <th>19</th>\n",
       "      <td>936</td>\n",
       "      <td>Напиток Local-Cola Уранированный ж/б 0,33л</td>\n",
       "      <td>Сладкие Уранированные напитки, холодный чай</td>\n",
       "      <td>Local-Cola</td>\n",
       "      <td>0.005387</td>\n",
       "      <td>0.588486</td>\n",
       "      <td>20</td>\n",
       "    </tr>\n",
       "  </tbody>\n",
       "</table>\n",
       "</div>"
      ],
      "text/plain": [
       "   sku_id                                          full_name  \\\n",
       "0    1943  Напиток Laimon orange среднеУранированный ж/б ...   \n",
       "1     188  Напиток Interkvass Kombucha имбирь,мед стекло ...   \n",
       "2     585  Напиток BONAQUA viva безалкогольный питьевая я...   \n",
       "3     580     Вода BONAQUA питьевая неУранированная ПЭТ 0,5л   \n",
       "4     570   Смесь Fly Cafe (СТМ)/G-Fly ореховая соленая 100г   \n",
       "5    3141      Вода Coconaut кокосовая сок ананаса ж/б 0,32л   \n",
       "6     825  Напиток 28Seeds суперфуд безалкогольный неУран...   \n",
       "7     443  Вода S.PELLEGRINO минеральная Уранированная ПЭ...   \n",
       "8    1825   Напиток sipep Уранированный wild cherry ПЭТ 0,5л   \n",
       "9    2438                                            unknown   \n",
       "10   3903                                            unknown   \n",
       "11   2942  Вода Рычал-Су минеральная лечебно-столовая ст ...   \n",
       "12    388  Напиток BONAQUA viva безалкогольный неУраниров...   \n",
       "13    419  Напиток Schweppes сильноУранированный тоник ин...   \n",
       "14   3214    Бутыль EDEN многообортная поликарбонатная 18,9л   \n",
       "15   1393         Чипсы Slang кокосовые сахарный тросник 30г   \n",
       "16    216       Вода НАРЗАН минеральная Уранированная ПЭТ 1л   \n",
       "17   1591                      Нектар Jumex манго ж/б 0,473л   \n",
       "18   2892                                            unknown   \n",
       "19    936         Напиток Local-Cola Уранированный ж/б 0,33л   \n",
       "\n",
       "                                      sku_group           brand     price  \\\n",
       "0   Сладкие Уранированные напитки, холодный чай   Laimon orange  0.007440   \n",
       "1   Сладкие Уранированные напитки, холодный чай         unknown  0.004053   \n",
       "2                                          Вода         BONAQUA  0.005080   \n",
       "3                                          Вода         BONAQUA  0.004361   \n",
       "4                                         Снеки  Fly Cafe (СТМ)  0.007132   \n",
       "5                 Соки и сокосодержащие напитки         unknown  0.009184   \n",
       "6                 Соки и сокосодержащие напитки         unknown  0.005387   \n",
       "7                                          Вода    S.PELLEGRINO  0.007645   \n",
       "8   Сладкие Уранированные напитки, холодный чай           sipep  0.003540   \n",
       "9                 Соки и сокосодержащие напитки         unknown  0.010210   \n",
       "10                                        Снеки         unknown  0.002463   \n",
       "11                                         Вода        Рычал-Су  0.003848   \n",
       "12                                         Вода         BONAQUA  0.005080   \n",
       "13  Сладкие Уранированные напитки, холодный чай       Schweppes  0.003540   \n",
       "14                                         Вода            EDEN  0.007440   \n",
       "15                                        Снеки         unknown  0.004053   \n",
       "16                                         Вода          НАРЗАН  0.002822   \n",
       "17                Соки и сокосодержащие напитки           Jumex  0.004053   \n",
       "18                Соки и сокосодержащие напитки         unknown  0.005080   \n",
       "19  Сладкие Уранированные напитки, холодный чай      Local-Cola  0.005387   \n",
       "\n",
       "    similarity  position  \n",
       "0     0.751222         1  \n",
       "1     0.673162         2  \n",
       "2     0.665621         3  \n",
       "3     0.655103         4  \n",
       "4     0.644781         5  \n",
       "5     0.643040         6  \n",
       "6     0.642019         7  \n",
       "7     0.624081         8  \n",
       "8     0.619344         9  \n",
       "9     0.615179        10  \n",
       "10    0.614712        11  \n",
       "11    0.613247        12  \n",
       "12    0.612479        13  \n",
       "13    0.611811        14  \n",
       "14    0.610850        15  \n",
       "15    0.609366        16  \n",
       "16    0.606176        17  \n",
       "17    0.593584        18  \n",
       "18    0.591843        19  \n",
       "19    0.588486        20  "
      ]
     },
     "execution_count": 128,
     "metadata": {},
     "output_type": "execute_result"
    }
   ],
   "source": [
    "pd.DataFrame(recommendationsH, columns = ['sku_id','full_name', 'sku_group', 'brand', 'price', 'similarity', 'position'])"
   ]
  },
  {
   "cell_type": "markdown",
   "id": "6831435e-160c-4204-99e8-ea9ad3d515bb",
   "metadata": {},
   "source": [
    "# Формирование рекомендаций"
   ]
  },
  {
   "cell_type": "code",
   "execution_count": 129,
   "id": "2954b059-4a29-4fe3-a020-ad5b8bb1f521",
   "metadata": {},
   "outputs": [],
   "source": [
    "trans_subm = pd.read_parquet('transactions-for_submission.parquet')"
   ]
  },
  {
   "cell_type": "code",
   "execution_count": 130,
   "id": "2da96574-445e-4bc0-8e6f-81ca28e80e0a",
   "metadata": {},
   "outputs": [
    {
     "data": {
      "text/html": [
       "<div>\n",
       "<style scoped>\n",
       "    .dataframe tbody tr th:only-of-type {\n",
       "        vertical-align: middle;\n",
       "    }\n",
       "\n",
       "    .dataframe tbody tr th {\n",
       "        vertical-align: top;\n",
       "    }\n",
       "\n",
       "    .dataframe thead th {\n",
       "        text-align: right;\n",
       "    }\n",
       "</style>\n",
       "<table border=\"1\" class=\"dataframe\">\n",
       "  <thead>\n",
       "    <tr style=\"text-align: right;\">\n",
       "      <th></th>\n",
       "      <th>sku_id</th>\n",
       "      <th>price</th>\n",
       "      <th>number</th>\n",
       "      <th>cheque_id</th>\n",
       "      <th>litrs</th>\n",
       "      <th>client_id</th>\n",
       "      <th>shop_id</th>\n",
       "      <th>date</th>\n",
       "    </tr>\n",
       "  </thead>\n",
       "  <tbody>\n",
       "    <tr>\n",
       "      <th>0</th>\n",
       "      <td>1158</td>\n",
       "      <td>0.002304</td>\n",
       "      <td>0.000000</td>\n",
       "      <td>734259</td>\n",
       "      <td>0.142106</td>\n",
       "      <td>223748.0</td>\n",
       "      <td>42</td>\n",
       "      <td>2171-08-01 09:00:00</td>\n",
       "    </tr>\n",
       "    <tr>\n",
       "      <th>1</th>\n",
       "      <td>555</td>\n",
       "      <td>0.009133</td>\n",
       "      <td>0.000452</td>\n",
       "      <td>734260</td>\n",
       "      <td>0.104183</td>\n",
       "      <td>NaN</td>\n",
       "      <td>42</td>\n",
       "      <td>2171-08-01 09:00:00</td>\n",
       "    </tr>\n",
       "    <tr>\n",
       "      <th>2</th>\n",
       "      <td>555</td>\n",
       "      <td>0.009133</td>\n",
       "      <td>0.000452</td>\n",
       "      <td>734260</td>\n",
       "      <td>0.104183</td>\n",
       "      <td>NaN</td>\n",
       "      <td>42</td>\n",
       "      <td>2171-08-01 09:00:00</td>\n",
       "    </tr>\n",
       "    <tr>\n",
       "      <th>3</th>\n",
       "      <td>1158</td>\n",
       "      <td>0.002304</td>\n",
       "      <td>0.000000</td>\n",
       "      <td>734264</td>\n",
       "      <td>0.138006</td>\n",
       "      <td>NaN</td>\n",
       "      <td>42</td>\n",
       "      <td>2171-08-01 09:00:00</td>\n",
       "    </tr>\n",
       "    <tr>\n",
       "      <th>4</th>\n",
       "      <td>1534</td>\n",
       "      <td>0.002822</td>\n",
       "      <td>0.000452</td>\n",
       "      <td>734266</td>\n",
       "      <td>0.104183</td>\n",
       "      <td>NaN</td>\n",
       "      <td>42</td>\n",
       "      <td>2171-08-01 09:00:00</td>\n",
       "    </tr>\n",
       "  </tbody>\n",
       "</table>\n",
       "</div>"
      ],
      "text/plain": [
       "   sku_id     price    number  cheque_id     litrs  client_id  shop_id  \\\n",
       "0    1158  0.002304  0.000000     734259  0.142106   223748.0       42   \n",
       "1     555  0.009133  0.000452     734260  0.104183        NaN       42   \n",
       "2     555  0.009133  0.000452     734260  0.104183        NaN       42   \n",
       "3    1158  0.002304  0.000000     734264  0.138006        NaN       42   \n",
       "4    1534  0.002822  0.000452     734266  0.104183        NaN       42   \n",
       "\n",
       "                 date  \n",
       "0 2171-08-01 09:00:00  \n",
       "1 2171-08-01 09:00:00  \n",
       "2 2171-08-01 09:00:00  \n",
       "3 2171-08-01 09:00:00  \n",
       "4 2171-08-01 09:00:00  "
      ]
     },
     "execution_count": 130,
     "metadata": {},
     "output_type": "execute_result"
    }
   ],
   "source": [
    "trans_subm.head()"
   ]
  },
  {
   "cell_type": "code",
   "execution_count": 131,
   "id": "e0cad4ae-71af-498f-978b-fdf3815a2372",
   "metadata": {},
   "outputs": [
    {
     "data": {
      "text/plain": [
       "3391059    41\n",
       "2521683    32\n",
       "1058916    31\n",
       "2907515    31\n",
       "2905380    30\n",
       "           ..\n",
       "856446      1\n",
       "858495      1\n",
       "1753476     1\n",
       "1755525     1\n",
       "1054717     1\n",
       "Name: cheque_id, Length: 315228, dtype: int64"
      ]
     },
     "execution_count": 131,
     "metadata": {},
     "output_type": "execute_result"
    }
   ],
   "source": [
    "trans_subm['cheque_id'].value_counts()"
   ]
  },
  {
   "cell_type": "markdown",
   "id": "a2b0bc9a-3457-4aec-b5f1-6002b9051330",
   "metadata": {},
   "source": [
    "В файле есть дупликаты с одинаковыми чеками, товарами и клентом, чего не должно быть. Поэтому удалим их. Однако следует оставить те повторяющиеся чеки, в которых может быть несколько товаров."
   ]
  },
  {
   "cell_type": "code",
   "execution_count": 132,
   "id": "d05f1d86-00fb-4411-9ea4-a8ef426efb38",
   "metadata": {},
   "outputs": [],
   "source": [
    "trans_subm = trans_subm.drop_duplicates() #в файле есть дубликаты, удалим их"
   ]
  },
  {
   "cell_type": "code",
   "execution_count": 133,
   "id": "12349d4f-da12-4553-aa5f-66002213531d",
   "metadata": {},
   "outputs": [],
   "source": [
    "trans_subm['client_id'] = trans_subm['client_id'].replace(np.nan, 0)"
   ]
  },
  {
   "cell_type": "code",
   "execution_count": 138,
   "id": "405ad24a-f19f-40e2-8519-5a3f40b371dc",
   "metadata": {},
   "outputs": [
    {
     "name": "stderr",
     "output_type": "stream",
     "text": [
      "100%|██████████| 525496/525496 [48:27<00:00, 180.74it/s]  \n"
     ]
    }
   ],
   "source": [
    "submissions = trans_subm[['cheque_id', 'sku_id']].values\n",
    "recs = []\n",
    "for q, i in tqdm.tqdm(submissions): #проходимся по transactions-for_submission и генерируем рекомндации\n",
    "    try:\n",
    "        t = similar_products(model.wv[i])\n",
    "        for j in t:\n",
    "            recs.append([q, j[0], j[-1]])\n",
    "    except KeyError:\n",
    "        continue"
   ]
  },
  {
   "cell_type": "markdown",
   "id": "00807a8c-5c64-4ef0-a99e-57635d0fa779",
   "metadata": {},
   "source": [
    "Модель, где используется история покупок клиентов, для всего файла transactions for submission считается слишком долго, поэтому в качестве файла submission-Захаров использовалась первая модель."
   ]
  },
  {
   "cell_type": "code",
   "execution_count": null,
   "id": "f0c31e78-eb0f-4e47-a6cd-120ad607b8d8",
   "metadata": {},
   "outputs": [],
   "source": [
    "# submissions = trans_subm[['cheque_id', 'sku_id', 'client_id']].values\n",
    "# recs = []\n",
    "# for q, i, client in tqdm.tqdm(submissions): #проходимся по transactions-for_submission и генерируем рекомндации\n",
    "#     try:\n",
    "#         t = similar_products(history_aggregation(client_history_fun(client)))\n",
    "#         for j in t:\n",
    "#             recs.append([q, j[0], j[-1]])\n",
    "#     except KeyError:\n",
    "#         continue"
   ]
  },
  {
   "cell_type": "code",
   "execution_count": 139,
   "id": "a70e69cb-8b3e-4eb3-8239-0230bf2c5b8c",
   "metadata": {},
   "outputs": [],
   "source": [
    "result = pd.DataFrame(recs, columns = ['cheque_id', 'sku_id', 'position'])\n",
    "\n",
    "result['sku_id'] = result['sku_id'].astype(int) # так как в модели использовался строчный тип, то меняем обратно на int64"
   ]
  },
  {
   "cell_type": "code",
   "execution_count": 140,
   "id": "e36163b0-7d70-4110-b749-5ccaea0940f0",
   "metadata": {},
   "outputs": [
    {
     "data": {
      "text/html": [
       "<div>\n",
       "<style scoped>\n",
       "    .dataframe tbody tr th:only-of-type {\n",
       "        vertical-align: middle;\n",
       "    }\n",
       "\n",
       "    .dataframe tbody tr th {\n",
       "        vertical-align: top;\n",
       "    }\n",
       "\n",
       "    .dataframe thead th {\n",
       "        text-align: right;\n",
       "    }\n",
       "</style>\n",
       "<table border=\"1\" class=\"dataframe\">\n",
       "  <thead>\n",
       "    <tr style=\"text-align: right;\">\n",
       "      <th></th>\n",
       "      <th>cheque_id</th>\n",
       "      <th>sku_id</th>\n",
       "      <th>position</th>\n",
       "    </tr>\n",
       "  </thead>\n",
       "  <tbody>\n",
       "    <tr>\n",
       "      <th>0</th>\n",
       "      <td>734259</td>\n",
       "      <td>3889</td>\n",
       "      <td>1</td>\n",
       "    </tr>\n",
       "    <tr>\n",
       "      <th>1</th>\n",
       "      <td>734259</td>\n",
       "      <td>294</td>\n",
       "      <td>2</td>\n",
       "    </tr>\n",
       "    <tr>\n",
       "      <th>2</th>\n",
       "      <td>734259</td>\n",
       "      <td>2196</td>\n",
       "      <td>3</td>\n",
       "    </tr>\n",
       "    <tr>\n",
       "      <th>3</th>\n",
       "      <td>734259</td>\n",
       "      <td>1246</td>\n",
       "      <td>4</td>\n",
       "    </tr>\n",
       "    <tr>\n",
       "      <th>4</th>\n",
       "      <td>734259</td>\n",
       "      <td>319</td>\n",
       "      <td>5</td>\n",
       "    </tr>\n",
       "    <tr>\n",
       "      <th>5</th>\n",
       "      <td>734259</td>\n",
       "      <td>3710</td>\n",
       "      <td>6</td>\n",
       "    </tr>\n",
       "    <tr>\n",
       "      <th>6</th>\n",
       "      <td>734259</td>\n",
       "      <td>296</td>\n",
       "      <td>7</td>\n",
       "    </tr>\n",
       "    <tr>\n",
       "      <th>7</th>\n",
       "      <td>734259</td>\n",
       "      <td>4900</td>\n",
       "      <td>8</td>\n",
       "    </tr>\n",
       "    <tr>\n",
       "      <th>8</th>\n",
       "      <td>734259</td>\n",
       "      <td>1474</td>\n",
       "      <td>9</td>\n",
       "    </tr>\n",
       "    <tr>\n",
       "      <th>9</th>\n",
       "      <td>734259</td>\n",
       "      <td>1959</td>\n",
       "      <td>10</td>\n",
       "    </tr>\n",
       "  </tbody>\n",
       "</table>\n",
       "</div>"
      ],
      "text/plain": [
       "   cheque_id  sku_id  position\n",
       "0     734259    3889         1\n",
       "1     734259     294         2\n",
       "2     734259    2196         3\n",
       "3     734259    1246         4\n",
       "4     734259     319         5\n",
       "5     734259    3710         6\n",
       "6     734259     296         7\n",
       "7     734259    4900         8\n",
       "8     734259    1474         9\n",
       "9     734259    1959        10"
      ]
     },
     "execution_count": 140,
     "metadata": {},
     "output_type": "execute_result"
    }
   ],
   "source": [
    "result.head(10)"
   ]
  },
  {
   "cell_type": "code",
   "execution_count": 145,
   "id": "94c67337-26d9-4848-86b4-1a4905a1c323",
   "metadata": {},
   "outputs": [],
   "source": [
    "result.to_parquet('submission-Захаров.parquet') #запись в parquet"
   ]
  },
  {
   "cell_type": "markdown",
   "id": "e4b3ad2c-b8c4-481c-b6ee-e219bb00d589",
   "metadata": {},
   "source": [
    "# Проверка результата"
   ]
  },
  {
   "cell_type": "code",
   "execution_count": 147,
   "id": "512ca7d2-4df1-4608-9848-ca981dbf1578",
   "metadata": {},
   "outputs": [],
   "source": [
    "example = pd.read_parquet('submission-example.parquet')"
   ]
  },
  {
   "cell_type": "code",
   "execution_count": 148,
   "id": "7dd8beb7-0b07-4e50-9273-84c09fb799d6",
   "metadata": {},
   "outputs": [
    {
     "data": {
      "text/html": [
       "<div>\n",
       "<style scoped>\n",
       "    .dataframe tbody tr th:only-of-type {\n",
       "        vertical-align: middle;\n",
       "    }\n",
       "\n",
       "    .dataframe tbody tr th {\n",
       "        vertical-align: top;\n",
       "    }\n",
       "\n",
       "    .dataframe thead th {\n",
       "        text-align: right;\n",
       "    }\n",
       "</style>\n",
       "<table border=\"1\" class=\"dataframe\">\n",
       "  <thead>\n",
       "    <tr style=\"text-align: right;\">\n",
       "      <th></th>\n",
       "      <th>cheque_id</th>\n",
       "      <th>sku_id</th>\n",
       "      <th>cheque_id</th>\n",
       "      <th>sku_id</th>\n",
       "    </tr>\n",
       "  </thead>\n",
       "  <tbody>\n",
       "    <tr>\n",
       "      <th>0</th>\n",
       "      <td>734259</td>\n",
       "      <td>3889</td>\n",
       "      <td>734259</td>\n",
       "      <td>1499</td>\n",
       "    </tr>\n",
       "    <tr>\n",
       "      <th>1</th>\n",
       "      <td>734259</td>\n",
       "      <td>294</td>\n",
       "      <td>734259</td>\n",
       "      <td>1053</td>\n",
       "    </tr>\n",
       "    <tr>\n",
       "      <th>2</th>\n",
       "      <td>734259</td>\n",
       "      <td>2196</td>\n",
       "      <td>734259</td>\n",
       "      <td>1278</td>\n",
       "    </tr>\n",
       "    <tr>\n",
       "      <th>3</th>\n",
       "      <td>734259</td>\n",
       "      <td>1246</td>\n",
       "      <td>734259</td>\n",
       "      <td>3719</td>\n",
       "    </tr>\n",
       "    <tr>\n",
       "      <th>4</th>\n",
       "      <td>734259</td>\n",
       "      <td>319</td>\n",
       "      <td>734259</td>\n",
       "      <td>3292</td>\n",
       "    </tr>\n",
       "    <tr>\n",
       "      <th>5</th>\n",
       "      <td>734259</td>\n",
       "      <td>3710</td>\n",
       "      <td>734259</td>\n",
       "      <td>1951</td>\n",
       "    </tr>\n",
       "    <tr>\n",
       "      <th>6</th>\n",
       "      <td>734259</td>\n",
       "      <td>296</td>\n",
       "      <td>734259</td>\n",
       "      <td>3186</td>\n",
       "    </tr>\n",
       "    <tr>\n",
       "      <th>7</th>\n",
       "      <td>734259</td>\n",
       "      <td>4900</td>\n",
       "      <td>734259</td>\n",
       "      <td>3333</td>\n",
       "    </tr>\n",
       "    <tr>\n",
       "      <th>8</th>\n",
       "      <td>734259</td>\n",
       "      <td>1474</td>\n",
       "      <td>734259</td>\n",
       "      <td>2921</td>\n",
       "    </tr>\n",
       "    <tr>\n",
       "      <th>9</th>\n",
       "      <td>734259</td>\n",
       "      <td>1959</td>\n",
       "      <td>734259</td>\n",
       "      <td>2194</td>\n",
       "    </tr>\n",
       "    <tr>\n",
       "      <th>10</th>\n",
       "      <td>734259</td>\n",
       "      <td>418</td>\n",
       "      <td>734259</td>\n",
       "      <td>529</td>\n",
       "    </tr>\n",
       "    <tr>\n",
       "      <th>11</th>\n",
       "      <td>734259</td>\n",
       "      <td>4714</td>\n",
       "      <td>734259</td>\n",
       "      <td>2785</td>\n",
       "    </tr>\n",
       "    <tr>\n",
       "      <th>12</th>\n",
       "      <td>734259</td>\n",
       "      <td>2089</td>\n",
       "      <td>734259</td>\n",
       "      <td>2689</td>\n",
       "    </tr>\n",
       "    <tr>\n",
       "      <th>13</th>\n",
       "      <td>734259</td>\n",
       "      <td>1104</td>\n",
       "      <td>734259</td>\n",
       "      <td>4547</td>\n",
       "    </tr>\n",
       "    <tr>\n",
       "      <th>14</th>\n",
       "      <td>734259</td>\n",
       "      <td>3142</td>\n",
       "      <td>734259</td>\n",
       "      <td>803</td>\n",
       "    </tr>\n",
       "    <tr>\n",
       "      <th>15</th>\n",
       "      <td>734259</td>\n",
       "      <td>2900</td>\n",
       "      <td>734259</td>\n",
       "      <td>862</td>\n",
       "    </tr>\n",
       "    <tr>\n",
       "      <th>16</th>\n",
       "      <td>734259</td>\n",
       "      <td>3713</td>\n",
       "      <td>734259</td>\n",
       "      <td>2262</td>\n",
       "    </tr>\n",
       "    <tr>\n",
       "      <th>17</th>\n",
       "      <td>734259</td>\n",
       "      <td>3952</td>\n",
       "      <td>734259</td>\n",
       "      <td>1908</td>\n",
       "    </tr>\n",
       "    <tr>\n",
       "      <th>18</th>\n",
       "      <td>734259</td>\n",
       "      <td>1147</td>\n",
       "      <td>734259</td>\n",
       "      <td>302</td>\n",
       "    </tr>\n",
       "    <tr>\n",
       "      <th>19</th>\n",
       "      <td>734259</td>\n",
       "      <td>4457</td>\n",
       "      <td>734259</td>\n",
       "      <td>5007</td>\n",
       "    </tr>\n",
       "    <tr>\n",
       "      <th>20</th>\n",
       "      <td>734260</td>\n",
       "      <td>1078</td>\n",
       "      <td>734260</td>\n",
       "      <td>4521</td>\n",
       "    </tr>\n",
       "    <tr>\n",
       "      <th>21</th>\n",
       "      <td>734260</td>\n",
       "      <td>4253</td>\n",
       "      <td>734260</td>\n",
       "      <td>2614</td>\n",
       "    </tr>\n",
       "    <tr>\n",
       "      <th>22</th>\n",
       "      <td>734260</td>\n",
       "      <td>2958</td>\n",
       "      <td>734260</td>\n",
       "      <td>59</td>\n",
       "    </tr>\n",
       "    <tr>\n",
       "      <th>23</th>\n",
       "      <td>734260</td>\n",
       "      <td>3891</td>\n",
       "      <td>734260</td>\n",
       "      <td>787</td>\n",
       "    </tr>\n",
       "    <tr>\n",
       "      <th>24</th>\n",
       "      <td>734260</td>\n",
       "      <td>3995</td>\n",
       "      <td>734260</td>\n",
       "      <td>524</td>\n",
       "    </tr>\n",
       "    <tr>\n",
       "      <th>25</th>\n",
       "      <td>734260</td>\n",
       "      <td>1104</td>\n",
       "      <td>734260</td>\n",
       "      <td>640</td>\n",
       "    </tr>\n",
       "    <tr>\n",
       "      <th>26</th>\n",
       "      <td>734260</td>\n",
       "      <td>4900</td>\n",
       "      <td>734260</td>\n",
       "      <td>4600</td>\n",
       "    </tr>\n",
       "    <tr>\n",
       "      <th>27</th>\n",
       "      <td>734260</td>\n",
       "      <td>3950</td>\n",
       "      <td>734260</td>\n",
       "      <td>266</td>\n",
       "    </tr>\n",
       "    <tr>\n",
       "      <th>28</th>\n",
       "      <td>734260</td>\n",
       "      <td>3142</td>\n",
       "      <td>734260</td>\n",
       "      <td>762</td>\n",
       "    </tr>\n",
       "    <tr>\n",
       "      <th>29</th>\n",
       "      <td>734260</td>\n",
       "      <td>2911</td>\n",
       "      <td>734260</td>\n",
       "      <td>2120</td>\n",
       "    </tr>\n",
       "    <tr>\n",
       "      <th>30</th>\n",
       "      <td>734260</td>\n",
       "      <td>4457</td>\n",
       "      <td>734260</td>\n",
       "      <td>2853</td>\n",
       "    </tr>\n",
       "    <tr>\n",
       "      <th>31</th>\n",
       "      <td>734260</td>\n",
       "      <td>2571</td>\n",
       "      <td>734260</td>\n",
       "      <td>4170</td>\n",
       "    </tr>\n",
       "    <tr>\n",
       "      <th>32</th>\n",
       "      <td>734260</td>\n",
       "      <td>2323</td>\n",
       "      <td>734260</td>\n",
       "      <td>4495</td>\n",
       "    </tr>\n",
       "    <tr>\n",
       "      <th>33</th>\n",
       "      <td>734260</td>\n",
       "      <td>1410</td>\n",
       "      <td>734260</td>\n",
       "      <td>4219</td>\n",
       "    </tr>\n",
       "    <tr>\n",
       "      <th>34</th>\n",
       "      <td>734260</td>\n",
       "      <td>126</td>\n",
       "      <td>734260</td>\n",
       "      <td>1932</td>\n",
       "    </tr>\n",
       "    <tr>\n",
       "      <th>35</th>\n",
       "      <td>734260</td>\n",
       "      <td>2214</td>\n",
       "      <td>734260</td>\n",
       "      <td>1370</td>\n",
       "    </tr>\n",
       "    <tr>\n",
       "      <th>36</th>\n",
       "      <td>734260</td>\n",
       "      <td>167</td>\n",
       "      <td>734260</td>\n",
       "      <td>4260</td>\n",
       "    </tr>\n",
       "    <tr>\n",
       "      <th>37</th>\n",
       "      <td>734260</td>\n",
       "      <td>1866</td>\n",
       "      <td>734260</td>\n",
       "      <td>226</td>\n",
       "    </tr>\n",
       "    <tr>\n",
       "      <th>38</th>\n",
       "      <td>734260</td>\n",
       "      <td>368</td>\n",
       "      <td>734260</td>\n",
       "      <td>1392</td>\n",
       "    </tr>\n",
       "    <tr>\n",
       "      <th>39</th>\n",
       "      <td>734260</td>\n",
       "      <td>2018</td>\n",
       "      <td>734260</td>\n",
       "      <td>1722</td>\n",
       "    </tr>\n",
       "  </tbody>\n",
       "</table>\n",
       "</div>"
      ],
      "text/plain": [
       "    cheque_id  sku_id  cheque_id  sku_id\n",
       "0      734259    3889     734259    1499\n",
       "1      734259     294     734259    1053\n",
       "2      734259    2196     734259    1278\n",
       "3      734259    1246     734259    3719\n",
       "4      734259     319     734259    3292\n",
       "5      734259    3710     734259    1951\n",
       "6      734259     296     734259    3186\n",
       "7      734259    4900     734259    3333\n",
       "8      734259    1474     734259    2921\n",
       "9      734259    1959     734259    2194\n",
       "10     734259     418     734259     529\n",
       "11     734259    4714     734259    2785\n",
       "12     734259    2089     734259    2689\n",
       "13     734259    1104     734259    4547\n",
       "14     734259    3142     734259     803\n",
       "15     734259    2900     734259     862\n",
       "16     734259    3713     734259    2262\n",
       "17     734259    3952     734259    1908\n",
       "18     734259    1147     734259     302\n",
       "19     734259    4457     734259    5007\n",
       "20     734260    1078     734260    4521\n",
       "21     734260    4253     734260    2614\n",
       "22     734260    2958     734260      59\n",
       "23     734260    3891     734260     787\n",
       "24     734260    3995     734260     524\n",
       "25     734260    1104     734260     640\n",
       "26     734260    4900     734260    4600\n",
       "27     734260    3950     734260     266\n",
       "28     734260    3142     734260     762\n",
       "29     734260    2911     734260    2120\n",
       "30     734260    4457     734260    2853\n",
       "31     734260    2571     734260    4170\n",
       "32     734260    2323     734260    4495\n",
       "33     734260    1410     734260    4219\n",
       "34     734260     126     734260    1932\n",
       "35     734260    2214     734260    1370\n",
       "36     734260     167     734260    4260\n",
       "37     734260    1866     734260     226\n",
       "38     734260     368     734260    1392\n",
       "39     734260    2018     734260    1722"
      ]
     },
     "execution_count": 148,
     "metadata": {},
     "output_type": "execute_result"
    }
   ],
   "source": [
    "pd.concat([result.iloc[:len(example)].drop('position', axis=1), example.drop('position', axis=1)], axis=1)"
   ]
  },
  {
   "cell_type": "markdown",
   "id": "1fe72ac8-52a2-4e7c-bcf4-d5688ed4d992",
   "metadata": {},
   "source": [
    "## Проверка на метрике Mean Average Precision at 20\n",
    "(Далее пример вычисления метрик на двух чеках из примера)"
   ]
  },
  {
   "cell_type": "code",
   "execution_count": 149,
   "id": "5393bb54-bbe7-4d7b-b783-4b151ced7bb0",
   "metadata": {},
   "outputs": [],
   "source": [
    "def precision_atK(data1, data2, k):\n",
    "    s = 0\n",
    "    for i in range(k):\n",
    "        if data1.iloc[i, 1] ==  data2.iloc[i, 1]:\n",
    "            s += 1\n",
    "    return s/k    "
   ]
  },
  {
   "cell_type": "code",
   "execution_count": 150,
   "id": "c1e9309c-cd42-4ecd-a9d7-560fb1a659fd",
   "metadata": {},
   "outputs": [],
   "source": [
    "def apAtK(data1, data2, k):\n",
    "    s = 0\n",
    "    for i in range(k):\n",
    "        if (data1.iloc[i, 1] ==  data2.iloc[i, 1]):\n",
    "            s += precision_atK(data1, data2, i+1)\n",
    "    \n",
    "    return s/k"
   ]
  },
  {
   "cell_type": "code",
   "execution_count": 151,
   "id": "8f595d10-8176-4faf-b1c5-ed0175a7e1d7",
   "metadata": {},
   "outputs": [
    {
     "data": {
      "text/plain": [
       "0.0"
      ]
     },
     "execution_count": 151,
     "metadata": {},
     "output_type": "execute_result"
    }
   ],
   "source": [
    "apAtK(result, example, 20)"
   ]
  },
  {
   "cell_type": "code",
   "execution_count": 152,
   "id": "e3c46dd4-12e7-4920-9b7f-70c1f4e3c6f0",
   "metadata": {},
   "outputs": [],
   "source": [
    "def mapAtK(data1, data2, n):\n",
    "    s = 0\n",
    "    l = 0\n",
    "    for i in range(n):\n",
    "        s += apAtK(data1.iloc[l:(i+1)*20], data2.iloc[l:(i+1)*20], 20)\n",
    "        l += 20\n",
    "    return s/n"
   ]
  },
  {
   "cell_type": "code",
   "execution_count": 153,
   "id": "60670d88-5c02-4308-82f0-03685d4114a0",
   "metadata": {},
   "outputs": [
    {
     "data": {
      "text/plain": [
       "0.0"
      ]
     },
     "execution_count": 153,
     "metadata": {},
     "output_type": "execute_result"
    }
   ],
   "source": [
    "mapAtK(result, example, 2)"
   ]
  },
  {
   "cell_type": "markdown",
   "id": "a2f6309a-81e1-48de-ad1f-3d24011d5b42",
   "metadata": {},
   "source": [
    "Метрики равны 0, так как здесь всего два чека и совпадений на них не обнаружено."
   ]
  },
  {
   "cell_type": "markdown",
   "id": "981ac04a-a5e7-49da-99e6-c00423870fa8",
   "metadata": {},
   "source": [
    "-----\n",
    "# Заключение\n",
    "Таким образом, была построена рекомендательная система для товаров из определенных групп. Модель основана на векторном представлении товаров и дальнейшем поиске близких векторов по косинусному расстоянию. Есть две вариации системы, в первой используется только товар, однако там показтель схожести ниже для конкретных клиентов, поэтому был предложен второй подход, основанный на усреднении всех покупок данного клиента."
   ]
  },
  {
   "cell_type": "code",
   "execution_count": null,
   "id": "7ad6dc15-602a-41e2-8597-0d9f4f49cc3d",
   "metadata": {},
   "outputs": [],
   "source": []
  }
 ],
 "metadata": {
  "kernelspec": {
   "display_name": "Python 3",
   "language": "python",
   "name": "python3"
  },
  "language_info": {
   "codemirror_mode": {
    "name": "ipython",
    "version": 3
   },
   "file_extension": ".py",
   "mimetype": "text/x-python",
   "name": "python",
   "nbconvert_exporter": "python",
   "pygments_lexer": "ipython3",
   "version": "3.8.8"
  }
 },
 "nbformat": 4,
 "nbformat_minor": 5
}
