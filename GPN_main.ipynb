{
 "cells": [
  {
   "cell_type": "markdown",
   "id": "456f3278-12f9-4ee7-98ed-f5f37eda8fa6",
   "metadata": {},
   "source": [
    "# GPN Cup 2021\n",
    "# Кирилл Захаров\n",
    "#### Студент 4 курса прикладной математики и информатики в экономике и управлении СПбГЭУ\n",
    "-------\n",
    "## Содержание\n",
    "1. [Первичный анализ данных](#Первичный-анализ-данных)\n",
    "\n",
    "2. [Рекомендательная система](#Рекомендательная-система-на-основе-Word2vec)\n",
    "\n",
    "    2.1. [Рекомендации по товару](#Рекомендации-по-товару)\n",
    "\n",
    "    2.2. [Рекомендации по истории покупок клиента](#Рекомендации-по-истории-покупок-клиента)\n",
    "\n",
    "3. [Формирование рекомендаций](#Формирование-рекомендаций)\n",
    "\n",
    "4. [Заключение](#Заключение)\n",
    "\n",
    "\n",
    "-------"
   ]
  },
  {
   "cell_type": "markdown",
   "id": "6d712853-5b03-4b71-983f-e44a126fbe71",
   "metadata": {},
   "source": [
    "# Первичный анализ данных"
   ]
  },
  {
   "cell_type": "markdown",
   "id": "32794334-7fd9-4be4-9a72-e331185a43a6",
   "metadata": {},
   "source": [
    "#### Импорт библиотек"
   ]
  },
  {
   "cell_type": "code",
   "execution_count": 2,
   "id": "4f3802ae-59f2-4547-b98f-9102ca1607dc",
   "metadata": {},
   "outputs": [],
   "source": [
    "import numpy as np\n",
    "import pandas as pd\n",
    "\n",
    "from sklearn.model_selection import train_test_split\n",
    "from sklearn.preprocessing import OrdinalEncoder\n",
    "\n",
    "from sklearn.metrics.pairwise import cosine_similarity, linear_kernel\n",
    "from sklearn.decomposition import PCA\n",
    "from gensim.models import Word2Vec\n",
    "import seaborn as sns\n",
    "\n",
    "import tqdm\n",
    "\n",
    "import matplotlib.pyplot as plt\n",
    "%matplotlib inline\n",
    "plt.style.use('ggplot')"
   ]
  },
  {
   "cell_type": "markdown",
   "id": "f35a685a-f63b-453f-a99f-7f9d2af8454b",
   "metadata": {},
   "source": [
    "#### Импорт транзакций"
   ]
  },
  {
   "cell_type": "code",
   "execution_count": 3,
   "id": "35c4510b-ae5e-44df-afc3-16bb6b739b4d",
   "metadata": {},
   "outputs": [],
   "source": [
    "transactions = pd.read_parquet('transactions.parquet')"
   ]
  },
  {
   "cell_type": "code",
   "execution_count": 4,
   "id": "f8bc29aa-c3de-45db-ab75-ff78a5ee2ff5",
   "metadata": {},
   "outputs": [
    {
     "data": {
      "text/html": [
       "<div>\n",
       "<style scoped>\n",
       "    .dataframe tbody tr th:only-of-type {\n",
       "        vertical-align: middle;\n",
       "    }\n",
       "\n",
       "    .dataframe tbody tr th {\n",
       "        vertical-align: top;\n",
       "    }\n",
       "\n",
       "    .dataframe thead th {\n",
       "        text-align: right;\n",
       "    }\n",
       "</style>\n",
       "<table border=\"1\" class=\"dataframe\">\n",
       "  <thead>\n",
       "    <tr style=\"text-align: right;\">\n",
       "      <th></th>\n",
       "      <th>sku_id</th>\n",
       "      <th>price</th>\n",
       "      <th>number</th>\n",
       "      <th>cheque_id</th>\n",
       "      <th>litrs</th>\n",
       "      <th>client_id</th>\n",
       "      <th>shop_id</th>\n",
       "      <th>date</th>\n",
       "    </tr>\n",
       "  </thead>\n",
       "  <tbody>\n",
       "    <tr>\n",
       "      <th>0</th>\n",
       "      <td>1158</td>\n",
       "      <td>0.002335</td>\n",
       "      <td>0.000000</td>\n",
       "      <td>3338297</td>\n",
       "      <td>0.147929</td>\n",
       "      <td>78634.0</td>\n",
       "      <td>102</td>\n",
       "      <td>2171-07-23</td>\n",
       "    </tr>\n",
       "    <tr>\n",
       "      <th>1</th>\n",
       "      <td>1158</td>\n",
       "      <td>0.002317</td>\n",
       "      <td>0.000000</td>\n",
       "      <td>3386107</td>\n",
       "      <td>0.134562</td>\n",
       "      <td>20900.0</td>\n",
       "      <td>101</td>\n",
       "      <td>2171-07-23</td>\n",
       "    </tr>\n",
       "    <tr>\n",
       "      <th>2</th>\n",
       "      <td>1913</td>\n",
       "      <td>0.007850</td>\n",
       "      <td>0.000452</td>\n",
       "      <td>1845331</td>\n",
       "      <td>0.104183</td>\n",
       "      <td>96397.0</td>\n",
       "      <td>36</td>\n",
       "      <td>2171-07-23</td>\n",
       "    </tr>\n",
       "    <tr>\n",
       "      <th>3</th>\n",
       "      <td>1808</td>\n",
       "      <td>0.008979</td>\n",
       "      <td>0.000452</td>\n",
       "      <td>2256499</td>\n",
       "      <td>0.104183</td>\n",
       "      <td>103560.0</td>\n",
       "      <td>89</td>\n",
       "      <td>2171-07-23</td>\n",
       "    </tr>\n",
       "    <tr>\n",
       "      <th>4</th>\n",
       "      <td>1158</td>\n",
       "      <td>0.002355</td>\n",
       "      <td>0.000000</td>\n",
       "      <td>3257281</td>\n",
       "      <td>0.115023</td>\n",
       "      <td>67691.0</td>\n",
       "      <td>58</td>\n",
       "      <td>2171-07-23</td>\n",
       "    </tr>\n",
       "  </tbody>\n",
       "</table>\n",
       "</div>"
      ],
      "text/plain": [
       "   sku_id     price    number  cheque_id     litrs  client_id  shop_id  \\\n",
       "0    1158  0.002335  0.000000    3338297  0.147929    78634.0      102   \n",
       "1    1158  0.002317  0.000000    3386107  0.134562    20900.0      101   \n",
       "2    1913  0.007850  0.000452    1845331  0.104183    96397.0       36   \n",
       "3    1808  0.008979  0.000452    2256499  0.104183   103560.0       89   \n",
       "4    1158  0.002355  0.000000    3257281  0.115023    67691.0       58   \n",
       "\n",
       "        date  \n",
       "0 2171-07-23  \n",
       "1 2171-07-23  \n",
       "2 2171-07-23  \n",
       "3 2171-07-23  \n",
       "4 2171-07-23  "
      ]
     },
     "execution_count": 4,
     "metadata": {},
     "output_type": "execute_result"
    }
   ],
   "source": [
    "transactions.head()"
   ]
  },
  {
   "cell_type": "code",
   "execution_count": 5,
   "id": "469112e2-7731-4423-bfde-fefbd25c7b71",
   "metadata": {},
   "outputs": [
    {
     "data": {
      "text/plain": [
       "sku_id                int64\n",
       "price               float64\n",
       "number              float64\n",
       "cheque_id             int64\n",
       "litrs               float64\n",
       "client_id           float64\n",
       "shop_id               int64\n",
       "date         datetime64[ns]\n",
       "dtype: object"
      ]
     },
     "execution_count": 5,
     "metadata": {},
     "output_type": "execute_result"
    }
   ],
   "source": [
    "transactions.dtypes #иформация о типах данных"
   ]
  },
  {
   "cell_type": "markdown",
   "id": "0359f953-7f26-4a04-872e-75110da642f9",
   "metadata": {},
   "source": [
    "Посмотрим за какой период данные"
   ]
  },
  {
   "cell_type": "code",
   "execution_count": 6,
   "id": "8aaac46c-6718-4091-a1ae-c0f1693b238a",
   "metadata": {},
   "outputs": [
    {
     "data": {
      "text/plain": [
       "(Timestamp('2171-03-01 00:00:00'), Timestamp('2171-07-31 00:00:00'))"
      ]
     },
     "execution_count": 6,
     "metadata": {},
     "output_type": "execute_result"
    }
   ],
   "source": [
    "transactions['date'].min(), transactions['date'].max()"
   ]
  },
  {
   "cell_type": "code",
   "execution_count": 7,
   "id": "ca50a09b-1711-48fa-bc58-8e5f722f9004",
   "metadata": {},
   "outputs": [
    {
     "data": {
      "text/plain": [
       "110"
      ]
     },
     "execution_count": 7,
     "metadata": {},
     "output_type": "execute_result"
    }
   ],
   "source": [
    "transactions['shop_id'].nunique() #Видно, что данные предоставлены за 5 месяцев по 110 магазинам"
   ]
  },
  {
   "cell_type": "code",
   "execution_count": 8,
   "id": "ce00c102-9717-491e-9388-ee6a747bca1e",
   "metadata": {},
   "outputs": [
    {
     "data": {
      "text/plain": [
       "370083"
      ]
     },
     "execution_count": 8,
     "metadata": {},
     "output_type": "execute_result"
    }
   ],
   "source": [
    "len(transactions['client_id'].unique()) #Количество уникальных покупателей"
   ]
  },
  {
   "cell_type": "code",
   "execution_count": 9,
   "id": "0ac02be4-4472-417a-925d-729c854cef02",
   "metadata": {},
   "outputs": [
    {
     "data": {
      "text/plain": [
       "4873"
      ]
     },
     "execution_count": 9,
     "metadata": {},
     "output_type": "execute_result"
    }
   ],
   "source": [
    "len(transactions['sku_id'].unique()) #Количество уникальных продуктов, которые покупали"
   ]
  },
  {
   "cell_type": "markdown",
   "id": "70281d4a-4dc5-438d-9413-b3c9f23f08f4",
   "metadata": {},
   "source": [
    "Для некоторых категорий товаров есть значения по количеству в двух колонках одновременно (number и litrs)."
   ]
  },
  {
   "cell_type": "code",
   "execution_count": 6,
   "id": "35c9fbcc-fab9-4561-bcd7-9543d831203e",
   "metadata": {},
   "outputs": [],
   "source": [
    "# список товаров у которых некорректные данные о количестве\n",
    "products_with_a = transactions.loc[np.where((transactions['number']!= 0.0) & (transactions['litrs']!= 0.0))]['sku_id']"
   ]
  },
  {
   "cell_type": "markdown",
   "id": "0eeee708-21c5-452f-a506-61f0a67fba62",
   "metadata": {},
   "source": [
    "#### Посмотрим есть ли данные типа None"
   ]
  },
  {
   "cell_type": "code",
   "execution_count": 8,
   "id": "7df51741-61c8-4423-b354-58fff52acfa2",
   "metadata": {},
   "outputs": [
    {
     "data": {
      "text/plain": [
       "sku_id       False\n",
       "price        False\n",
       "number       False\n",
       "cheque_id    False\n",
       "litrs        False\n",
       "client_id     True\n",
       "shop_id      False\n",
       "date         False\n",
       "dtype: bool"
      ]
     },
     "execution_count": 8,
     "metadata": {},
     "output_type": "execute_result"
    }
   ],
   "source": [
    "transactions.isna().any()"
   ]
  },
  {
   "cell_type": "code",
   "execution_count": 10,
   "id": "83a634e9-076c-4c9b-9400-0fb7e469e626",
   "metadata": {},
   "outputs": [],
   "source": [
    "indx = np.where(transactions['client_id'].isna())[0] #индексы пропущенных товаров"
   ]
  },
  {
   "cell_type": "markdown",
   "id": "4222af11-dae1-4100-8c09-bd25bff8f79b",
   "metadata": {},
   "source": [
    "Поскольку пустые данные содержатся в столбце клиентов, а их тип данных float64, то заменим None на нули."
   ]
  },
  {
   "cell_type": "code",
   "execution_count": 11,
   "id": "74c2bdf8-3674-4474-92c8-e6e59b9d93c2",
   "metadata": {},
   "outputs": [],
   "source": [
    "transactions['client_id'] = transactions['client_id'].replace(np.nan, 0.0) "
   ]
  },
  {
   "cell_type": "code",
   "execution_count": 12,
   "id": "c43d56ff-742d-4f94-8a91-16571618b21e",
   "metadata": {},
   "outputs": [
    {
     "data": {
      "text/plain": [
       "sku_id       False\n",
       "price        False\n",
       "number       False\n",
       "cheque_id    False\n",
       "litrs        False\n",
       "client_id    False\n",
       "shop_id      False\n",
       "date         False\n",
       "dtype: bool"
      ]
     },
     "execution_count": 12,
     "metadata": {},
     "output_type": "execute_result"
    }
   ],
   "source": [
    "transactions.isna().any()"
   ]
  },
  {
   "cell_type": "markdown",
   "id": "66d75ac2-3913-482c-8ad2-1bb6498c959e",
   "metadata": {},
   "source": [
    "#### Импорт таблицы с номенклатурой"
   ]
  },
  {
   "cell_type": "code",
   "execution_count": 13,
   "id": "169709e3-918d-4e04-9aa2-31b11c16976f",
   "metadata": {},
   "outputs": [],
   "source": [
    "nomenclature = pd.read_parquet('nomenclature.parquet')"
   ]
  },
  {
   "cell_type": "code",
   "execution_count": 14,
   "id": "cf1a88bf-f5b2-4a39-a296-e6309938629a",
   "metadata": {},
   "outputs": [
    {
     "data": {
      "text/html": [
       "<div>\n",
       "<style scoped>\n",
       "    .dataframe tbody tr th:only-of-type {\n",
       "        vertical-align: middle;\n",
       "    }\n",
       "\n",
       "    .dataframe tbody tr th {\n",
       "        vertical-align: top;\n",
       "    }\n",
       "\n",
       "    .dataframe thead th {\n",
       "        text-align: right;\n",
       "    }\n",
       "</style>\n",
       "<table border=\"1\" class=\"dataframe\">\n",
       "  <thead>\n",
       "    <tr style=\"text-align: right;\">\n",
       "      <th></th>\n",
       "      <th>sku_id</th>\n",
       "      <th>full_name</th>\n",
       "      <th>brand</th>\n",
       "      <th>sku_group</th>\n",
       "      <th>OTM</th>\n",
       "      <th>units</th>\n",
       "      <th>country</th>\n",
       "    </tr>\n",
       "  </thead>\n",
       "  <tbody>\n",
       "    <tr>\n",
       "      <th>0</th>\n",
       "      <td>0</td>\n",
       "      <td>Масло Lubricrol Magnatec Diesel 10W-40 B4 1л</td>\n",
       "      <td>Lubricrol</td>\n",
       "      <td>Масла моторные (для варповых двигателей)</td>\n",
       "      <td>Нет</td>\n",
       "      <td>unknown</td>\n",
       "      <td>ГЕРМАНИЯ</td>\n",
       "    </tr>\n",
       "    <tr>\n",
       "      <th>1</th>\n",
       "      <td>723</td>\n",
       "      <td>Трос УранПРОМEthereum буксировочный 4500кг</td>\n",
       "      <td>УранПРОМEthereum</td>\n",
       "      <td>Автотовары</td>\n",
       "      <td>Да</td>\n",
       "      <td>шт</td>\n",
       "      <td>РОССИЯ</td>\n",
       "    </tr>\n",
       "    <tr>\n",
       "      <th>2</th>\n",
       "      <td>3397</td>\n",
       "      <td>Накидка УранПРОМEthereum на спинку автосиденья...</td>\n",
       "      <td>УранПРОМEthereum</td>\n",
       "      <td>Автотовары</td>\n",
       "      <td>Да</td>\n",
       "      <td>шт</td>\n",
       "      <td>unknown</td>\n",
       "    </tr>\n",
       "    <tr>\n",
       "      <th>3</th>\n",
       "      <td>2130</td>\n",
       "      <td>Жилет УранПРОМEthereum световозвращающий</td>\n",
       "      <td>УранПРОМEthereum</td>\n",
       "      <td>Автотовары</td>\n",
       "      <td>Да</td>\n",
       "      <td>шт</td>\n",
       "      <td>unknown</td>\n",
       "    </tr>\n",
       "    <tr>\n",
       "      <th>4</th>\n",
       "      <td>3150</td>\n",
       "      <td>Провода УранПРОМEthereum для прикуривания 200А</td>\n",
       "      <td>УранПРОМEthereum</td>\n",
       "      <td>Автотовары</td>\n",
       "      <td>Да</td>\n",
       "      <td>шт</td>\n",
       "      <td>РОССИЯ</td>\n",
       "    </tr>\n",
       "  </tbody>\n",
       "</table>\n",
       "</div>"
      ],
      "text/plain": [
       "   sku_id                                          full_name  \\\n",
       "0       0       Масло Lubricrol Magnatec Diesel 10W-40 B4 1л   \n",
       "1     723         Трос УранПРОМEthereum буксировочный 4500кг   \n",
       "2    3397  Накидка УранПРОМEthereum на спинку автосиденья...   \n",
       "3    2130           Жилет УранПРОМEthereum световозвращающий   \n",
       "4    3150     Провода УранПРОМEthereum для прикуривания 200А   \n",
       "\n",
       "              brand                                 sku_group  OTM    units  \\\n",
       "0         Lubricrol  Масла моторные (для варповых двигателей)  Нет  unknown   \n",
       "1  УранПРОМEthereum                                Автотовары   Да       шт   \n",
       "2  УранПРОМEthereum                                Автотовары   Да       шт   \n",
       "3  УранПРОМEthereum                                Автотовары   Да       шт   \n",
       "4  УранПРОМEthereum                                Автотовары   Да       шт   \n",
       "\n",
       "    country  \n",
       "0  ГЕРМАНИЯ  \n",
       "1    РОССИЯ  \n",
       "2   unknown  \n",
       "3   unknown  \n",
       "4    РОССИЯ  "
      ]
     },
     "execution_count": 14,
     "metadata": {},
     "output_type": "execute_result"
    }
   ],
   "source": [
    "nomenclature.head()"
   ]
  },
  {
   "cell_type": "code",
   "execution_count": 15,
   "id": "a6f509ac-e508-4ed7-86c2-92eda62bd511",
   "metadata": {},
   "outputs": [
    {
     "name": "stdout",
     "output_type": "stream",
     "text": [
      "<class 'pandas.core.frame.DataFrame'>\n",
      "RangeIndex: 5103 entries, 0 to 5102\n",
      "Data columns (total 7 columns):\n",
      " #   Column     Non-Null Count  Dtype \n",
      "---  ------     --------------  ----- \n",
      " 0   sku_id     5103 non-null   int64 \n",
      " 1   full_name  5094 non-null   object\n",
      " 2   brand      5094 non-null   object\n",
      " 3   sku_group  5103 non-null   object\n",
      " 4   OTM        5094 non-null   object\n",
      " 5   units      5094 non-null   object\n",
      " 6   country    5094 non-null   object\n",
      "dtypes: int64(1), object(6)\n",
      "memory usage: 279.2+ KB\n"
     ]
    }
   ],
   "source": [
    "nomenclature.info()"
   ]
  },
  {
   "cell_type": "markdown",
   "id": "facaa475-a761-42ff-af0d-4cba598bb737",
   "metadata": {},
   "source": [
    "#### Посмотрим на неизвестные данные"
   ]
  },
  {
   "cell_type": "code",
   "execution_count": 16,
   "id": "f647db27-edd9-4c93-b86e-814714450595",
   "metadata": {},
   "outputs": [
    {
     "data": {
      "text/plain": [
       "sku_id       0\n",
       "full_name    9\n",
       "brand        9\n",
       "sku_group    0\n",
       "OTM          9\n",
       "units        9\n",
       "country      9\n",
       "dtype: int64"
      ]
     },
     "execution_count": 16,
     "metadata": {},
     "output_type": "execute_result"
    }
   ],
   "source": [
    "nomenclature.isna().sum() #есть некоторое количество полностью пустых данных, удалим их."
   ]
  },
  {
   "cell_type": "code",
   "execution_count": 17,
   "id": "31fb2336-4eef-449c-8f6d-faf7118f8dcf",
   "metadata": {},
   "outputs": [],
   "source": [
    "nomenclature.dropna(inplace=True)"
   ]
  },
  {
   "cell_type": "code",
   "execution_count": 18,
   "id": "94739f84-039d-4358-8253-213ac9d6b9b5",
   "metadata": {},
   "outputs": [
    {
     "data": {
      "text/plain": [
       "sku_id       0\n",
       "full_name    0\n",
       "brand        0\n",
       "sku_group    0\n",
       "OTM          0\n",
       "units        0\n",
       "country      0\n",
       "dtype: int64"
      ]
     },
     "execution_count": 18,
     "metadata": {},
     "output_type": "execute_result"
    }
   ],
   "source": [
    "nomenclature.isna().sum()"
   ]
  },
  {
   "cell_type": "markdown",
   "id": "4623b8a4-0f35-4467-b801-a7bf792e7986",
   "metadata": {},
   "source": [
    "Объединим таблицы в одну. Для каждого значения таблицы transactions добавим описание товара из таблицы nomenclature, для этого склеим  по ключам слева."
   ]
  },
  {
   "cell_type": "code",
   "execution_count": 42,
   "id": "1e3a8337-7402-481f-9ecf-1c74d82062a0",
   "metadata": {},
   "outputs": [],
   "source": [
    "data = pd.merge(transactions, nomenclature, how='left', on=['sku_id'])\n",
    "data.dropna(inplace=True)"
   ]
  },
  {
   "cell_type": "code",
   "execution_count": 43,
   "id": "896c6d65-e005-40e6-aead-314e2d7ccbc9",
   "metadata": {},
   "outputs": [
    {
     "data": {
      "text/html": [
       "<div>\n",
       "<style scoped>\n",
       "    .dataframe tbody tr th:only-of-type {\n",
       "        vertical-align: middle;\n",
       "    }\n",
       "\n",
       "    .dataframe tbody tr th {\n",
       "        vertical-align: top;\n",
       "    }\n",
       "\n",
       "    .dataframe thead th {\n",
       "        text-align: right;\n",
       "    }\n",
       "</style>\n",
       "<table border=\"1\" class=\"dataframe\">\n",
       "  <thead>\n",
       "    <tr style=\"text-align: right;\">\n",
       "      <th></th>\n",
       "      <th>sku_id</th>\n",
       "      <th>price</th>\n",
       "      <th>number</th>\n",
       "      <th>cheque_id</th>\n",
       "      <th>litrs</th>\n",
       "      <th>client_id</th>\n",
       "      <th>shop_id</th>\n",
       "      <th>date</th>\n",
       "      <th>full_name</th>\n",
       "      <th>brand</th>\n",
       "      <th>sku_group</th>\n",
       "      <th>OTM</th>\n",
       "      <th>units</th>\n",
       "      <th>country</th>\n",
       "    </tr>\n",
       "  </thead>\n",
       "  <tbody>\n",
       "    <tr>\n",
       "      <th>2</th>\n",
       "      <td>1913</td>\n",
       "      <td>0.007850</td>\n",
       "      <td>0.000452</td>\n",
       "      <td>1845331</td>\n",
       "      <td>0.104183</td>\n",
       "      <td>96397.0</td>\n",
       "      <td>36</td>\n",
       "      <td>2171-07-23</td>\n",
       "      <td>Сигареты KENT crystal</td>\n",
       "      <td>KENT</td>\n",
       "      <td>Табачные изделия</td>\n",
       "      <td>Нет</td>\n",
       "      <td>шт</td>\n",
       "      <td>unknown</td>\n",
       "    </tr>\n",
       "    <tr>\n",
       "      <th>3</th>\n",
       "      <td>1808</td>\n",
       "      <td>0.008979</td>\n",
       "      <td>0.000452</td>\n",
       "      <td>2256499</td>\n",
       "      <td>0.104183</td>\n",
       "      <td>103560.0</td>\n",
       "      <td>89</td>\n",
       "      <td>2171-07-23</td>\n",
       "      <td>Сигареты Parker&amp;Simpson duo purple</td>\n",
       "      <td>Parker&amp;Simpson</td>\n",
       "      <td>Табачные изделия</td>\n",
       "      <td>Нет</td>\n",
       "      <td>шт</td>\n",
       "      <td>РОССИЯ</td>\n",
       "    </tr>\n",
       "    <tr>\n",
       "      <th>11</th>\n",
       "      <td>558</td>\n",
       "      <td>0.011237</td>\n",
       "      <td>0.000452</td>\n",
       "      <td>1386544</td>\n",
       "      <td>0.104183</td>\n",
       "      <td>0.0</td>\n",
       "      <td>94</td>\n",
       "      <td>2171-07-23</td>\n",
       "      <td>Картридж Pons x2 Basic Kit 20мг 0,7мл strawber...</td>\n",
       "      <td>unknown</td>\n",
       "      <td>Табачные изделия</td>\n",
       "      <td>Нет</td>\n",
       "      <td>шт</td>\n",
       "      <td>КИТАЙ</td>\n",
       "    </tr>\n",
       "    <tr>\n",
       "      <th>12</th>\n",
       "      <td>558</td>\n",
       "      <td>0.011237</td>\n",
       "      <td>0.000452</td>\n",
       "      <td>1386544</td>\n",
       "      <td>0.104183</td>\n",
       "      <td>0.0</td>\n",
       "      <td>94</td>\n",
       "      <td>2171-07-23</td>\n",
       "      <td>Картридж Pons x2 Basic Kit 20мг 0,7мл strawber...</td>\n",
       "      <td>unknown</td>\n",
       "      <td>Табачные изделия</td>\n",
       "      <td>Нет</td>\n",
       "      <td>шт</td>\n",
       "      <td>КИТАЙ</td>\n",
       "    </tr>\n",
       "    <tr>\n",
       "      <th>13</th>\n",
       "      <td>558</td>\n",
       "      <td>0.011237</td>\n",
       "      <td>0.000452</td>\n",
       "      <td>1386544</td>\n",
       "      <td>0.104183</td>\n",
       "      <td>0.0</td>\n",
       "      <td>94</td>\n",
       "      <td>2171-07-23</td>\n",
       "      <td>Картридж Pons x2 Basic Kit 20мг 0,7мл strawber...</td>\n",
       "      <td>unknown</td>\n",
       "      <td>Табачные изделия</td>\n",
       "      <td>Нет</td>\n",
       "      <td>шт</td>\n",
       "      <td>КИТАЙ</td>\n",
       "    </tr>\n",
       "  </tbody>\n",
       "</table>\n",
       "</div>"
      ],
      "text/plain": [
       "    sku_id     price    number  cheque_id     litrs  client_id  shop_id  \\\n",
       "2     1913  0.007850  0.000452    1845331  0.104183    96397.0       36   \n",
       "3     1808  0.008979  0.000452    2256499  0.104183   103560.0       89   \n",
       "11     558  0.011237  0.000452    1386544  0.104183        0.0       94   \n",
       "12     558  0.011237  0.000452    1386544  0.104183        0.0       94   \n",
       "13     558  0.011237  0.000452    1386544  0.104183        0.0       94   \n",
       "\n",
       "         date                                          full_name  \\\n",
       "2  2171-07-23                              Сигареты KENT crystal   \n",
       "3  2171-07-23                 Сигареты Parker&Simpson duo purple   \n",
       "11 2171-07-23  Картридж Pons x2 Basic Kit 20мг 0,7мл strawber...   \n",
       "12 2171-07-23  Картридж Pons x2 Basic Kit 20мг 0,7мл strawber...   \n",
       "13 2171-07-23  Картридж Pons x2 Basic Kit 20мг 0,7мл strawber...   \n",
       "\n",
       "             brand         sku_group  OTM units  country  \n",
       "2             KENT  Табачные изделия  Нет    шт  unknown  \n",
       "3   Parker&Simpson  Табачные изделия  Нет    шт   РОССИЯ  \n",
       "11         unknown  Табачные изделия  Нет    шт    КИТАЙ  \n",
       "12         unknown  Табачные изделия  Нет    шт    КИТАЙ  \n",
       "13         unknown  Табачные изделия  Нет    шт    КИТАЙ  "
      ]
     },
     "execution_count": 43,
     "metadata": {},
     "output_type": "execute_result"
    }
   ],
   "source": [
    "data.head()"
   ]
  },
  {
   "cell_type": "code",
   "execution_count": 24,
   "id": "6ffbb5bc-be29-430d-b888-619e237f31e4",
   "metadata": {},
   "outputs": [
    {
     "data": {
      "text/plain": [
       "Табачные изделия                                                   1951804\n",
       "Кофейные напитки с молоком                                          614220\n",
       "Вода                                                                537510\n",
       "Общественное питание                                                507937\n",
       "Кондитерские изделия                                                499543\n",
       "Сладкие Уранированные напитки, холодный чай                         353633\n",
       "Энергетические напитки                                              345782\n",
       "Прочие напитки кафе                                                 310167\n",
       "Гастроном                                                           146674\n",
       "Снеки                                                               145881\n",
       "Хозяйственные товары, персональный уход                             116065\n",
       "Соки и сокосодержащие напитки                                        68488\n",
       "Уход за автомобилем                                                  56155\n",
       "СОЖ                                                                  34029\n",
       "Автотовары                                                           29760\n",
       "Сезонные товары                                                      17208\n",
       "Карты лояльности                                                     16546\n",
       "Автохимия и автокосметика (кроме масел, смазок и СОЖ)                15335\n",
       "Бакалея                                                              10025\n",
       "Масла моторные (для Ethereumовых двигателей) \"УранПромEtherium\"       7912\n",
       "Масла моторные (для Ethereumовых двигателей)                          5316\n",
       "Тиражная лотерея                                                      2665\n",
       "Очки для водителя                                                     1167\n",
       "Пиво                                                                   456\n",
       "Услуги мойки                                                           133\n",
       "Масла трансмиссионные                                                   98\n",
       "Масла трансмиссионные \"УранПромEtherium\"                                82\n",
       "Масла моторные (для варповых двигателей)\"УранПромEtherium\"              47\n",
       "Услуги АЗС/АЗК                                                          34\n",
       "Масла моторные (для варповых двигателей)                                31\n",
       "Name: sku_group, dtype: int64"
      ]
     },
     "execution_count": 24,
     "metadata": {},
     "output_type": "execute_result"
    }
   ],
   "source": [
    "data['sku_group'].value_counts() #все группы товаров"
   ]
  },
  {
   "cell_type": "markdown",
   "id": "de823ed0-43bb-451a-b487-81adc1bd14e7",
   "metadata": {},
   "source": [
    "Посмотрим есть ли товары, которые встречаются всего один раз."
   ]
  },
  {
   "cell_type": "code",
   "execution_count": 27,
   "id": "26dd9bf0-04ea-4157-a43f-8897e51273aa",
   "metadata": {},
   "outputs": [
    {
     "data": {
      "text/plain": [
       "unknown                                                                              False\n",
       "Напиток Fly Cafe молокосодержащий кофейный Мокко белый шоколад 0,4л                  False\n",
       "Напиток Fly Cafe Горячий шоколад кокосовое молоко 0,2л                               False\n",
       "Напиток Fly Cafe молокосодержащий кофейный Флэт Уайт 0,3л                            False\n",
       "Сигареты SOBRANIE super slims pinks                                                  False\n",
       "                                                                                     ...  \n",
       "Автолампа OSRAM 64150 H1 12V 55W P14,5s                                               True\n",
       "Наклейка B&H BH1122 белая подложка 20х20см                                            True\n",
       "Фонарь Яркий луч LA-07 аккумуляторный                                                 True\n",
       "Кабель Partner/OLMIO ПР030681/038897 USB 2,0-Apple iPhone/iPod/iPad 8pin 3в1 20см     True\n",
       "Батончик SNICKERS шоколадный 40гх4шт мульти-пак 160г                                  True\n",
       "Name: full_name, Length: 3587, dtype: bool"
      ]
     },
     "execution_count": 27,
     "metadata": {},
     "output_type": "execute_result"
    }
   ],
   "source": [
    "data['full_name'].value_counts() == 1"
   ]
  },
  {
   "cell_type": "markdown",
   "id": "2ec819b5-f454-4d5d-b3dd-56a04083a26b",
   "metadata": {},
   "source": [
    "Посмотрим к каким группам принадлежат данные товары."
   ]
  },
  {
   "cell_type": "code",
   "execution_count": 26,
   "id": "331df35c-1468-453c-9aff-9dfc4da7f1d3",
   "metadata": {},
   "outputs": [
    {
     "data": {
      "text/plain": [
       "Табачные изделия                                                   51\n",
       "Кофейные напитки с молоком                                         34\n",
       "Вода                                                               30\n",
       "Сладкие Уранированные напитки, холодный чай                        17\n",
       "Кондитерские изделия                                                8\n",
       "Общественное питание                                                5\n",
       "Снеки                                                               4\n",
       "Прочие напитки кафе                                                 3\n",
       "Гастроном                                                           3\n",
       "Масла моторные (для Ethereumовых двигателей) \"УранПромEtherium\"     2\n",
       "Уход за автомобилем                                                 2\n",
       "Сезонные товары                                                     1\n",
       "Автотовары                                                          1\n",
       "Name: sku_group, dtype: int64"
      ]
     },
     "execution_count": 26,
     "metadata": {},
     "output_type": "execute_result"
    }
   ],
   "source": [
    "data.iloc[np.where(data['full_name'].value_counts() == 1)]['sku_group'].value_counts()"
   ]
  },
  {
   "cell_type": "code",
   "execution_count": 33,
   "id": "5ff4e00e-194a-4ece-8c44-184706c926ed",
   "metadata": {},
   "outputs": [
    {
     "name": "stderr",
     "output_type": "stream",
     "text": [
      "/opt/anaconda3/lib/python3.8/site-packages/seaborn/_decorators.py:36: FutureWarning: Pass the following variable as a keyword arg: x. From version 0.12, the only valid positional argument will be `data`, and passing other arguments without an explicit keyword will result in an error or misinterpretation.\n",
      "  warnings.warn(\n"
     ]
    },
    {
     "data": {
      "image/png": "[encoded data removed]",
      "text/plain": [
       "<Figure size 1800x960 with 1 Axes>"
      ]
     },
     "metadata": {},
     "output_type": "display_data"
    }
   ],
   "source": [
    "plt.figure(figsize=(15,8), dpi=120)\n",
    "sns.set_style(\"darkgrid\")\n",
    "sns.countplot(data['sku_group'])\n",
    "plt.xticks(rotation=90)\n",
    "plt.title('Количество товаров по группам')\n",
    "plt.show()"
   ]
  },
  {
   "cell_type": "markdown",
   "id": "313b9bd9-fc9b-437e-a488-a4ca2b3d166c",
   "metadata": {},
   "source": [
    "Поскольку данные собраны по 110 магазинам, то можно сделать вывод, что товары которые куплины 1 раз не пользуются спросом. Можно удалить такие данные, для сокращения обучающей выборки."
   ]
  },
  {
   "cell_type": "code",
   "execution_count": 72,
   "id": "bcc54262-978b-4d28-8c77-07abf3a411fe",
   "metadata": {},
   "outputs": [],
   "source": [
    "data = data[data['full_name'].isin(data['full_name'].value_counts().index[data['full_name'].value_counts() != 1])]"
   ]
  },
  {
   "cell_type": "code",
   "execution_count": 74,
   "id": "16616138-e4ce-4f0b-8fcc-e981d970cd08",
   "metadata": {},
   "outputs": [
    {
     "data": {
      "text/plain": [
       "(5794542, 14)"
      ]
     },
     "execution_count": 74,
     "metadata": {},
     "output_type": "execute_result"
    }
   ],
   "source": [
    "data.shape"
   ]
  },
  {
   "cell_type": "code",
   "execution_count": 76,
   "id": "d6f6e096-21f6-4d3f-9e3b-ec1ac0cba475",
   "metadata": {},
   "outputs": [],
   "source": [
    "data = data.drop(['date','country', 'OTM', 'units'], axis=1) #удаление даты и страны, так как дальше нигде не используются"
   ]
  },
  {
   "cell_type": "code",
   "execution_count": 77,
   "id": "04181c13-74a1-4b7a-8b08-188490610e99",
   "metadata": {},
   "outputs": [
    {
     "data": {
      "text/plain": [
       "(5794542, 10)"
      ]
     },
     "execution_count": 77,
     "metadata": {},
     "output_type": "execute_result"
    }
   ],
   "source": [
    "data.shape"
   ]
  },
  {
   "cell_type": "markdown",
   "id": "823c5a24-e132-4c3a-a8b7-84fd0dce70a9",
   "metadata": {},
   "source": [
    "#### Группы товаров для рекомендаций"
   ]
  },
  {
   "cell_type": "code",
   "execution_count": 78,
   "id": "bdacb557-916d-4d26-8310-9b29e728cc92",
   "metadata": {},
   "outputs": [],
   "source": [
    "groups = ['Вода', 'Сладкие Уранированные напитки, холодный чай', 'Кофейные напитки с молоком', \\\n",
    "          'Энергетические напитки', 'Снеки', 'Соки и сокосодержащие напитки']"
   ]
  },
  {
   "cell_type": "code",
   "execution_count": 79,
   "id": "fbf1b1e5-12d4-4f93-875e-4085120c96c6",
   "metadata": {},
   "outputs": [
    {
     "data": {
      "text/html": [
       "<div>\n",
       "<style scoped>\n",
       "    .dataframe tbody tr th:only-of-type {\n",
       "        vertical-align: middle;\n",
       "    }\n",
       "\n",
       "    .dataframe tbody tr th {\n",
       "        vertical-align: top;\n",
       "    }\n",
       "\n",
       "    .dataframe thead th {\n",
       "        text-align: right;\n",
       "    }\n",
       "</style>\n",
       "<table border=\"1\" class=\"dataframe\">\n",
       "  <thead>\n",
       "    <tr style=\"text-align: right;\">\n",
       "      <th></th>\n",
       "      <th>sku_id</th>\n",
       "      <th>price</th>\n",
       "      <th>number</th>\n",
       "      <th>cheque_id</th>\n",
       "      <th>litrs</th>\n",
       "      <th>client_id</th>\n",
       "      <th>shop_id</th>\n",
       "      <th>full_name</th>\n",
       "      <th>brand</th>\n",
       "      <th>sku_group</th>\n",
       "    </tr>\n",
       "  </thead>\n",
       "  <tbody>\n",
       "    <tr>\n",
       "      <th>38</th>\n",
       "      <td>199</td>\n",
       "      <td>0.011237</td>\n",
       "      <td>0.000452</td>\n",
       "      <td>2429861</td>\n",
       "      <td>0.104183</td>\n",
       "      <td>2937.0</td>\n",
       "      <td>78</td>\n",
       "      <td>Напиток Red Bull energy drink энергетический ж...</td>\n",
       "      <td>Red Bull</td>\n",
       "      <td>Энергетические напитки</td>\n",
       "    </tr>\n",
       "    <tr>\n",
       "      <th>46</th>\n",
       "      <td>3328</td>\n",
       "      <td>0.007132</td>\n",
       "      <td>0.000452</td>\n",
       "      <td>2108067</td>\n",
       "      <td>0.104183</td>\n",
       "      <td>128895.0</td>\n",
       "      <td>21</td>\n",
       "      <td>Кофе Fly Cafe Моккачино 0,4л</td>\n",
       "      <td>Fly Cafe</td>\n",
       "      <td>Кофейные напитки с молоком</td>\n",
       "    </tr>\n",
       "    <tr>\n",
       "      <th>51</th>\n",
       "      <td>1551</td>\n",
       "      <td>0.005593</td>\n",
       "      <td>0.000452</td>\n",
       "      <td>3142853</td>\n",
       "      <td>0.104183</td>\n",
       "      <td>94533.0</td>\n",
       "      <td>56</td>\n",
       "      <td>unknown</td>\n",
       "      <td>unknown</td>\n",
       "      <td>Кофейные напитки с молоком</td>\n",
       "    </tr>\n",
       "    <tr>\n",
       "      <th>55</th>\n",
       "      <td>1551</td>\n",
       "      <td>0.005593</td>\n",
       "      <td>0.000452</td>\n",
       "      <td>2808683</td>\n",
       "      <td>0.104183</td>\n",
       "      <td>125076.0</td>\n",
       "      <td>17</td>\n",
       "      <td>unknown</td>\n",
       "      <td>unknown</td>\n",
       "      <td>Кофейные напитки с молоком</td>\n",
       "    </tr>\n",
       "    <tr>\n",
       "      <th>64</th>\n",
       "      <td>1551</td>\n",
       "      <td>0.005593</td>\n",
       "      <td>0.000452</td>\n",
       "      <td>2808595</td>\n",
       "      <td>0.104183</td>\n",
       "      <td>390043.0</td>\n",
       "      <td>17</td>\n",
       "      <td>unknown</td>\n",
       "      <td>unknown</td>\n",
       "      <td>Кофейные напитки с молоком</td>\n",
       "    </tr>\n",
       "  </tbody>\n",
       "</table>\n",
       "</div>"
      ],
      "text/plain": [
       "    sku_id     price    number  cheque_id     litrs  client_id  shop_id  \\\n",
       "38     199  0.011237  0.000452    2429861  0.104183     2937.0       78   \n",
       "46    3328  0.007132  0.000452    2108067  0.104183   128895.0       21   \n",
       "51    1551  0.005593  0.000452    3142853  0.104183    94533.0       56   \n",
       "55    1551  0.005593  0.000452    2808683  0.104183   125076.0       17   \n",
       "64    1551  0.005593  0.000452    2808595  0.104183   390043.0       17   \n",
       "\n",
       "                                            full_name     brand  \\\n",
       "38  Напиток Red Bull energy drink энергетический ж...  Red Bull   \n",
       "46                       Кофе Fly Cafe Моккачино 0,4л  Fly Cafe   \n",
       "51                                            unknown   unknown   \n",
       "55                                            unknown   unknown   \n",
       "64                                            unknown   unknown   \n",
       "\n",
       "                     sku_group  \n",
       "38      Энергетические напитки  \n",
       "46  Кофейные напитки с молоком  \n",
       "51  Кофейные напитки с молоком  \n",
       "55  Кофейные напитки с молоком  \n",
       "64  Кофейные напитки с молоком  "
      ]
     },
     "execution_count": 79,
     "metadata": {},
     "output_type": "execute_result"
    }
   ],
   "source": [
    "data[data['sku_group'].isin(groups)].head() #посмотрим как вяглядят записи для данных групп"
   ]
  },
  {
   "cell_type": "markdown",
   "id": "c9eace12-ec8b-4dc1-aaef-280de20a6bdb",
   "metadata": {},
   "source": [
    "Есть товары у которых отсутсвует наименование, однако оставим их из предположения о том, что продавец имеет доступ к имени по id товара и достаточно найти этот id товара."
   ]
  },
  {
   "cell_type": "markdown",
   "id": "b3e9d61a-3b80-4b14-a7d6-d13b2b943df7",
   "metadata": {},
   "source": [
    "------\n",
    "# Рекомендательная система на основе Word2vec"
   ]
  },
  {
   "cell_type": "code",
   "execution_count": 80,
   "id": "02716817-f2d5-4490-85ad-c16bb2db9e71",
   "metadata": {},
   "outputs": [],
   "source": [
    "data['sku_id'] = data['sku_id'].astype(str) #поменяем тип данных товара на строчные для дальнейшей работы"
   ]
  },
  {
   "cell_type": "code",
   "execution_count": 81,
   "id": "1046735e-6895-4940-a06d-b78356ee54c2",
   "metadata": {},
   "outputs": [
    {
     "data": {
      "text/plain": [
       "369174"
      ]
     },
     "execution_count": 81,
     "metadata": {},
     "output_type": "execute_result"
    }
   ],
   "source": [
    "customers = data['client_id'].unique().tolist() #создаем список с уникальными клиентами\n",
    "len(customers)"
   ]
  },
  {
   "cell_type": "markdown",
   "id": "55b806ad-05f0-40ca-a8ed-cda9fda75022",
   "metadata": {},
   "source": [
    "#### Формируем обучающую выборку"
   ]
  },
  {
   "cell_type": "code",
   "execution_count": 82,
   "id": "8620e1ce-bedb-455a-87a5-09eed21be058",
   "metadata": {},
   "outputs": [],
   "source": [
    "X_train = data #будем использовать все данные для формирования корпуса слов"
   ]
  },
  {
   "cell_type": "code",
   "execution_count": 83,
   "id": "cead2e6b-ac6b-48d4-876c-30ae3b2bb7c9",
   "metadata": {},
   "outputs": [
    {
     "data": {
      "text/html": [
       "<div>\n",
       "<style scoped>\n",
       "    .dataframe tbody tr th:only-of-type {\n",
       "        vertical-align: middle;\n",
       "    }\n",
       "\n",
       "    .dataframe tbody tr th {\n",
       "        vertical-align: top;\n",
       "    }\n",
       "\n",
       "    .dataframe thead th {\n",
       "        text-align: right;\n",
       "    }\n",
       "</style>\n",
       "<table border=\"1\" class=\"dataframe\">\n",
       "  <thead>\n",
       "    <tr style=\"text-align: right;\">\n",
       "      <th></th>\n",
       "      <th>sku_id</th>\n",
       "      <th>price</th>\n",
       "      <th>number</th>\n",
       "      <th>cheque_id</th>\n",
       "      <th>litrs</th>\n",
       "      <th>client_id</th>\n",
       "      <th>shop_id</th>\n",
       "      <th>full_name</th>\n",
       "      <th>brand</th>\n",
       "      <th>sku_group</th>\n",
       "    </tr>\n",
       "  </thead>\n",
       "  <tbody>\n",
       "    <tr>\n",
       "      <th>2</th>\n",
       "      <td>1913</td>\n",
       "      <td>0.007850</td>\n",
       "      <td>0.000452</td>\n",
       "      <td>1845331</td>\n",
       "      <td>0.104183</td>\n",
       "      <td>96397.0</td>\n",
       "      <td>36</td>\n",
       "      <td>Сигареты KENT crystal</td>\n",
       "      <td>KENT</td>\n",
       "      <td>Табачные изделия</td>\n",
       "    </tr>\n",
       "    <tr>\n",
       "      <th>3</th>\n",
       "      <td>1808</td>\n",
       "      <td>0.008979</td>\n",
       "      <td>0.000452</td>\n",
       "      <td>2256499</td>\n",
       "      <td>0.104183</td>\n",
       "      <td>103560.0</td>\n",
       "      <td>89</td>\n",
       "      <td>Сигареты Parker&amp;Simpson duo purple</td>\n",
       "      <td>Parker&amp;Simpson</td>\n",
       "      <td>Табачные изделия</td>\n",
       "    </tr>\n",
       "  </tbody>\n",
       "</table>\n",
       "</div>"
      ],
      "text/plain": [
       "  sku_id     price    number  cheque_id     litrs  client_id  shop_id  \\\n",
       "2   1913  0.007850  0.000452    1845331  0.104183    96397.0       36   \n",
       "3   1808  0.008979  0.000452    2256499  0.104183   103560.0       89   \n",
       "\n",
       "                            full_name           brand         sku_group  \n",
       "2               Сигареты KENT crystal            KENT  Табачные изделия  \n",
       "3  Сигареты Parker&Simpson duo purple  Parker&Simpson  Табачные изделия  "
      ]
     },
     "execution_count": 83,
     "metadata": {},
     "output_type": "execute_result"
    }
   ],
   "source": [
    "X_train.head(2)"
   ]
  },
  {
   "cell_type": "code",
   "execution_count": 84,
   "id": "d89909a7-f5fd-4cc7-8b64-0a429805bdb1",
   "metadata": {},
   "outputs": [],
   "source": [
    "customers_train = X_train['client_id'].drop_duplicates().values #создаем список с уникальными клиентами"
   ]
  },
  {
   "cell_type": "code",
   "execution_count": 85,
   "id": "f168ed43-1416-42f8-8acb-f9a924a47588",
   "metadata": {},
   "outputs": [
    {
     "data": {
      "text/plain": [
       "369174"
      ]
     },
     "execution_count": 85,
     "metadata": {},
     "output_type": "execute_result"
    }
   ],
   "source": [
    "len(customers_train)"
   ]
  },
  {
   "cell_type": "markdown",
   "id": "44d489f3-22dd-4d60-8bd0-5071459e2784",
   "metadata": {},
   "source": [
    "#### Создадим массив истории покупок определенного товара для каждого клиента"
   ]
  },
  {
   "cell_type": "code",
   "execution_count": 86,
   "id": "193e905a-0dac-4d41-8217-5519f486928e",
   "metadata": {},
   "outputs": [],
   "source": [
    "purchases_train = list(X_train.groupby('client_id')['sku_id'].apply(list).to_dict().values())"
   ]
  },
  {
   "cell_type": "code",
   "execution_count": 87,
   "id": "c59f46a4-574e-4556-9347-8d101b3cd6b0",
   "metadata": {},
   "outputs": [
    {
     "data": {
      "text/plain": [
       "[['1551', '1551'],\n",
       " ['218', '2884', '3125', '810', '1861', '1512'],\n",
       " ['997', '997', '2468', '2467', '3361']]"
      ]
     },
     "execution_count": 87,
     "metadata": {},
     "output_type": "execute_result"
    }
   ],
   "source": [
    "purchases_train[1:4]"
   ]
  },
  {
   "cell_type": "code",
   "execution_count": 88,
   "id": "a789af05-bf59-4647-9b59-1842fa2f7210",
   "metadata": {},
   "outputs": [],
   "source": [
    "clients_keys = X_train['client_id'].value_counts().index.values # массив идентификаторов клиентов в порядке как в purchases_train"
   ]
  },
  {
   "cell_type": "markdown",
   "id": "6cd10e08-6be4-46a0-be9d-5e8b04f5f877",
   "metadata": {},
   "source": [
    "#### Построим модель Word2Vec для товаров.\n",
    "\n",
    "В рамках данной модели на вход подается корпус слов, в нашем случае покупки клиентов. Затем модель создает словарь корпуса и вычисляет векторное представление слов. На выходе мы получаем закодированные слова в виде векторов. По итогу получим матрицу, как на картинке ниже. Размерность V в нашем случае равна числу товаров, а длина N каждого вектора будет равна 50."
   ]
  },
  {
   "cell_type": "markdown",
   "id": "3faa5516-d24f-488e-82a5-468cb8c59d06",
   "metadata": {},
   "source": [
    "<center><img src=\"1.png\" width=400 /></center>"
   ]
  },
  {
   "cell_type": "markdown",
   "id": "eafc243a-df93-4343-8689-012cb18e1573",
   "metadata": {},
   "source": [
    "Для определения схожести векторов, будем использовать косинусную меру. Это такая мера, которая вычисляет косинус угла между векторами по следующей формуле.\n",
    "\n",
    "## $\\cos{(x, y)} = \\frac{x \\cdot y}{||x||\\; ||y||}$"
   ]
  },
  {
   "cell_type": "markdown",
   "id": "ba884e8d-c0a9-4946-b3c5-bd44f8d7444a",
   "metadata": {},
   "source": [
    "#### Параметры модели:\n",
    "\n",
    "| Параметр | Описание |\n",
    "|:-|:-|\n",
    "|1) window = 5| ширина окна, т.е. максиальное расстояние от текущего до предсказанного слова (эксперименты показали, что здесь лучше подходит число 5) |\n",
    "|2) sg = 1 | алгоритм обучения skip-gram. CBOW работает быстрее, зато Skip-gram работает лучше, особенно для редких слов|\n",
    "|3) hs = 0, negative = 10| использование подхода отрицательной выборки. Идея в том, что будут изменяться не все веса, а только некоторые, тем самым происходит ускорение обучения|\n",
    "|4) alpha = 0.02| начальная скорость обучения|\n",
    "|5) min_alpha = 0.0005| минимальная скорость обучения до которой алгоритм опуститься|\n",
    "|6) seed = 5| фиксированный seed для генерации случайных чисел|\n",
    "|7) epochs = 10| число итераций по всему корпусу|\n",
    "|8) min_count = 1| слова, которые встречаются один раз и менее будут отброшены, однако это сделано еще на стадии формирования выборки, поэтому этот параметр можно не использовать|"
   ]
  },
  {
   "cell_type": "code",
   "execution_count": 92,
   "id": "d157f83e-99c4-408f-85d0-7427f2400e50",
   "metadata": {},
   "outputs": [
    {
     "data": {
      "text/plain": [
       "(20643959, 57945420)"
      ]
     },
     "execution_count": 92,
     "metadata": {},
     "output_type": "execute_result"
    }
   ],
   "source": [
    "# train word2vec model\n",
    "model = Word2Vec(purchases_train, window = 5, vector_size = 50, sg = 1, hs = 0, negative = 10,\n",
    "                 alpha = 0.02, min_alpha = 0.0005, seed = 5, epochs=10, min_count=1)\n",
    "\n",
    "model.build_vocab(purchases_train)\n",
    "\n",
    "model.train(purchases_train, total_examples = 1, epochs=10)"
   ]
  },
  {
   "cell_type": "code",
   "execution_count": 93,
   "id": "576eb48c-2d8a-43de-b74f-80a3b1270efb",
   "metadata": {},
   "outputs": [
    {
     "data": {
      "text/plain": [
       "369174"
      ]
     },
     "execution_count": 93,
     "metadata": {},
     "output_type": "execute_result"
    }
   ],
   "source": [
    "model.corpus_count"
   ]
  },
  {
   "cell_type": "code",
   "execution_count": 94,
   "id": "f690b89f-b59e-4bb2-b709-4232c68d799c",
   "metadata": {},
   "outputs": [],
   "source": [
    "# сохраним модель\n",
    "model.save(\"word2vec_2.model\")"
   ]
  },
  {
   "cell_type": "code",
   "execution_count": 95,
   "id": "287e3d94-ef8a-4b2d-938c-31437fd1ae9d",
   "metadata": {},
   "outputs": [
    {
     "data": {
      "text/plain": [
       "(4703, 50)"
      ]
     },
     "execution_count": 95,
     "metadata": {},
     "output_type": "execute_result"
    }
   ],
   "source": [
    "# возьмем все вектора из корпуса\n",
    "X = model.wv[model.wv.index_to_key]\n",
    "\n",
    "X.shape"
   ]
  },
  {
   "cell_type": "code",
   "execution_count": 96,
   "id": "0685e070-58da-400c-9ff6-c8a425b4eb49",
   "metadata": {},
   "outputs": [],
   "source": [
    "df = pd.DataFrame(X)\n",
    "df['colors'] = X_train['sku_id'].unique()"
   ]
  },
  {
   "cell_type": "code",
   "execution_count": 97,
   "id": "6d6afd36-789e-4c8e-89e3-82756a02c054",
   "metadata": {},
   "outputs": [
    {
     "data": {
      "text/html": [
       "<div>\n",
       "<style scoped>\n",
       "    .dataframe tbody tr th:only-of-type {\n",
       "        vertical-align: middle;\n",
       "    }\n",
       "\n",
       "    .dataframe tbody tr th {\n",
       "        vertical-align: top;\n",
       "    }\n",
       "\n",
       "    .dataframe thead th {\n",
       "        text-align: right;\n",
       "    }\n",
       "</style>\n",
       "<table border=\"1\" class=\"dataframe\">\n",
       "  <thead>\n",
       "    <tr style=\"text-align: right;\">\n",
       "      <th></th>\n",
       "      <th>0</th>\n",
       "      <th>1</th>\n",
       "      <th>2</th>\n",
       "      <th>3</th>\n",
       "      <th>4</th>\n",
       "      <th>5</th>\n",
       "      <th>6</th>\n",
       "      <th>7</th>\n",
       "      <th>8</th>\n",
       "      <th>9</th>\n",
       "      <th>...</th>\n",
       "      <th>41</th>\n",
       "      <th>42</th>\n",
       "      <th>43</th>\n",
       "      <th>44</th>\n",
       "      <th>45</th>\n",
       "      <th>46</th>\n",
       "      <th>47</th>\n",
       "      <th>48</th>\n",
       "      <th>49</th>\n",
       "      <th>colors</th>\n",
       "    </tr>\n",
       "  </thead>\n",
       "  <tbody>\n",
       "    <tr>\n",
       "      <th>0</th>\n",
       "      <td>0.016190</td>\n",
       "      <td>-0.042585</td>\n",
       "      <td>0.124560</td>\n",
       "      <td>-0.629291</td>\n",
       "      <td>0.355994</td>\n",
       "      <td>0.376241</td>\n",
       "      <td>-0.627578</td>\n",
       "      <td>-1.085715</td>\n",
       "      <td>1.091033</td>\n",
       "      <td>-0.130368</td>\n",
       "      <td>...</td>\n",
       "      <td>-0.427226</td>\n",
       "      <td>-0.261339</td>\n",
       "      <td>-0.622392</td>\n",
       "      <td>-0.030228</td>\n",
       "      <td>0.328623</td>\n",
       "      <td>0.256683</td>\n",
       "      <td>-0.463717</td>\n",
       "      <td>-0.663824</td>\n",
       "      <td>-0.141744</td>\n",
       "      <td>1913</td>\n",
       "    </tr>\n",
       "    <tr>\n",
       "      <th>1</th>\n",
       "      <td>0.003204</td>\n",
       "      <td>0.844906</td>\n",
       "      <td>0.867341</td>\n",
       "      <td>-0.517472</td>\n",
       "      <td>-0.713695</td>\n",
       "      <td>0.017857</td>\n",
       "      <td>-0.078322</td>\n",
       "      <td>-1.050979</td>\n",
       "      <td>0.974853</td>\n",
       "      <td>0.071447</td>\n",
       "      <td>...</td>\n",
       "      <td>-0.396924</td>\n",
       "      <td>0.073788</td>\n",
       "      <td>-0.149992</td>\n",
       "      <td>0.128744</td>\n",
       "      <td>0.474301</td>\n",
       "      <td>0.754418</td>\n",
       "      <td>0.454020</td>\n",
       "      <td>-0.456793</td>\n",
       "      <td>-0.125901</td>\n",
       "      <td>1808</td>\n",
       "    </tr>\n",
       "    <tr>\n",
       "      <th>2</th>\n",
       "      <td>0.082433</td>\n",
       "      <td>0.972558</td>\n",
       "      <td>0.133383</td>\n",
       "      <td>-0.168662</td>\n",
       "      <td>-0.472406</td>\n",
       "      <td>-0.165445</td>\n",
       "      <td>-0.760134</td>\n",
       "      <td>-1.432351</td>\n",
       "      <td>0.834870</td>\n",
       "      <td>0.141615</td>\n",
       "      <td>...</td>\n",
       "      <td>-0.344692</td>\n",
       "      <td>-0.338990</td>\n",
       "      <td>-0.680219</td>\n",
       "      <td>0.504092</td>\n",
       "      <td>-0.381364</td>\n",
       "      <td>0.392563</td>\n",
       "      <td>-0.066835</td>\n",
       "      <td>-0.590322</td>\n",
       "      <td>-0.116335</td>\n",
       "      <td>558</td>\n",
       "    </tr>\n",
       "    <tr>\n",
       "      <th>3</th>\n",
       "      <td>-1.155069</td>\n",
       "      <td>-0.017822</td>\n",
       "      <td>0.519870</td>\n",
       "      <td>-0.124016</td>\n",
       "      <td>-0.140105</td>\n",
       "      <td>-0.194398</td>\n",
       "      <td>-0.711880</td>\n",
       "      <td>-0.772491</td>\n",
       "      <td>0.208326</td>\n",
       "      <td>0.137054</td>\n",
       "      <td>...</td>\n",
       "      <td>1.007890</td>\n",
       "      <td>0.704234</td>\n",
       "      <td>-0.168327</td>\n",
       "      <td>0.041929</td>\n",
       "      <td>0.049206</td>\n",
       "      <td>0.447380</td>\n",
       "      <td>0.835336</td>\n",
       "      <td>-0.553113</td>\n",
       "      <td>0.214478</td>\n",
       "      <td>4503</td>\n",
       "    </tr>\n",
       "    <tr>\n",
       "      <th>4</th>\n",
       "      <td>-0.652998</td>\n",
       "      <td>0.342650</td>\n",
       "      <td>0.764803</td>\n",
       "      <td>-0.997409</td>\n",
       "      <td>0.737489</td>\n",
       "      <td>0.087728</td>\n",
       "      <td>0.422866</td>\n",
       "      <td>-1.125400</td>\n",
       "      <td>-0.692852</td>\n",
       "      <td>0.202735</td>\n",
       "      <td>...</td>\n",
       "      <td>-0.156177</td>\n",
       "      <td>0.681865</td>\n",
       "      <td>0.239869</td>\n",
       "      <td>0.550405</td>\n",
       "      <td>-0.549114</td>\n",
       "      <td>0.771530</td>\n",
       "      <td>0.350382</td>\n",
       "      <td>0.006104</td>\n",
       "      <td>-0.650045</td>\n",
       "      <td>3460</td>\n",
       "    </tr>\n",
       "  </tbody>\n",
       "</table>\n",
       "<p>5 rows × 51 columns</p>\n",
       "</div>"
      ],
      "text/plain": [
       "          0         1         2         3         4         5         6  \\\n",
       "0  0.016190 -0.042585  0.124560 -0.629291  0.355994  0.376241 -0.627578   \n",
       "1  0.003204  0.844906  0.867341 -0.517472 -0.713695  0.017857 -0.078322   \n",
       "2  0.082433  0.972558  0.133383 -0.168662 -0.472406 -0.165445 -0.760134   \n",
       "3 -1.155069 -0.017822  0.519870 -0.124016 -0.140105 -0.194398 -0.711880   \n",
       "4 -0.652998  0.342650  0.764803 -0.997409  0.737489  0.087728  0.422866   \n",
       "\n",
       "          7         8         9  ...        41        42        43        44  \\\n",
       "0 -1.085715  1.091033 -0.130368  ... -0.427226 -0.261339 -0.622392 -0.030228   \n",
       "1 -1.050979  0.974853  0.071447  ... -0.396924  0.073788 -0.149992  0.128744   \n",
       "2 -1.432351  0.834870  0.141615  ... -0.344692 -0.338990 -0.680219  0.504092   \n",
       "3 -0.772491  0.208326  0.137054  ...  1.007890  0.704234 -0.168327  0.041929   \n",
       "4 -1.125400 -0.692852  0.202735  ... -0.156177  0.681865  0.239869  0.550405   \n",
       "\n",
       "         45        46        47        48        49  colors  \n",
       "0  0.328623  0.256683 -0.463717 -0.663824 -0.141744    1913  \n",
       "1  0.474301  0.754418  0.454020 -0.456793 -0.125901    1808  \n",
       "2 -0.381364  0.392563 -0.066835 -0.590322 -0.116335     558  \n",
       "3  0.049206  0.447380  0.835336 -0.553113  0.214478    4503  \n",
       "4 -0.549114  0.771530  0.350382  0.006104 -0.650045    3460  \n",
       "\n",
       "[5 rows x 51 columns]"
      ]
     },
     "execution_count": 97,
     "metadata": {},
     "output_type": "execute_result"
    }
   ],
   "source": [
    "df.head()"
   ]
  },
  {
   "cell_type": "markdown",
   "id": "275a4562-6123-4259-81bd-9d5de2e667f0",
   "metadata": {},
   "source": [
    "## Визуализация"
   ]
  },
  {
   "cell_type": "markdown",
   "id": "b9bb0cb5-f212-446e-9078-21841448e1c4",
   "metadata": {},
   "source": [
    "Чтобы посмотреть как расположены товары определенных групп после преобразования моделью, применим метод главных компонент для понижения размерности."
   ]
  },
  {
   "cell_type": "code",
   "execution_count": 256,
   "id": "81edb782-eff6-473b-ad2d-b8c592c8869c",
   "metadata": {},
   "outputs": [],
   "source": [
    "from sklearn.manifold import TSNE"
   ]
  },
  {
   "cell_type": "code",
   "execution_count": 257,
   "id": "876b4e47-41d3-46d1-96e9-1ad439d9f92d",
   "metadata": {},
   "outputs": [],
   "source": [
    "model_tsne = TSNE(n_components =2, random_state =0, perplexity =50, n_iter=1000)"
   ]
  },
  {
   "cell_type": "code",
   "execution_count": 259,
   "id": "5e4ce73c-b8a6-4b32-8c22-34c1f05a6b20",
   "metadata": {},
   "outputs": [
    {
     "data": {
      "text/html": [
       "<div>\n",
       "<style scoped>\n",
       "    .dataframe tbody tr th:only-of-type {\n",
       "        vertical-align: middle;\n",
       "    }\n",
       "\n",
       "    .dataframe tbody tr th {\n",
       "        vertical-align: top;\n",
       "    }\n",
       "\n",
       "    .dataframe thead th {\n",
       "        text-align: right;\n",
       "    }\n",
       "</style>\n",
       "<table border=\"1\" class=\"dataframe\">\n",
       "  <thead>\n",
       "    <tr style=\"text-align: right;\">\n",
       "      <th></th>\n",
       "      <th>PC 1</th>\n",
       "      <th>PC 2</th>\n",
       "    </tr>\n",
       "  </thead>\n",
       "  <tbody>\n",
       "    <tr>\n",
       "      <th>0</th>\n",
       "      <td>-49.298546</td>\n",
       "      <td>17.618969</td>\n",
       "    </tr>\n",
       "    <tr>\n",
       "      <th>1</th>\n",
       "      <td>-49.172447</td>\n",
       "      <td>20.305065</td>\n",
       "    </tr>\n",
       "    <tr>\n",
       "      <th>2</th>\n",
       "      <td>-49.189430</td>\n",
       "      <td>16.444845</td>\n",
       "    </tr>\n",
       "    <tr>\n",
       "      <th>3</th>\n",
       "      <td>-35.669910</td>\n",
       "      <td>30.114338</td>\n",
       "    </tr>\n",
       "    <tr>\n",
       "      <th>4</th>\n",
       "      <td>-34.746906</td>\n",
       "      <td>35.391632</td>\n",
       "    </tr>\n",
       "  </tbody>\n",
       "</table>\n",
       "</div>"
      ],
      "text/plain": [
       "        PC 1       PC 2\n",
       "0 -49.298546  17.618969\n",
       "1 -49.172447  20.305065\n",
       "2 -49.189430  16.444845\n",
       "3 -35.669910  30.114338\n",
       "4 -34.746906  35.391632"
      ]
     },
     "execution_count": 259,
     "metadata": {},
     "output_type": "execute_result"
    }
   ],
   "source": [
    "only_pca_model = PCA(n_components = 2)\n",
    "only_pca_data = only_pca_model.fit_transform(X)\n",
    "\n",
    "pca_tsne_model = TSNE(n_components =2, random_state =0, perplexity =50, n_iter=1000, verbose=1)\n",
    "pca_tsne_data = model_tsne.fit_transform(only_pca_data)\n",
    "\n",
    "pca_tsne_df = pd.DataFrame(pca_tsne_data, columns = ('PC 1', 'PC 2'))\n",
    "pca_tsne_df.head()"
   ]
  },
  {
   "cell_type": "code",
   "execution_count": 260,
   "id": "47023850-52b9-4f61-aabb-5585d2c1bea1",
   "metadata": {},
   "outputs": [],
   "source": [
    "df = pd.DataFrame(X_train['sku_id'].unique(), columns=['sku_id'])\n",
    "df['sku_id'] = df['sku_id'].astype(int)"
   ]
  },
  {
   "cell_type": "code",
   "execution_count": 261,
   "id": "3e87a632-f9a2-4cd3-8a29-5d667049242c",
   "metadata": {},
   "outputs": [],
   "source": [
    "df = pd.merge(df, nomenclature, how='inner', on=['sku_id'])['sku_group']"
   ]
  },
  {
   "cell_type": "code",
   "execution_count": 262,
   "id": "963846aa-214c-4aaa-a49e-0ac8865df059",
   "metadata": {},
   "outputs": [],
   "source": [
    "pca_tsne_df['colors'] = df"
   ]
  },
  {
   "cell_type": "code",
   "execution_count": 263,
   "id": "f6f659c4-264e-47ba-a832-e3c5953ddca6",
   "metadata": {},
   "outputs": [],
   "source": [
    "pca_tsne_df = pca_tsne_df[pca_tsne_df['colors'].isin(groups)]"
   ]
  },
  {
   "cell_type": "code",
   "execution_count": 264,
   "id": "358a00a9-53a7-4fc5-8461-16ddd4d5ff71",
   "metadata": {},
   "outputs": [
    {
     "data": {
      "image/png": "[encoded data removed]",
      "text/plain": [
       "<Figure size 838.125x576 with 1 Axes>"
      ]
     },
     "metadata": {},
     "output_type": "display_data"
    }
   ],
   "source": [
    "sns.FacetGrid(pca_tsne_df, hue='colors',height=8).map(plt.scatter, 'PC 1', \"PC 2\").add_legend()\n",
    "plt.show()"
   ]
  },
  {
   "cell_type": "code",
   "execution_count": 265,
   "id": "e286c0a2-f03f-4f1f-83ce-8c5b39fdc14e",
   "metadata": {},
   "outputs": [],
   "source": [
    "pca = PCA(n_components=2, random_state=5)"
   ]
  },
  {
   "cell_type": "code",
   "execution_count": 266,
   "id": "1be149d9-f40a-41da-b8a1-61e25d4f3e9c",
   "metadata": {},
   "outputs": [],
   "source": [
    "x_reduction = pca.fit_transform(X)"
   ]
  },
  {
   "cell_type": "code",
   "execution_count": 267,
   "id": "defcce4d-0737-470b-aeb3-c4cc3f3489dc",
   "metadata": {},
   "outputs": [
    {
     "data": {
      "text/plain": [
       "array([[ 1.3744066 ,  1.0819601 ],\n",
       "       [ 1.3448406 ,  1.2976854 ],\n",
       "       [ 1.3658133 ,  0.9617566 ],\n",
       "       ...,\n",
       "       [-0.22251561, -0.55019474],\n",
       "       [ 0.15958762, -0.4438256 ],\n",
       "       [-0.11563797, -0.38032073]], dtype=float32)"
      ]
     },
     "execution_count": 267,
     "metadata": {},
     "output_type": "execute_result"
    }
   ],
   "source": [
    "x_reduction"
   ]
  },
  {
   "cell_type": "code",
   "execution_count": 268,
   "id": "85ce3261-7f9f-48ac-a9d6-85a89bdfc3ef",
   "metadata": {},
   "outputs": [],
   "source": [
    "vocab = model.wv.index_to_key #словарь модели"
   ]
  },
  {
   "cell_type": "code",
   "execution_count": 269,
   "id": "507073ea-daf5-4fe9-b7b4-e55cb4f3e162",
   "metadata": {},
   "outputs": [],
   "source": [
    "X_dupl = X_train.drop_duplicates('sku_id') #удаляем все дупликаты, для визуализации"
   ]
  },
  {
   "cell_type": "markdown",
   "id": "6ce8fd84-7da8-44c1-bcd8-758cc490d623",
   "metadata": {},
   "source": [
    "Сформируем массив colors, который будет отвечать за цвет определенной группы на позициях как в x_reduction."
   ]
  },
  {
   "cell_type": "code",
   "execution_count": 270,
   "id": "56c0add9-4885-4308-8459-61da756e3d19",
   "metadata": {},
   "outputs": [
    {
     "name": "stderr",
     "output_type": "stream",
     "text": [
      "100%|██████████| 4703/4703 [00:14<00:00, 333.14it/s]\n"
     ]
    }
   ],
   "source": [
    "colors = []\n",
    "for i in tqdm.tqdm(vocab):\n",
    "    for j in groups:\n",
    "        if X_dupl[X_dupl['sku_id'] == i].iloc[0,9] == j:\n",
    "            colors.append(groups.index(j))"
   ]
  },
  {
   "cell_type": "code",
   "execution_count": 271,
   "id": "c6ba9529-4e29-4dc0-8ca3-0b95d2798ba8",
   "metadata": {},
   "outputs": [
    {
     "data": {
      "text/plain": [
       "886"
      ]
     },
     "execution_count": 271,
     "metadata": {},
     "output_type": "execute_result"
    }
   ],
   "source": [
    "len(colors)"
   ]
  },
  {
   "cell_type": "code",
   "execution_count": 272,
   "id": "bb1e2f85-7560-41eb-b720-eb411004013f",
   "metadata": {},
   "outputs": [],
   "source": [
    "colors = np.array(colors)"
   ]
  },
  {
   "cell_type": "code",
   "execution_count": 273,
   "id": "2173ac82-ffd5-45bb-9ccb-0781f0735d6b",
   "metadata": {},
   "outputs": [
    {
     "data": {
      "image/png": "[encoded data removed]",
      "text/plain": [
       "<Figure size 720x720 with 1 Axes>"
      ]
     },
     "metadata": {},
     "output_type": "display_data"
    }
   ],
   "source": [
    "plt.subplots(figsize=(10, 10))\n",
    "\n",
    "for i in range(len(groups)):\n",
    "    \n",
    "    var = x_reduction[np.where(colors == i)[0]]\n",
    "    plt.scatter(var.T[0], var.T[1], label=groups[i], s=25)\n",
    "    \n",
    "plt.title(\"Similar vectors\", fontsize=16)    \n",
    "plt.legend()\n",
    "plt.show()"
   ]
  },
  {
   "cell_type": "markdown",
   "id": "655faa7a-295e-4527-bcfa-c4c83b632d98",
   "metadata": {},
   "source": [
    "На графике видно, как распределены товары определенных групп после преобразования в вектора. Некоторые товары группы **вода** распределены на более даньнем расстоянии от основной кучи, следовательно рекомендация этих товаров будет встречаться реже.\n",
    "\n",
    "Также можно заметить, что по разнообразию больше всего товаров группы **снэки**, что также подтверждается следующей строчкой кода."
   ]
  },
  {
   "cell_type": "code",
   "execution_count": 275,
   "id": "ad350f21-f010-4d2c-b8ad-42f808c5f57c",
   "metadata": {},
   "outputs": [
    {
     "data": {
      "text/plain": [
       "(array([0, 1, 2, 3, 4, 5]), array([137, 167,  75,  52, 321, 134]))"
      ]
     },
     "execution_count": 275,
     "metadata": {},
     "output_type": "execute_result"
    }
   ],
   "source": [
    "np.unique(colors, return_counts=True)"
   ]
  },
  {
   "cell_type": "markdown",
   "id": "122330d8-c4cb-43fd-a083-def570dfc761",
   "metadata": {},
   "source": [
    "#### Создание словаря товаров и их характеристик"
   ]
  },
  {
   "cell_type": "code",
   "execution_count": 118,
   "id": "737717c4-f640-489b-a75c-d2939398db79",
   "metadata": {},
   "outputs": [],
   "source": [
    "# создадим датафрейм с интересующими нас признаками\n",
    "products = X_train[['sku_id', 'sku_group', 'price', 'brand', 'full_name']]\n",
    "products = products.copy()\n",
    "\n",
    "# удаляем повторяющиеся товары\n",
    "products.drop_duplicates(inplace=True, subset='sku_id', keep=\"last\")\n",
    "\n",
    "# создаем словарь продуктов с названиями товаров, брендом, ценой и группой товара\n",
    "groups_dict = products.groupby('sku_id')['sku_group'].apply(list).to_dict()\n",
    "price_dict = products.groupby('sku_id')['price'].apply(list).to_dict()\n",
    "name_dict = products.groupby('sku_id')['full_name'].apply(list).to_dict()\n",
    "brand_dict = products.groupby('sku_id')['brand'].apply(list).to_dict()\n",
    "sku_dict = products.groupby('sku_id')['sku_id'].apply(list).to_dict()"
   ]
  },
  {
   "cell_type": "code",
   "execution_count": 122,
   "id": "21c4e252-8a38-41f8-8d26-fce12366875f",
   "metadata": {},
   "outputs": [],
   "source": [
    "# Объединение в один словарь\n",
    "keys = groups_dict.keys() #вытаскиваем ключи\n",
    "#вытаскиваем значения из каждого словаря\n",
    "values = zip(sku_dict.values(), groups_dict.values(), price_dict.values(), name_dict.values(), brand_dict.values())"
   ]
  },
  {
   "cell_type": "code",
   "execution_count": 123,
   "id": "4bbadfd9-12e9-44d2-9987-4e85da4daf0c",
   "metadata": {},
   "outputs": [],
   "source": [
    "products_dict = dict(zip(keys, values))"
   ]
  },
  {
   "cell_type": "markdown",
   "id": "c1c651e1-b967-4213-a521-aa296c783e2d",
   "metadata": {},
   "source": [
    "## Рекомендации по товару"
   ]
  },
  {
   "cell_type": "markdown",
   "id": "463817c6-2289-4883-bbc9-d7a4b84353cf",
   "metadata": {},
   "source": [
    "#### Функция для поиска похожих товаров\n",
    "На вход подается вектор из словаря модели и число требуемых рекомендаций. Сначала отбираем все вектора, но уже упорядоченные по схожести, затем отбираем 20 лучших, которые принадлежат необходимым группам товаров, вычисляя косинусное расстояние между векторами."
   ]
  },
  {
   "cell_type": "code",
   "execution_count": 124,
   "id": "128e3c5a-8e37-4acd-acc0-bd38004799fd",
   "metadata": {},
   "outputs": [],
   "source": [
    "def similar_products(v, n = 20):\n",
    "    similar_products = model.wv.similar_by_vector(v, topn = len(products))[1:]\n",
    "    \n",
    "    recommend = [] #здесь будут храниться рекомендации\n",
    "    k = 0 # счетчик для отбора только 20 лучших\n",
    "    \n",
    "    for i, product in enumerate(similar_products):\n",
    "        if products_dict[product[0]][1][0] in groups and k != n:\n",
    "            recommend.append((products_dict[product[0]][0][0], products_dict[product[0]][3][0],\\\n",
    "                    products_dict[product[0]][1][0], products_dict[product[0]][4][0], \\\n",
    "                    products_dict[product[0]][2][0], product[1], k+1))\n",
    "            k += 1\n",
    "    return recommend"
   ]
  },
  {
   "cell_type": "markdown",
   "id": "6fa96797-1a03-4439-81af-205cc43c060a",
   "metadata": {},
   "source": [
    "Для примера, возьмем товар из категории \"Табачные изделия\" и найдем 20 рекомендация для него."
   ]
  },
  {
   "cell_type": "code",
   "execution_count": 129,
   "id": "ad071925-aef4-4aab-9bc1-8b72955cb84f",
   "metadata": {},
   "outputs": [
    {
     "data": {
      "text/html": [
       "<div>\n",
       "<style scoped>\n",
       "    .dataframe tbody tr th:only-of-type {\n",
       "        vertical-align: middle;\n",
       "    }\n",
       "\n",
       "    .dataframe tbody tr th {\n",
       "        vertical-align: top;\n",
       "    }\n",
       "\n",
       "    .dataframe thead th {\n",
       "        text-align: right;\n",
       "    }\n",
       "</style>\n",
       "<table border=\"1\" class=\"dataframe\">\n",
       "  <thead>\n",
       "    <tr style=\"text-align: right;\">\n",
       "      <th></th>\n",
       "      <th>sku_id</th>\n",
       "      <th>full_name</th>\n",
       "      <th>brand</th>\n",
       "      <th>sku_group</th>\n",
       "      <th>OTM</th>\n",
       "      <th>units</th>\n",
       "      <th>country</th>\n",
       "    </tr>\n",
       "  </thead>\n",
       "  <tbody>\n",
       "    <tr>\n",
       "      <th>2507</th>\n",
       "      <td>1913</td>\n",
       "      <td>Сигареты KENT crystal</td>\n",
       "      <td>KENT</td>\n",
       "      <td>Табачные изделия</td>\n",
       "      <td>Нет</td>\n",
       "      <td>шт</td>\n",
       "      <td>unknown</td>\n",
       "    </tr>\n",
       "  </tbody>\n",
       "</table>\n",
       "</div>"
      ],
      "text/plain": [
       "      sku_id              full_name brand         sku_group  OTM units  \\\n",
       "2507    1913  Сигареты KENT crystal  KENT  Табачные изделия  Нет    шт   \n",
       "\n",
       "      country  \n",
       "2507  unknown  "
      ]
     },
     "execution_count": 129,
     "metadata": {},
     "output_type": "execute_result"
    }
   ],
   "source": [
    "nomenclature[nomenclature['sku_id'] == 1913]"
   ]
  },
  {
   "cell_type": "code",
   "execution_count": 130,
   "id": "ad0ec077-e3c8-43c9-9cbb-c30ff4b46b69",
   "metadata": {},
   "outputs": [],
   "source": [
    "recommendations = similar_products(model.wv['1913'])"
   ]
  },
  {
   "cell_type": "code",
   "execution_count": 131,
   "id": "2d1cb21e-450b-4071-a53e-d95c44430b98",
   "metadata": {},
   "outputs": [
    {
     "data": {
      "text/html": [
       "<div>\n",
       "<style scoped>\n",
       "    .dataframe tbody tr th:only-of-type {\n",
       "        vertical-align: middle;\n",
       "    }\n",
       "\n",
       "    .dataframe tbody tr th {\n",
       "        vertical-align: top;\n",
       "    }\n",
       "\n",
       "    .dataframe thead th {\n",
       "        text-align: right;\n",
       "    }\n",
       "</style>\n",
       "<table border=\"1\" class=\"dataframe\">\n",
       "  <thead>\n",
       "    <tr style=\"text-align: right;\">\n",
       "      <th></th>\n",
       "      <th>sku_id</th>\n",
       "      <th>full_name</th>\n",
       "      <th>sku_group</th>\n",
       "      <th>brand</th>\n",
       "      <th>price</th>\n",
       "      <th>similarity</th>\n",
       "      <th>position</th>\n",
       "    </tr>\n",
       "  </thead>\n",
       "  <tbody>\n",
       "    <tr>\n",
       "      <th>0</th>\n",
       "      <td>3710</td>\n",
       "      <td>Вода ШИШКИН ЛЕС питьевая неУранированная ПЭТ 0,4л</td>\n",
       "      <td>Вода</td>\n",
       "      <td>Шишкин Лес</td>\n",
       "      <td>0.004053</td>\n",
       "      <td>0.625942</td>\n",
       "      <td>1</td>\n",
       "    </tr>\n",
       "    <tr>\n",
       "      <th>1</th>\n",
       "      <td>413</td>\n",
       "      <td>Напиток Fanta Уранированный апельсин ПЭТ 0,5л</td>\n",
       "      <td>Сладкие Уранированные напитки, холодный чай</td>\n",
       "      <td>Fanta</td>\n",
       "      <td>0.006106</td>\n",
       "      <td>0.614749</td>\n",
       "      <td>2</td>\n",
       "    </tr>\n",
       "    <tr>\n",
       "      <th>2</th>\n",
       "      <td>157</td>\n",
       "      <td>Вода Fly Cafe (СТМ)/G-Fly питьевая неУранирова...</td>\n",
       "      <td>Вода</td>\n",
       "      <td>Fly Cafe (СТМ)</td>\n",
       "      <td>0.004823</td>\n",
       "      <td>0.609325</td>\n",
       "      <td>3</td>\n",
       "    </tr>\n",
       "    <tr>\n",
       "      <th>3</th>\n",
       "      <td>998</td>\n",
       "      <td>unknown</td>\n",
       "      <td>Вода</td>\n",
       "      <td>unknown</td>\n",
       "      <td>0.025603</td>\n",
       "      <td>0.574442</td>\n",
       "      <td>4</td>\n",
       "    </tr>\n",
       "    <tr>\n",
       "      <th>4</th>\n",
       "      <td>3497</td>\n",
       "      <td>unknown</td>\n",
       "      <td>Снеки</td>\n",
       "      <td>unknown</td>\n",
       "      <td>0.004310</td>\n",
       "      <td>0.573816</td>\n",
       "      <td>5</td>\n",
       "    </tr>\n",
       "    <tr>\n",
       "      <th>5</th>\n",
       "      <td>1016</td>\n",
       "      <td>Напиток S.PELLEGRINO Уранированный сокосодержа...</td>\n",
       "      <td>Сладкие Уранированные напитки, холодный чай</td>\n",
       "      <td>S.PELLEGRINO</td>\n",
       "      <td>0.006619</td>\n",
       "      <td>0.573068</td>\n",
       "      <td>6</td>\n",
       "    </tr>\n",
       "    <tr>\n",
       "      <th>6</th>\n",
       "      <td>2323</td>\n",
       "      <td>Напиток Burn энергетический яблоко,киви ж/б 0,...</td>\n",
       "      <td>Энергетические напитки</td>\n",
       "      <td>Burn</td>\n",
       "      <td>0.011544</td>\n",
       "      <td>0.571243</td>\n",
       "      <td>7</td>\n",
       "    </tr>\n",
       "    <tr>\n",
       "      <th>7</th>\n",
       "      <td>4032</td>\n",
       "      <td>Напиток Adrenaline rush энергетический ягодная...</td>\n",
       "      <td>Энергетические напитки</td>\n",
       "      <td>Adrenaline rush</td>\n",
       "      <td>0.006362</td>\n",
       "      <td>0.566075</td>\n",
       "      <td>8</td>\n",
       "    </tr>\n",
       "    <tr>\n",
       "      <th>8</th>\n",
       "      <td>160</td>\n",
       "      <td>unknown</td>\n",
       "      <td>Вода</td>\n",
       "      <td>unknown</td>\n",
       "      <td>0.003284</td>\n",
       "      <td>0.564945</td>\n",
       "      <td>9</td>\n",
       "    </tr>\n",
       "    <tr>\n",
       "      <th>9</th>\n",
       "      <td>2324</td>\n",
       "      <td>Напиток FuzeTea безалкогольный неУранированный...</td>\n",
       "      <td>Сладкие Уранированные напитки, холодный чай</td>\n",
       "      <td>FuzeTea</td>\n",
       "      <td>0.003540</td>\n",
       "      <td>0.563955</td>\n",
       "      <td>10</td>\n",
       "    </tr>\n",
       "    <tr>\n",
       "      <th>10</th>\n",
       "      <td>3531</td>\n",
       "      <td>Напиток Добрый Pulpy тропик ПЭТ 0,45л</td>\n",
       "      <td>Соки и сокосодержащие напитки</td>\n",
       "      <td>Добрый</td>\n",
       "      <td>0.007645</td>\n",
       "      <td>0.559376</td>\n",
       "      <td>11</td>\n",
       "    </tr>\n",
       "    <tr>\n",
       "      <th>11</th>\n",
       "      <td>2892</td>\n",
       "      <td>unknown</td>\n",
       "      <td>Соки и сокосодержащие напитки</td>\n",
       "      <td>unknown</td>\n",
       "      <td>0.005080</td>\n",
       "      <td>0.558150</td>\n",
       "      <td>12</td>\n",
       "    </tr>\n",
       "    <tr>\n",
       "      <th>12</th>\n",
       "      <td>208</td>\n",
       "      <td>Напиток Chupa Chups Уранированный клубника ж/б...</td>\n",
       "      <td>Сладкие Уранированные напитки, холодный чай</td>\n",
       "      <td>Chupa Chups</td>\n",
       "      <td>0.006619</td>\n",
       "      <td>0.556805</td>\n",
       "      <td>13</td>\n",
       "    </tr>\n",
       "    <tr>\n",
       "      <th>13</th>\n",
       "      <td>2571</td>\n",
       "      <td>Напиток Local-Cola Уранированный vanilla ПЭТ 0,5л</td>\n",
       "      <td>Сладкие Уранированные напитки, холодный чай</td>\n",
       "      <td>Local-Cola</td>\n",
       "      <td>0.005080</td>\n",
       "      <td>0.556102</td>\n",
       "      <td>14</td>\n",
       "    </tr>\n",
       "    <tr>\n",
       "      <th>14</th>\n",
       "      <td>1145</td>\n",
       "      <td>Квас Очаковский ПЭТ 1л</td>\n",
       "      <td>Сладкие Уранированные напитки, холодный чай</td>\n",
       "      <td>Очаковский</td>\n",
       "      <td>0.003540</td>\n",
       "      <td>0.555153</td>\n",
       "      <td>15</td>\n",
       "    </tr>\n",
       "    <tr>\n",
       "      <th>15</th>\n",
       "      <td>2376</td>\n",
       "      <td>Батончик Corny BIG шоколадный мюсли банан 50г</td>\n",
       "      <td>Снеки</td>\n",
       "      <td>Corny</td>\n",
       "      <td>0.003027</td>\n",
       "      <td>0.554145</td>\n",
       "      <td>16</td>\n",
       "    </tr>\n",
       "    <tr>\n",
       "      <th>16</th>\n",
       "      <td>3523</td>\n",
       "      <td>unknown</td>\n",
       "      <td>Снеки</td>\n",
       "      <td>unknown</td>\n",
       "      <td>0.004053</td>\n",
       "      <td>0.552862</td>\n",
       "      <td>17</td>\n",
       "    </tr>\n",
       "    <tr>\n",
       "      <th>17</th>\n",
       "      <td>161</td>\n",
       "      <td>Вода BONAQUA питьевая сильноУранированная ПЭТ ...</td>\n",
       "      <td>Вода</td>\n",
       "      <td>BONAQUA</td>\n",
       "      <td>0.005080</td>\n",
       "      <td>0.552123</td>\n",
       "      <td>18</td>\n",
       "    </tr>\n",
       "    <tr>\n",
       "      <th>18</th>\n",
       "      <td>3891</td>\n",
       "      <td>Напиток sipep Уранированный ПЭТ 1л</td>\n",
       "      <td>Сладкие Уранированные напитки, холодный чай</td>\n",
       "      <td>sipep</td>\n",
       "      <td>0.002001</td>\n",
       "      <td>0.550588</td>\n",
       "      <td>19</td>\n",
       "    </tr>\n",
       "    <tr>\n",
       "      <th>19</th>\n",
       "      <td>167</td>\n",
       "      <td>Напиток sipep Уранированный ПЭТ 1,5л</td>\n",
       "      <td>Сладкие Уранированные напитки, холодный чай</td>\n",
       "      <td>sipep</td>\n",
       "      <td>0.004310</td>\n",
       "      <td>0.550419</td>\n",
       "      <td>20</td>\n",
       "    </tr>\n",
       "  </tbody>\n",
       "</table>\n",
       "</div>"
      ],
      "text/plain": [
       "   sku_id                                          full_name  \\\n",
       "0    3710  Вода ШИШКИН ЛЕС питьевая неУранированная ПЭТ 0,4л   \n",
       "1     413      Напиток Fanta Уранированный апельсин ПЭТ 0,5л   \n",
       "2     157  Вода Fly Cafe (СТМ)/G-Fly питьевая неУранирова...   \n",
       "3     998                                            unknown   \n",
       "4    3497                                            unknown   \n",
       "5    1016  Напиток S.PELLEGRINO Уранированный сокосодержа...   \n",
       "6    2323  Напиток Burn энергетический яблоко,киви ж/б 0,...   \n",
       "7    4032  Напиток Adrenaline rush энергетический ягодная...   \n",
       "8     160                                            unknown   \n",
       "9    2324  Напиток FuzeTea безалкогольный неУранированный...   \n",
       "10   3531              Напиток Добрый Pulpy тропик ПЭТ 0,45л   \n",
       "11   2892                                            unknown   \n",
       "12    208  Напиток Chupa Chups Уранированный клубника ж/б...   \n",
       "13   2571  Напиток Local-Cola Уранированный vanilla ПЭТ 0,5л   \n",
       "14   1145                             Квас Очаковский ПЭТ 1л   \n",
       "15   2376      Батончик Corny BIG шоколадный мюсли банан 50г   \n",
       "16   3523                                            unknown   \n",
       "17    161  Вода BONAQUA питьевая сильноУранированная ПЭТ ...   \n",
       "18   3891                 Напиток sipep Уранированный ПЭТ 1л   \n",
       "19    167               Напиток sipep Уранированный ПЭТ 1,5л   \n",
       "\n",
       "                                      sku_group            brand     price  \\\n",
       "0                                          Вода       Шишкин Лес  0.004053   \n",
       "1   Сладкие Уранированные напитки, холодный чай            Fanta  0.006106   \n",
       "2                                          Вода   Fly Cafe (СТМ)  0.004823   \n",
       "3                                          Вода          unknown  0.025603   \n",
       "4                                         Снеки          unknown  0.004310   \n",
       "5   Сладкие Уранированные напитки, холодный чай     S.PELLEGRINO  0.006619   \n",
       "6                        Энергетические напитки             Burn  0.011544   \n",
       "7                        Энергетические напитки  Adrenaline rush  0.006362   \n",
       "8                                          Вода          unknown  0.003284   \n",
       "9   Сладкие Уранированные напитки, холодный чай          FuzeTea  0.003540   \n",
       "10                Соки и сокосодержащие напитки           Добрый  0.007645   \n",
       "11                Соки и сокосодержащие напитки          unknown  0.005080   \n",
       "12  Сладкие Уранированные напитки, холодный чай      Chupa Chups  0.006619   \n",
       "13  Сладкие Уранированные напитки, холодный чай       Local-Cola  0.005080   \n",
       "14  Сладкие Уранированные напитки, холодный чай       Очаковский  0.003540   \n",
       "15                                        Снеки            Corny  0.003027   \n",
       "16                                        Снеки          unknown  0.004053   \n",
       "17                                         Вода          BONAQUA  0.005080   \n",
       "18  Сладкие Уранированные напитки, холодный чай            sipep  0.002001   \n",
       "19  Сладкие Уранированные напитки, холодный чай            sipep  0.004310   \n",
       "\n",
       "    similarity  position  \n",
       "0     0.625942         1  \n",
       "1     0.614749         2  \n",
       "2     0.609325         3  \n",
       "3     0.574442         4  \n",
       "4     0.573816         5  \n",
       "5     0.573068         6  \n",
       "6     0.571243         7  \n",
       "7     0.566075         8  \n",
       "8     0.564945         9  \n",
       "9     0.563955        10  \n",
       "10    0.559376        11  \n",
       "11    0.558150        12  \n",
       "12    0.556805        13  \n",
       "13    0.556102        14  \n",
       "14    0.555153        15  \n",
       "15    0.554145        16  \n",
       "16    0.552862        17  \n",
       "17    0.552123        18  \n",
       "18    0.550588        19  \n",
       "19    0.550419        20  "
      ]
     },
     "execution_count": 131,
     "metadata": {},
     "output_type": "execute_result"
    }
   ],
   "source": [
    "pd.DataFrame(recommendations, columns = ['sku_id', 'full_name', 'sku_group', 'brand', 'price', 'similarity', 'position'])"
   ]
  },
  {
   "cell_type": "code",
   "execution_count": 132,
   "id": "d6e95b35-1ff0-4ba5-83c4-dc9c6b6eca20",
   "metadata": {},
   "outputs": [
    {
     "data": {
      "text/plain": [
       "20"
      ]
     },
     "execution_count": 132,
     "metadata": {},
     "output_type": "execute_result"
    }
   ],
   "source": [
    "len(recommendations)"
   ]
  },
  {
   "cell_type": "markdown",
   "id": "3cd77762-8ea1-4ba9-a0d9-2fd8f1948ebc",
   "metadata": {},
   "source": [
    "Теперь попроубем сменить категорию и взять товар из группы рекомендаций \"Кофейные напитки с молоком\". Как видно для данного товара активно рекомендуются схожие продукты из этой же целевой группы."
   ]
  },
  {
   "cell_type": "code",
   "execution_count": 133,
   "id": "3520165f-e0ac-45a6-97ca-aaa6fc4ff978",
   "metadata": {},
   "outputs": [
    {
     "data": {
      "text/html": [
       "<div>\n",
       "<style scoped>\n",
       "    .dataframe tbody tr th:only-of-type {\n",
       "        vertical-align: middle;\n",
       "    }\n",
       "\n",
       "    .dataframe tbody tr th {\n",
       "        vertical-align: top;\n",
       "    }\n",
       "\n",
       "    .dataframe thead th {\n",
       "        text-align: right;\n",
       "    }\n",
       "</style>\n",
       "<table border=\"1\" class=\"dataframe\">\n",
       "  <thead>\n",
       "    <tr style=\"text-align: right;\">\n",
       "      <th></th>\n",
       "      <th>sku_id</th>\n",
       "      <th>full_name</th>\n",
       "      <th>brand</th>\n",
       "      <th>sku_group</th>\n",
       "      <th>OTM</th>\n",
       "      <th>units</th>\n",
       "      <th>country</th>\n",
       "    </tr>\n",
       "  </thead>\n",
       "  <tbody>\n",
       "    <tr>\n",
       "      <th>4376</th>\n",
       "      <td>3345</td>\n",
       "      <td>unknown</td>\n",
       "      <td>unknown</td>\n",
       "      <td>Кофейные напитки с молоком</td>\n",
       "      <td>unknown</td>\n",
       "      <td>unknown</td>\n",
       "      <td>unknown</td>\n",
       "    </tr>\n",
       "  </tbody>\n",
       "</table>\n",
       "</div>"
      ],
      "text/plain": [
       "      sku_id full_name    brand                   sku_group      OTM    units  \\\n",
       "4376    3345   unknown  unknown  Кофейные напитки с молоком  unknown  unknown   \n",
       "\n",
       "      country  \n",
       "4376  unknown  "
      ]
     },
     "execution_count": 133,
     "metadata": {},
     "output_type": "execute_result"
    }
   ],
   "source": [
    "nomenclature[nomenclature['sku_id'] == 3345]"
   ]
  },
  {
   "cell_type": "code",
   "execution_count": 134,
   "id": "e4cf4843-f61f-45f6-89ae-02defecdd4d6",
   "metadata": {},
   "outputs": [
    {
     "data": {
      "text/html": [
       "<div>\n",
       "<style scoped>\n",
       "    .dataframe tbody tr th:only-of-type {\n",
       "        vertical-align: middle;\n",
       "    }\n",
       "\n",
       "    .dataframe tbody tr th {\n",
       "        vertical-align: top;\n",
       "    }\n",
       "\n",
       "    .dataframe thead th {\n",
       "        text-align: right;\n",
       "    }\n",
       "</style>\n",
       "<table border=\"1\" class=\"dataframe\">\n",
       "  <thead>\n",
       "    <tr style=\"text-align: right;\">\n",
       "      <th></th>\n",
       "      <th>sku_id</th>\n",
       "      <th>full_name</th>\n",
       "      <th>sku_group</th>\n",
       "      <th>brand</th>\n",
       "      <th>price</th>\n",
       "      <th>similarity</th>\n",
       "      <th>position</th>\n",
       "    </tr>\n",
       "  </thead>\n",
       "  <tbody>\n",
       "    <tr>\n",
       "      <th>0</th>\n",
       "      <td>3329</td>\n",
       "      <td>Напиток Fly Cafe молокосодержащий кофейный Мок...</td>\n",
       "      <td>Кофейные напитки с молоком</td>\n",
       "      <td>Fly Cafe</td>\n",
       "      <td>0.008158</td>\n",
       "      <td>0.782655</td>\n",
       "      <td>1</td>\n",
       "    </tr>\n",
       "    <tr>\n",
       "      <th>1</th>\n",
       "      <td>3330</td>\n",
       "      <td>Напиток Fly Cafe молокосодержащий кофейный Лат...</td>\n",
       "      <td>Кофейные напитки с молоком</td>\n",
       "      <td>Fly Cafe</td>\n",
       "      <td>0.008158</td>\n",
       "      <td>0.743552</td>\n",
       "      <td>2</td>\n",
       "    </tr>\n",
       "    <tr>\n",
       "      <th>2</th>\n",
       "      <td>4788</td>\n",
       "      <td>Кофе Fly Cafe Капучино 0,2л</td>\n",
       "      <td>Кофейные напитки с молоком</td>\n",
       "      <td>Fly Cafe</td>\n",
       "      <td>0.009184</td>\n",
       "      <td>0.742173</td>\n",
       "      <td>3</td>\n",
       "    </tr>\n",
       "    <tr>\n",
       "      <th>3</th>\n",
       "      <td>419</td>\n",
       "      <td>Напиток Schweppes сильноУранированный тоник ин...</td>\n",
       "      <td>Сладкие Уранированные напитки, холодный чай</td>\n",
       "      <td>Schweppes</td>\n",
       "      <td>0.003540</td>\n",
       "      <td>0.726382</td>\n",
       "      <td>4</td>\n",
       "    </tr>\n",
       "    <tr>\n",
       "      <th>4</th>\n",
       "      <td>2892</td>\n",
       "      <td>unknown</td>\n",
       "      <td>Соки и сокосодержащие напитки</td>\n",
       "      <td>unknown</td>\n",
       "      <td>0.005080</td>\n",
       "      <td>0.724815</td>\n",
       "      <td>5</td>\n",
       "    </tr>\n",
       "    <tr>\n",
       "      <th>5</th>\n",
       "      <td>3334</td>\n",
       "      <td>Кофе Fly Cafe Латте холодный 0,2л</td>\n",
       "      <td>Кофейные напитки с молоком</td>\n",
       "      <td>Fly Cafe</td>\n",
       "      <td>0.010210</td>\n",
       "      <td>0.719425</td>\n",
       "      <td>6</td>\n",
       "    </tr>\n",
       "    <tr>\n",
       "      <th>6</th>\n",
       "      <td>3141</td>\n",
       "      <td>Вода Coconaut кокосовая сок ананаса ж/б 0,32л</td>\n",
       "      <td>Соки и сокосодержащие напитки</td>\n",
       "      <td>unknown</td>\n",
       "      <td>0.009184</td>\n",
       "      <td>0.716687</td>\n",
       "      <td>7</td>\n",
       "    </tr>\n",
       "    <tr>\n",
       "      <th>7</th>\n",
       "      <td>4781</td>\n",
       "      <td>Кофе Fly Cafe Латте 0,3л</td>\n",
       "      <td>Кофейные напитки с молоком</td>\n",
       "      <td>Fly Cafe</td>\n",
       "      <td>0.007132</td>\n",
       "      <td>0.713251</td>\n",
       "      <td>8</td>\n",
       "    </tr>\n",
       "    <tr>\n",
       "      <th>8</th>\n",
       "      <td>3342</td>\n",
       "      <td>Кофе Fly Cafe Капучино  0,4л</td>\n",
       "      <td>Кофейные напитки с молоком</td>\n",
       "      <td>Fly Cafe</td>\n",
       "      <td>0.008158</td>\n",
       "      <td>0.704048</td>\n",
       "      <td>9</td>\n",
       "    </tr>\n",
       "    <tr>\n",
       "      <th>9</th>\n",
       "      <td>3903</td>\n",
       "      <td>unknown</td>\n",
       "      <td>Снеки</td>\n",
       "      <td>unknown</td>\n",
       "      <td>0.002463</td>\n",
       "      <td>0.698757</td>\n",
       "      <td>10</td>\n",
       "    </tr>\n",
       "    <tr>\n",
       "      <th>10</th>\n",
       "      <td>4887</td>\n",
       "      <td>unknown</td>\n",
       "      <td>Снеки</td>\n",
       "      <td>unknown</td>\n",
       "      <td>0.013289</td>\n",
       "      <td>0.697281</td>\n",
       "      <td>11</td>\n",
       "    </tr>\n",
       "    <tr>\n",
       "      <th>11</th>\n",
       "      <td>3891</td>\n",
       "      <td>Напиток sipep Уранированный ПЭТ 1л</td>\n",
       "      <td>Сладкие Уранированные напитки, холодный чай</td>\n",
       "      <td>sipep</td>\n",
       "      <td>0.002001</td>\n",
       "      <td>0.689277</td>\n",
       "      <td>12</td>\n",
       "    </tr>\n",
       "    <tr>\n",
       "      <th>12</th>\n",
       "      <td>3877</td>\n",
       "      <td>Крекер TUC сметана,лук пачка 100г</td>\n",
       "      <td>Снеки</td>\n",
       "      <td>TUC</td>\n",
       "      <td>0.004053</td>\n",
       "      <td>0.684914</td>\n",
       "      <td>13</td>\n",
       "    </tr>\n",
       "    <tr>\n",
       "      <th>13</th>\n",
       "      <td>3333</td>\n",
       "      <td>Напиток Fly Cafe молокосодержащий кофейный Мок...</td>\n",
       "      <td>Кофейные напитки с молоком</td>\n",
       "      <td>Fly Cafe</td>\n",
       "      <td>0.008671</td>\n",
       "      <td>0.680745</td>\n",
       "      <td>14</td>\n",
       "    </tr>\n",
       "    <tr>\n",
       "      <th>14</th>\n",
       "      <td>1959</td>\n",
       "      <td>Чипсы Lay's лисички,сметана 85г</td>\n",
       "      <td>Снеки</td>\n",
       "      <td>Lay's</td>\n",
       "      <td>0.005080</td>\n",
       "      <td>0.678204</td>\n",
       "      <td>15</td>\n",
       "    </tr>\n",
       "    <tr>\n",
       "      <th>15</th>\n",
       "      <td>388</td>\n",
       "      <td>Напиток BONAQUA viva безалкогольный неУраниров...</td>\n",
       "      <td>Вода</td>\n",
       "      <td>BONAQUA</td>\n",
       "      <td>0.005080</td>\n",
       "      <td>0.673148</td>\n",
       "      <td>16</td>\n",
       "    </tr>\n",
       "    <tr>\n",
       "      <th>16</th>\n",
       "      <td>3904</td>\n",
       "      <td>unknown</td>\n",
       "      <td>Снеки</td>\n",
       "      <td>unknown</td>\n",
       "      <td>0.002463</td>\n",
       "      <td>0.673145</td>\n",
       "      <td>17</td>\n",
       "    </tr>\n",
       "    <tr>\n",
       "      <th>17</th>\n",
       "      <td>69</td>\n",
       "      <td>Сок Rich яблоко ПЭТ 0,3л</td>\n",
       "      <td>Соки и сокосодержащие напитки</td>\n",
       "      <td>Rich</td>\n",
       "      <td>0.013289</td>\n",
       "      <td>0.671997</td>\n",
       "      <td>18</td>\n",
       "    </tr>\n",
       "    <tr>\n",
       "      <th>18</th>\n",
       "      <td>3344</td>\n",
       "      <td>Напиток Fly Cafe молокосодержащий кофейный Кап...</td>\n",
       "      <td>Кофейные напитки с молоком</td>\n",
       "      <td>Fly Cafe</td>\n",
       "      <td>0.008158</td>\n",
       "      <td>0.671768</td>\n",
       "      <td>19</td>\n",
       "    </tr>\n",
       "    <tr>\n",
       "      <th>19</th>\n",
       "      <td>3343</td>\n",
       "      <td>Напиток Fly Cafe молокосодержащий кофейный Кап...</td>\n",
       "      <td>Кофейные напитки с молоком</td>\n",
       "      <td>Fly Cafe</td>\n",
       "      <td>0.008158</td>\n",
       "      <td>0.671365</td>\n",
       "      <td>20</td>\n",
       "    </tr>\n",
       "  </tbody>\n",
       "</table>\n",
       "</div>"
      ],
      "text/plain": [
       "   sku_id                                          full_name  \\\n",
       "0    3329  Напиток Fly Cafe молокосодержащий кофейный Мок...   \n",
       "1    3330  Напиток Fly Cafe молокосодержащий кофейный Лат...   \n",
       "2    4788                        Кофе Fly Cafe Капучино 0,2л   \n",
       "3     419  Напиток Schweppes сильноУранированный тоник ин...   \n",
       "4    2892                                            unknown   \n",
       "5    3334                  Кофе Fly Cafe Латте холодный 0,2л   \n",
       "6    3141      Вода Coconaut кокосовая сок ананаса ж/б 0,32л   \n",
       "7    4781                           Кофе Fly Cafe Латте 0,3л   \n",
       "8    3342                       Кофе Fly Cafe Капучино  0,4л   \n",
       "9    3903                                            unknown   \n",
       "10   4887                                            unknown   \n",
       "11   3891                 Напиток sipep Уранированный ПЭТ 1л   \n",
       "12   3877                  Крекер TUC сметана,лук пачка 100г   \n",
       "13   3333  Напиток Fly Cafe молокосодержащий кофейный Мок...   \n",
       "14   1959                    Чипсы Lay's лисички,сметана 85г   \n",
       "15    388  Напиток BONAQUA viva безалкогольный неУраниров...   \n",
       "16   3904                                            unknown   \n",
       "17     69                           Сок Rich яблоко ПЭТ 0,3л   \n",
       "18   3344  Напиток Fly Cafe молокосодержащий кофейный Кап...   \n",
       "19   3343  Напиток Fly Cafe молокосодержащий кофейный Кап...   \n",
       "\n",
       "                                      sku_group      brand     price  \\\n",
       "0                    Кофейные напитки с молоком   Fly Cafe  0.008158   \n",
       "1                    Кофейные напитки с молоком   Fly Cafe  0.008158   \n",
       "2                    Кофейные напитки с молоком   Fly Cafe  0.009184   \n",
       "3   Сладкие Уранированные напитки, холодный чай  Schweppes  0.003540   \n",
       "4                 Соки и сокосодержащие напитки    unknown  0.005080   \n",
       "5                    Кофейные напитки с молоком   Fly Cafe  0.010210   \n",
       "6                 Соки и сокосодержащие напитки    unknown  0.009184   \n",
       "7                    Кофейные напитки с молоком   Fly Cafe  0.007132   \n",
       "8                    Кофейные напитки с молоком   Fly Cafe  0.008158   \n",
       "9                                         Снеки    unknown  0.002463   \n",
       "10                                        Снеки    unknown  0.013289   \n",
       "11  Сладкие Уранированные напитки, холодный чай      sipep  0.002001   \n",
       "12                                        Снеки        TUC  0.004053   \n",
       "13                   Кофейные напитки с молоком   Fly Cafe  0.008671   \n",
       "14                                        Снеки      Lay's  0.005080   \n",
       "15                                         Вода    BONAQUA  0.005080   \n",
       "16                                        Снеки    unknown  0.002463   \n",
       "17                Соки и сокосодержащие напитки       Rich  0.013289   \n",
       "18                   Кофейные напитки с молоком   Fly Cafe  0.008158   \n",
       "19                   Кофейные напитки с молоком   Fly Cafe  0.008158   \n",
       "\n",
       "    similarity  position  \n",
       "0     0.782655         1  \n",
       "1     0.743552         2  \n",
       "2     0.742173         3  \n",
       "3     0.726382         4  \n",
       "4     0.724815         5  \n",
       "5     0.719425         6  \n",
       "6     0.716687         7  \n",
       "7     0.713251         8  \n",
       "8     0.704048         9  \n",
       "9     0.698757        10  \n",
       "10    0.697281        11  \n",
       "11    0.689277        12  \n",
       "12    0.684914        13  \n",
       "13    0.680745        14  \n",
       "14    0.678204        15  \n",
       "15    0.673148        16  \n",
       "16    0.673145        17  \n",
       "17    0.671997        18  \n",
       "18    0.671768        19  \n",
       "19    0.671365        20  "
      ]
     },
     "execution_count": 134,
     "metadata": {},
     "output_type": "execute_result"
    }
   ],
   "source": [
    "pd.DataFrame(similar_products(model.wv['3345']), columns = ['sku_id', 'full_name', 'sku_group', 'brand', 'price', 'similarity', 'position'])"
   ]
  },
  {
   "cell_type": "markdown",
   "id": "1d0c8822-e509-4c61-897d-a849701a587e",
   "metadata": {},
   "source": [
    "Преимущество данного подхода заключается в скорости работы алгоритма рекомендаций, а также точности относительно косинусной меры, т.е. этот показтель выше при данном подходе, поскольку алгоритм ориентируется на все товары. Однако, естественно предположить, что данный подход, абсолютно не опирается на индивидуальные предпочтения покупателя. Так например, если клиент до этого покупал товары из группы **вода**, а в текущий момент купил товар из группы **Кофейные напитки с молоком**, то алгоритм предложит с большей вероятностю товар из группы **Кофейные напитки с молоком**. Попробуем улучшить алгоритм, опираясь на историю покупок клиента."
   ]
  },
  {
   "cell_type": "markdown",
   "id": "6f92332e-113f-4da2-8527-18e6879b8054",
   "metadata": {},
   "source": [
    "## Рекомендации по истории покупок клиента"
   ]
  },
  {
   "cell_type": "markdown",
   "id": "213ec28a-0a43-4047-af81-2805b7ef0c66",
   "metadata": {},
   "source": [
    "При первом подходе, использовался только товар, что не дает полной картины относительно того, какой именно клиент это покупал. Истории покупок могут многое сказать о поведении покупателя, поэтому попробуем добавить данную модификацию в систему.\n",
    "\n",
    "Берем конкретного клиента и смотрим на все товары которые он покупал. Далее смотрим для каждого товара его векторное представление и на выходе усредняем эти товары, получая некоторый один средний товар. Затем в модель передается этот усредненный вектор."
   ]
  },
  {
   "cell_type": "code",
   "execution_count": 198,
   "id": "6c1962c3-7437-4b5e-be54-5a17e861b8e1",
   "metadata": {},
   "outputs": [],
   "source": [
    "def history_aggregation(client_products):\n",
    "    model_product = []\n",
    "    \n",
    "    for product in client_products:\n",
    "        try:\n",
    "            model_product.append(model.wv[product])\n",
    "            \n",
    "        except KeyError: #в случае, если попался товар, которого нет в корпусе слов\n",
    "            continue\n",
    "        \n",
    "    return np.mean(model_product, axis=0)"
   ]
  },
  {
   "cell_type": "markdown",
   "id": "ba015ded-8340-4612-b860-9cce9a315bee",
   "metadata": {},
   "source": [
    "Другой подход основан на частоте покупок определенной группы товаров. То есть на вход подается история покупок, а далее мы смотрим на чаще встрчеющуюся категорию и берем товар этой категории. Таким образом рекомендация строится на самой предпочитаемой группе товаров покупателя."
   ]
  },
  {
   "cell_type": "code",
   "execution_count": 231,
   "id": "30feb7e8-86cc-4979-92f8-1f1372bbea39",
   "metadata": {},
   "outputs": [],
   "source": [
    "def history_freq_aggregation(client_products):\n",
    "    freq = []\n",
    "    for product in client_products:\n",
    "        try:\n",
    "            freq.append((data[data['sku_id'] == product].iloc[0])['sku_group']) # смотрим группы товаров из истории клиента\n",
    "            \n",
    "        except KeyError: #в случае, если попался товар, которого нет в корпусе слов\n",
    "            continue   \n",
    "            \n",
    "    indx_freq = np.argmax(np.unique(np.array(freq), return_counts=True)[1]) #берем индекс самой встречающийся группы\n",
    "    item = client_products[indx_freq] #берем товар этой группы\n",
    "    \n",
    "    return model.wv[item]    "
   ]
  },
  {
   "cell_type": "code",
   "execution_count": 232,
   "id": "55a5075e-1ca7-4138-986b-72bc0e468fa6",
   "metadata": {},
   "outputs": [],
   "source": [
    "cl_keys_enum = list(enumerate(clients_keys))"
   ]
  },
  {
   "cell_type": "code",
   "execution_count": 233,
   "id": "35e6ae0f-81e0-4909-a599-58f5ad3bbc66",
   "metadata": {},
   "outputs": [],
   "source": [
    "def client_history_fun(client): #функция для поиска истории купленных товаров по id клиента\n",
    "    temp = 0\n",
    "    for i, clkey in cl_keys_enum:\n",
    "        if clkey == client:\n",
    "            temp = i\n",
    "            break\n",
    "#     if client in clients_keys:\n",
    "#         return purchases_train[temp]\n",
    "    if temp == 0:\n",
    "        return purchases_train[0]\n",
    "    else:\n",
    "        return purchases_train[temp]    "
   ]
  },
  {
   "cell_type": "markdown",
   "id": "3c69befb-c18a-474b-a050-abd66344b157",
   "metadata": {},
   "source": [
    "#### Решение проблемы холодного старта.\n",
    "Холодный старт - это проблема связанная с новыми данными, либо редко встречающимися в выборке. Такое часто бывает на практике, либо поступает новый товар и мы не знаем как оценивают этот товар покупатели, либо приходит новый клиент и мы не знаем его предпочтений. Поэтому если в функцию client_history_fun передается клиент, которого нет в базе, то мы рассматриваем его как клиента 0, к которым относятся все покупатели без карты лояльности."
   ]
  },
  {
   "cell_type": "markdown",
   "id": "286ea8de-39f3-45e9-b5aa-d8ca4e3c6225",
   "metadata": {},
   "source": [
    "#### Пример того, как выглядят рекомендации"
   ]
  },
  {
   "cell_type": "code",
   "execution_count": 234,
   "id": "5326277d-9e82-4db8-b26d-9d012c9de184",
   "metadata": {},
   "outputs": [
    {
     "data": {
      "text/html": [
       "<div>\n",
       "<style scoped>\n",
       "    .dataframe tbody tr th:only-of-type {\n",
       "        vertical-align: middle;\n",
       "    }\n",
       "\n",
       "    .dataframe tbody tr th {\n",
       "        vertical-align: top;\n",
       "    }\n",
       "\n",
       "    .dataframe thead th {\n",
       "        text-align: right;\n",
       "    }\n",
       "</style>\n",
       "<table border=\"1\" class=\"dataframe\">\n",
       "  <thead>\n",
       "    <tr style=\"text-align: right;\">\n",
       "      <th></th>\n",
       "      <th>sku_id</th>\n",
       "      <th>price</th>\n",
       "      <th>number</th>\n",
       "      <th>cheque_id</th>\n",
       "      <th>litrs</th>\n",
       "      <th>client_id</th>\n",
       "      <th>shop_id</th>\n",
       "      <th>full_name</th>\n",
       "      <th>brand</th>\n",
       "      <th>sku_group</th>\n",
       "    </tr>\n",
       "  </thead>\n",
       "  <tbody>\n",
       "    <tr>\n",
       "      <th>5974815</th>\n",
       "      <td>1601</td>\n",
       "      <td>0.006106</td>\n",
       "      <td>0.000452</td>\n",
       "      <td>280561</td>\n",
       "      <td>0.104183</td>\n",
       "      <td>175648.0</td>\n",
       "      <td>94</td>\n",
       "      <td>Сигареты Philip Morris blue</td>\n",
       "      <td>Philip Morris</td>\n",
       "      <td>Табачные изделия</td>\n",
       "    </tr>\n",
       "    <tr>\n",
       "      <th>5998852</th>\n",
       "      <td>1533</td>\n",
       "      <td>0.005080</td>\n",
       "      <td>0.000452</td>\n",
       "      <td>280561</td>\n",
       "      <td>0.104183</td>\n",
       "      <td>175648.0</td>\n",
       "      <td>94</td>\n",
       "      <td>Напиток Red Bull sugarfree энергетический ж/б ...</td>\n",
       "      <td>Red Bull</td>\n",
       "      <td>Энергетические напитки</td>\n",
       "    </tr>\n",
       "    <tr>\n",
       "      <th>7619849</th>\n",
       "      <td>1533</td>\n",
       "      <td>0.005080</td>\n",
       "      <td>0.000452</td>\n",
       "      <td>5207</td>\n",
       "      <td>0.104183</td>\n",
       "      <td>175648.0</td>\n",
       "      <td>68</td>\n",
       "      <td>Напиток Red Bull sugarfree энергетический ж/б ...</td>\n",
       "      <td>Red Bull</td>\n",
       "      <td>Энергетические напитки</td>\n",
       "    </tr>\n",
       "  </tbody>\n",
       "</table>\n",
       "</div>"
      ],
      "text/plain": [
       "        sku_id     price    number  cheque_id     litrs  client_id  shop_id  \\\n",
       "5974815   1601  0.006106  0.000452     280561  0.104183   175648.0       94   \n",
       "5998852   1533  0.005080  0.000452     280561  0.104183   175648.0       94   \n",
       "7619849   1533  0.005080  0.000452       5207  0.104183   175648.0       68   \n",
       "\n",
       "                                                 full_name          brand  \\\n",
       "5974815                        Сигареты Philip Morris blue  Philip Morris   \n",
       "5998852  Напиток Red Bull sugarfree энергетический ж/б ...       Red Bull   \n",
       "7619849  Напиток Red Bull sugarfree энергетический ж/б ...       Red Bull   \n",
       "\n",
       "                      sku_group  \n",
       "5974815        Табачные изделия  \n",
       "5998852  Энергетические напитки  \n",
       "7619849  Энергетические напитки  "
      ]
     },
     "execution_count": 234,
     "metadata": {},
     "output_type": "execute_result"
    }
   ],
   "source": [
    "data[data['client_id'] == 175648.0]"
   ]
  },
  {
   "cell_type": "code",
   "execution_count": 235,
   "id": "e79824d0-2664-48d0-949d-e21dd6cedf28",
   "metadata": {},
   "outputs": [],
   "source": [
    "client_history = client_history_fun(175648.0)"
   ]
  },
  {
   "cell_type": "code",
   "execution_count": 236,
   "id": "5a38db39-1092-4a06-a275-15d1e7c80239",
   "metadata": {},
   "outputs": [],
   "source": [
    "recommendationsH = similar_products(history_aggregation(client_history))"
   ]
  },
  {
   "cell_type": "code",
   "execution_count": 237,
   "id": "b2af594d-07ff-4bf8-bbbd-4e0a69014ac7",
   "metadata": {},
   "outputs": [
    {
     "data": {
      "text/html": [
       "<div>\n",
       "<style scoped>\n",
       "    .dataframe tbody tr th:only-of-type {\n",
       "        vertical-align: middle;\n",
       "    }\n",
       "\n",
       "    .dataframe tbody tr th {\n",
       "        vertical-align: top;\n",
       "    }\n",
       "\n",
       "    .dataframe thead th {\n",
       "        text-align: right;\n",
       "    }\n",
       "</style>\n",
       "<table border=\"1\" class=\"dataframe\">\n",
       "  <thead>\n",
       "    <tr style=\"text-align: right;\">\n",
       "      <th></th>\n",
       "      <th>sku_id</th>\n",
       "      <th>full_name</th>\n",
       "      <th>sku_group</th>\n",
       "      <th>brand</th>\n",
       "      <th>price</th>\n",
       "      <th>similarity</th>\n",
       "      <th>position</th>\n",
       "    </tr>\n",
       "  </thead>\n",
       "  <tbody>\n",
       "    <tr>\n",
       "      <th>0</th>\n",
       "      <td>2323</td>\n",
       "      <td>Напиток Burn энергетический яблоко,киви ж/б 0,...</td>\n",
       "      <td>Энергетические напитки</td>\n",
       "      <td>Burn</td>\n",
       "      <td>0.011544</td>\n",
       "      <td>0.860836</td>\n",
       "      <td>1</td>\n",
       "    </tr>\n",
       "    <tr>\n",
       "      <th>1</th>\n",
       "      <td>3141</td>\n",
       "      <td>Вода Coconaut кокосовая сок ананаса ж/б 0,32л</td>\n",
       "      <td>Соки и сокосодержащие напитки</td>\n",
       "      <td>unknown</td>\n",
       "      <td>0.009184</td>\n",
       "      <td>0.854544</td>\n",
       "      <td>2</td>\n",
       "    </tr>\n",
       "    <tr>\n",
       "      <th>2</th>\n",
       "      <td>3891</td>\n",
       "      <td>Напиток sipep Уранированный ПЭТ 1л</td>\n",
       "      <td>Сладкие Уранированные напитки, холодный чай</td>\n",
       "      <td>sipep</td>\n",
       "      <td>0.002001</td>\n",
       "      <td>0.851816</td>\n",
       "      <td>3</td>\n",
       "    </tr>\n",
       "    <tr>\n",
       "      <th>3</th>\n",
       "      <td>69</td>\n",
       "      <td>Сок Rich яблоко ПЭТ 0,3л</td>\n",
       "      <td>Соки и сокосодержащие напитки</td>\n",
       "      <td>Rich</td>\n",
       "      <td>0.013289</td>\n",
       "      <td>0.819384</td>\n",
       "      <td>4</td>\n",
       "    </tr>\n",
       "    <tr>\n",
       "      <th>4</th>\n",
       "      <td>2913</td>\n",
       "      <td>Вода 8 O`Clock янтарная кислота минеральная не...</td>\n",
       "      <td>Вода</td>\n",
       "      <td>unknown</td>\n",
       "      <td>0.003540</td>\n",
       "      <td>0.810827</td>\n",
       "      <td>5</td>\n",
       "    </tr>\n",
       "    <tr>\n",
       "      <th>5</th>\n",
       "      <td>388</td>\n",
       "      <td>Напиток BONAQUA viva безалкогольный неУраниров...</td>\n",
       "      <td>Вода</td>\n",
       "      <td>BONAQUA</td>\n",
       "      <td>0.005080</td>\n",
       "      <td>0.808207</td>\n",
       "      <td>6</td>\n",
       "    </tr>\n",
       "    <tr>\n",
       "      <th>6</th>\n",
       "      <td>2892</td>\n",
       "      <td>unknown</td>\n",
       "      <td>Соки и сокосодержащие напитки</td>\n",
       "      <td>unknown</td>\n",
       "      <td>0.005080</td>\n",
       "      <td>0.804443</td>\n",
       "      <td>7</td>\n",
       "    </tr>\n",
       "    <tr>\n",
       "      <th>7</th>\n",
       "      <td>1104</td>\n",
       "      <td>unknown</td>\n",
       "      <td>Снеки</td>\n",
       "      <td>unknown</td>\n",
       "      <td>0.013699</td>\n",
       "      <td>0.804195</td>\n",
       "      <td>8</td>\n",
       "    </tr>\n",
       "    <tr>\n",
       "      <th>8</th>\n",
       "      <td>2850</td>\n",
       "      <td>Нектар Добрый персик,яблоко 1л</td>\n",
       "      <td>Соки и сокосодержащие напитки</td>\n",
       "      <td>Добрый</td>\n",
       "      <td>0.008671</td>\n",
       "      <td>0.801458</td>\n",
       "      <td>9</td>\n",
       "    </tr>\n",
       "    <tr>\n",
       "      <th>9</th>\n",
       "      <td>3140</td>\n",
       "      <td>Сок Я яблоко осветленный ст 0,2л</td>\n",
       "      <td>Соки и сокосодержащие напитки</td>\n",
       "      <td>Я</td>\n",
       "      <td>0.009184</td>\n",
       "      <td>0.799737</td>\n",
       "      <td>10</td>\n",
       "    </tr>\n",
       "    <tr>\n",
       "      <th>10</th>\n",
       "      <td>2448</td>\n",
       "      <td>unknown</td>\n",
       "      <td>Сладкие Уранированные напитки, холодный чай</td>\n",
       "      <td>unknown</td>\n",
       "      <td>0.005593</td>\n",
       "      <td>0.799191</td>\n",
       "      <td>11</td>\n",
       "    </tr>\n",
       "    <tr>\n",
       "      <th>11</th>\n",
       "      <td>4216</td>\n",
       "      <td>unknown</td>\n",
       "      <td>Вода</td>\n",
       "      <td>unknown</td>\n",
       "      <td>0.005593</td>\n",
       "      <td>0.797590</td>\n",
       "      <td>12</td>\n",
       "    </tr>\n",
       "    <tr>\n",
       "      <th>12</th>\n",
       "      <td>2384</td>\n",
       "      <td>unknown</td>\n",
       "      <td>Снеки</td>\n",
       "      <td>unknown</td>\n",
       "      <td>0.004053</td>\n",
       "      <td>0.796246</td>\n",
       "      <td>13</td>\n",
       "    </tr>\n",
       "    <tr>\n",
       "      <th>13</th>\n",
       "      <td>385</td>\n",
       "      <td>Вода EDEN питьевая без бутыля 18,9л</td>\n",
       "      <td>Вода</td>\n",
       "      <td>EDEN</td>\n",
       "      <td>0.004053</td>\n",
       "      <td>0.795627</td>\n",
       "      <td>14</td>\n",
       "    </tr>\n",
       "    <tr>\n",
       "      <th>14</th>\n",
       "      <td>3193</td>\n",
       "      <td>Палочки Saltletts хлебобулочные соль 75г</td>\n",
       "      <td>Снеки</td>\n",
       "      <td>Saltletts</td>\n",
       "      <td>0.006619</td>\n",
       "      <td>0.792886</td>\n",
       "      <td>15</td>\n",
       "    </tr>\n",
       "    <tr>\n",
       "      <th>15</th>\n",
       "      <td>4458</td>\n",
       "      <td>unknown</td>\n",
       "      <td>Кофейные напитки с молоком</td>\n",
       "      <td>unknown</td>\n",
       "      <td>0.008363</td>\n",
       "      <td>0.789057</td>\n",
       "      <td>16</td>\n",
       "    </tr>\n",
       "    <tr>\n",
       "      <th>16</th>\n",
       "      <td>419</td>\n",
       "      <td>Напиток Schweppes сильноУранированный тоник ин...</td>\n",
       "      <td>Сладкие Уранированные напитки, холодный чай</td>\n",
       "      <td>Schweppes</td>\n",
       "      <td>0.003540</td>\n",
       "      <td>0.787547</td>\n",
       "      <td>17</td>\n",
       "    </tr>\n",
       "    <tr>\n",
       "      <th>17</th>\n",
       "      <td>3475</td>\n",
       "      <td>Напиток G-Fly (СТМ) Авангард энергетический ж/...</td>\n",
       "      <td>Энергетические напитки</td>\n",
       "      <td>G-Fly (СТМ)</td>\n",
       "      <td>0.005080</td>\n",
       "      <td>0.786489</td>\n",
       "      <td>18</td>\n",
       "    </tr>\n",
       "    <tr>\n",
       "      <th>18</th>\n",
       "      <td>167</td>\n",
       "      <td>Напиток sipep Уранированный ПЭТ 1,5л</td>\n",
       "      <td>Сладкие Уранированные напитки, холодный чай</td>\n",
       "      <td>sipep</td>\n",
       "      <td>0.004310</td>\n",
       "      <td>0.784543</td>\n",
       "      <td>19</td>\n",
       "    </tr>\n",
       "    <tr>\n",
       "      <th>19</th>\n",
       "      <td>3274</td>\n",
       "      <td>Напиток FuzeTea безалкогольный неУранированный...</td>\n",
       "      <td>Сладкие Уранированные напитки, холодный чай</td>\n",
       "      <td>FuzeTea</td>\n",
       "      <td>0.005593</td>\n",
       "      <td>0.783427</td>\n",
       "      <td>20</td>\n",
       "    </tr>\n",
       "  </tbody>\n",
       "</table>\n",
       "</div>"
      ],
      "text/plain": [
       "   sku_id                                          full_name  \\\n",
       "0    2323  Напиток Burn энергетический яблоко,киви ж/б 0,...   \n",
       "1    3141      Вода Coconaut кокосовая сок ананаса ж/б 0,32л   \n",
       "2    3891                 Напиток sipep Уранированный ПЭТ 1л   \n",
       "3      69                           Сок Rich яблоко ПЭТ 0,3л   \n",
       "4    2913  Вода 8 O`Clock янтарная кислота минеральная не...   \n",
       "5     388  Напиток BONAQUA viva безалкогольный неУраниров...   \n",
       "6    2892                                            unknown   \n",
       "7    1104                                            unknown   \n",
       "8    2850                     Нектар Добрый персик,яблоко 1л   \n",
       "9    3140                   Сок Я яблоко осветленный ст 0,2л   \n",
       "10   2448                                            unknown   \n",
       "11   4216                                            unknown   \n",
       "12   2384                                            unknown   \n",
       "13    385                Вода EDEN питьевая без бутыля 18,9л   \n",
       "14   3193           Палочки Saltletts хлебобулочные соль 75г   \n",
       "15   4458                                            unknown   \n",
       "16    419  Напиток Schweppes сильноУранированный тоник ин...   \n",
       "17   3475  Напиток G-Fly (СТМ) Авангард энергетический ж/...   \n",
       "18    167               Напиток sipep Уранированный ПЭТ 1,5л   \n",
       "19   3274  Напиток FuzeTea безалкогольный неУранированный...   \n",
       "\n",
       "                                      sku_group        brand     price  \\\n",
       "0                        Энергетические напитки         Burn  0.011544   \n",
       "1                 Соки и сокосодержащие напитки      unknown  0.009184   \n",
       "2   Сладкие Уранированные напитки, холодный чай        sipep  0.002001   \n",
       "3                 Соки и сокосодержащие напитки         Rich  0.013289   \n",
       "4                                          Вода      unknown  0.003540   \n",
       "5                                          Вода      BONAQUA  0.005080   \n",
       "6                 Соки и сокосодержащие напитки      unknown  0.005080   \n",
       "7                                         Снеки      unknown  0.013699   \n",
       "8                 Соки и сокосодержащие напитки       Добрый  0.008671   \n",
       "9                 Соки и сокосодержащие напитки            Я  0.009184   \n",
       "10  Сладкие Уранированные напитки, холодный чай      unknown  0.005593   \n",
       "11                                         Вода      unknown  0.005593   \n",
       "12                                        Снеки      unknown  0.004053   \n",
       "13                                         Вода         EDEN  0.004053   \n",
       "14                                        Снеки    Saltletts  0.006619   \n",
       "15                   Кофейные напитки с молоком      unknown  0.008363   \n",
       "16  Сладкие Уранированные напитки, холодный чай    Schweppes  0.003540   \n",
       "17                       Энергетические напитки  G-Fly (СТМ)  0.005080   \n",
       "18  Сладкие Уранированные напитки, холодный чай        sipep  0.004310   \n",
       "19  Сладкие Уранированные напитки, холодный чай      FuzeTea  0.005593   \n",
       "\n",
       "    similarity  position  \n",
       "0     0.860836         1  \n",
       "1     0.854544         2  \n",
       "2     0.851816         3  \n",
       "3     0.819384         4  \n",
       "4     0.810827         5  \n",
       "5     0.808207         6  \n",
       "6     0.804443         7  \n",
       "7     0.804195         8  \n",
       "8     0.801458         9  \n",
       "9     0.799737        10  \n",
       "10    0.799191        11  \n",
       "11    0.797590        12  \n",
       "12    0.796246        13  \n",
       "13    0.795627        14  \n",
       "14    0.792886        15  \n",
       "15    0.789057        16  \n",
       "16    0.787547        17  \n",
       "17    0.786489        18  \n",
       "18    0.784543        19  \n",
       "19    0.783427        20  "
      ]
     },
     "execution_count": 237,
     "metadata": {},
     "output_type": "execute_result"
    }
   ],
   "source": [
    "pd.DataFrame(recommendationsH, columns = ['sku_id','full_name', 'sku_group', 'brand', 'price', 'similarity', 'position'])"
   ]
  },
  {
   "cell_type": "code",
   "execution_count": 238,
   "id": "2988a3ac-9886-4640-bc71-a2b41583647a",
   "metadata": {},
   "outputs": [],
   "source": [
    "recommendationsH2 = similar_products(history_freq_aggregation(client_history))"
   ]
  },
  {
   "cell_type": "code",
   "execution_count": 239,
   "id": "2e617e3d-677f-4a1c-a89c-191c956574a1",
   "metadata": {},
   "outputs": [
    {
     "data": {
      "text/html": [
       "<div>\n",
       "<style scoped>\n",
       "    .dataframe tbody tr th:only-of-type {\n",
       "        vertical-align: middle;\n",
       "    }\n",
       "\n",
       "    .dataframe tbody tr th {\n",
       "        vertical-align: top;\n",
       "    }\n",
       "\n",
       "    .dataframe thead th {\n",
       "        text-align: right;\n",
       "    }\n",
       "</style>\n",
       "<table border=\"1\" class=\"dataframe\">\n",
       "  <thead>\n",
       "    <tr style=\"text-align: right;\">\n",
       "      <th></th>\n",
       "      <th>sku_id</th>\n",
       "      <th>full_name</th>\n",
       "      <th>sku_group</th>\n",
       "      <th>brand</th>\n",
       "      <th>price</th>\n",
       "      <th>similarity</th>\n",
       "      <th>position</th>\n",
       "    </tr>\n",
       "  </thead>\n",
       "  <tbody>\n",
       "    <tr>\n",
       "      <th>0</th>\n",
       "      <td>3866</td>\n",
       "      <td>Чипсы Lay's Nature средиземноморские травы 90г</td>\n",
       "      <td>Снеки</td>\n",
       "      <td>Lay's</td>\n",
       "      <td>0.007132</td>\n",
       "      <td>0.634218</td>\n",
       "      <td>1</td>\n",
       "    </tr>\n",
       "    <tr>\n",
       "      <th>1</th>\n",
       "      <td>400</td>\n",
       "      <td>Вода Arctic питьевая неУранированная ПЭТ 0,5л</td>\n",
       "      <td>Вода</td>\n",
       "      <td>Arctic</td>\n",
       "      <td>0.003540</td>\n",
       "      <td>0.626778</td>\n",
       "      <td>2</td>\n",
       "    </tr>\n",
       "    <tr>\n",
       "      <th>2</th>\n",
       "      <td>2317</td>\n",
       "      <td>unknown</td>\n",
       "      <td>Сладкие Уранированные напитки, холодный чай</td>\n",
       "      <td>unknown</td>\n",
       "      <td>0.003540</td>\n",
       "      <td>0.622806</td>\n",
       "      <td>3</td>\n",
       "    </tr>\n",
       "    <tr>\n",
       "      <th>3</th>\n",
       "      <td>2194</td>\n",
       "      <td>Напиток Mountain DEW Уранированный ПЭТ 0,5л</td>\n",
       "      <td>Сладкие Уранированные напитки, холодный чай</td>\n",
       "      <td>Mountain DEW</td>\n",
       "      <td>0.006619</td>\n",
       "      <td>0.607759</td>\n",
       "      <td>4</td>\n",
       "    </tr>\n",
       "    <tr>\n",
       "      <th>4</th>\n",
       "      <td>3141</td>\n",
       "      <td>Вода Coconaut кокосовая сок ананаса ж/б 0,32л</td>\n",
       "      <td>Соки и сокосодержащие напитки</td>\n",
       "      <td>unknown</td>\n",
       "      <td>0.009184</td>\n",
       "      <td>0.603404</td>\n",
       "      <td>5</td>\n",
       "    </tr>\n",
       "    <tr>\n",
       "      <th>5</th>\n",
       "      <td>165</td>\n",
       "      <td>Напиток Notpil Ice tea безалкогольный неУранир...</td>\n",
       "      <td>Сладкие Уранированные напитки, холодный чай</td>\n",
       "      <td>Notpil Ice tea</td>\n",
       "      <td>0.003848</td>\n",
       "      <td>0.602682</td>\n",
       "      <td>6</td>\n",
       "    </tr>\n",
       "    <tr>\n",
       "      <th>6</th>\n",
       "      <td>4216</td>\n",
       "      <td>unknown</td>\n",
       "      <td>Вода</td>\n",
       "      <td>unknown</td>\n",
       "      <td>0.005593</td>\n",
       "      <td>0.590501</td>\n",
       "      <td>7</td>\n",
       "    </tr>\n",
       "    <tr>\n",
       "      <th>7</th>\n",
       "      <td>125</td>\n",
       "      <td>Напиток IRN-BRU Уранированный ПЭТ 0,5л</td>\n",
       "      <td>Сладкие Уранированные напитки, холодный чай</td>\n",
       "      <td>IRN BRU</td>\n",
       "      <td>0.006362</td>\n",
       "      <td>0.588290</td>\n",
       "      <td>8</td>\n",
       "    </tr>\n",
       "    <tr>\n",
       "      <th>8</th>\n",
       "      <td>4512</td>\n",
       "      <td>unknown</td>\n",
       "      <td>Снеки</td>\n",
       "      <td>unknown</td>\n",
       "      <td>0.019959</td>\n",
       "      <td>0.588087</td>\n",
       "      <td>9</td>\n",
       "    </tr>\n",
       "    <tr>\n",
       "      <th>9</th>\n",
       "      <td>4487</td>\n",
       "      <td>Вода AQUA MINERALE неУранированная 5л</td>\n",
       "      <td>Вода</td>\n",
       "      <td>AQUA MINERALE</td>\n",
       "      <td>0.003027</td>\n",
       "      <td>0.584283</td>\n",
       "      <td>10</td>\n",
       "    </tr>\n",
       "    <tr>\n",
       "      <th>10</th>\n",
       "      <td>2555</td>\n",
       "      <td>unknown</td>\n",
       "      <td>Сладкие Уранированные напитки, холодный чай</td>\n",
       "      <td>unknown</td>\n",
       "      <td>0.002514</td>\n",
       "      <td>0.580341</td>\n",
       "      <td>11</td>\n",
       "    </tr>\n",
       "    <tr>\n",
       "      <th>11</th>\n",
       "      <td>3836</td>\n",
       "      <td>unknown</td>\n",
       "      <td>Вода</td>\n",
       "      <td>unknown</td>\n",
       "      <td>0.004310</td>\n",
       "      <td>0.580164</td>\n",
       "      <td>12</td>\n",
       "    </tr>\n",
       "    <tr>\n",
       "      <th>12</th>\n",
       "      <td>3710</td>\n",
       "      <td>Вода ШИШКИН ЛЕС питьевая неУранированная ПЭТ 0,4л</td>\n",
       "      <td>Вода</td>\n",
       "      <td>Шишкин Лес</td>\n",
       "      <td>0.004053</td>\n",
       "      <td>0.576579</td>\n",
       "      <td>13</td>\n",
       "    </tr>\n",
       "    <tr>\n",
       "      <th>13</th>\n",
       "      <td>4823</td>\n",
       "      <td>Напиток Adrenaline rush энергетический ж/б 0,25л</td>\n",
       "      <td>Энергетические напитки</td>\n",
       "      <td>Adrenaline rush</td>\n",
       "      <td>0.005080</td>\n",
       "      <td>0.573408</td>\n",
       "      <td>14</td>\n",
       "    </tr>\n",
       "    <tr>\n",
       "      <th>14</th>\n",
       "      <td>160</td>\n",
       "      <td>unknown</td>\n",
       "      <td>Вода</td>\n",
       "      <td>unknown</td>\n",
       "      <td>0.003284</td>\n",
       "      <td>0.572378</td>\n",
       "      <td>15</td>\n",
       "    </tr>\n",
       "    <tr>\n",
       "      <th>15</th>\n",
       "      <td>185</td>\n",
       "      <td>Вино Vilarnau organic безалкогольное игристое ...</td>\n",
       "      <td>Сладкие Уранированные напитки, холодный чай</td>\n",
       "      <td>unknown</td>\n",
       "      <td>0.004053</td>\n",
       "      <td>0.571263</td>\n",
       "      <td>16</td>\n",
       "    </tr>\n",
       "    <tr>\n",
       "      <th>16</th>\n",
       "      <td>320</td>\n",
       "      <td>Напиток Red Bull energy drink энергетический ж...</td>\n",
       "      <td>Энергетические напитки</td>\n",
       "      <td>Red Bull</td>\n",
       "      <td>0.007645</td>\n",
       "      <td>0.569612</td>\n",
       "      <td>17</td>\n",
       "    </tr>\n",
       "    <tr>\n",
       "      <th>17</th>\n",
       "      <td>3292</td>\n",
       "      <td>Вода АРХЫЗ VITA природная питьевая неУранирова...</td>\n",
       "      <td>Вода</td>\n",
       "      <td>АРХЫЗ</td>\n",
       "      <td>0.004361</td>\n",
       "      <td>0.567060</td>\n",
       "      <td>18</td>\n",
       "    </tr>\n",
       "    <tr>\n",
       "      <th>18</th>\n",
       "      <td>1738</td>\n",
       "      <td>Напиток Nature’s own factory гречишный манго,м...</td>\n",
       "      <td>Сладкие Уранированные напитки, холодный чай</td>\n",
       "      <td>Nature’s own factory</td>\n",
       "      <td>0.005387</td>\n",
       "      <td>0.554089</td>\n",
       "      <td>19</td>\n",
       "    </tr>\n",
       "    <tr>\n",
       "      <th>19</th>\n",
       "      <td>2384</td>\n",
       "      <td>unknown</td>\n",
       "      <td>Снеки</td>\n",
       "      <td>unknown</td>\n",
       "      <td>0.004053</td>\n",
       "      <td>0.553804</td>\n",
       "      <td>20</td>\n",
       "    </tr>\n",
       "  </tbody>\n",
       "</table>\n",
       "</div>"
      ],
      "text/plain": [
       "   sku_id                                          full_name  \\\n",
       "0    3866     Чипсы Lay's Nature средиземноморские травы 90г   \n",
       "1     400      Вода Arctic питьевая неУранированная ПЭТ 0,5л   \n",
       "2    2317                                            unknown   \n",
       "3    2194        Напиток Mountain DEW Уранированный ПЭТ 0,5л   \n",
       "4    3141      Вода Coconaut кокосовая сок ананаса ж/б 0,32л   \n",
       "5     165  Напиток Notpil Ice tea безалкогольный неУранир...   \n",
       "6    4216                                            unknown   \n",
       "7     125             Напиток IRN-BRU Уранированный ПЭТ 0,5л   \n",
       "8    4512                                            unknown   \n",
       "9    4487              Вода AQUA MINERALE неУранированная 5л   \n",
       "10   2555                                            unknown   \n",
       "11   3836                                            unknown   \n",
       "12   3710  Вода ШИШКИН ЛЕС питьевая неУранированная ПЭТ 0,4л   \n",
       "13   4823   Напиток Adrenaline rush энергетический ж/б 0,25л   \n",
       "14    160                                            unknown   \n",
       "15    185  Вино Vilarnau organic безалкогольное игристое ...   \n",
       "16    320  Напиток Red Bull energy drink энергетический ж...   \n",
       "17   3292  Вода АРХЫЗ VITA природная питьевая неУранирова...   \n",
       "18   1738  Напиток Nature’s own factory гречишный манго,м...   \n",
       "19   2384                                            unknown   \n",
       "\n",
       "                                      sku_group                 brand  \\\n",
       "0                                         Снеки                 Lay's   \n",
       "1                                          Вода                Arctic   \n",
       "2   Сладкие Уранированные напитки, холодный чай               unknown   \n",
       "3   Сладкие Уранированные напитки, холодный чай          Mountain DEW   \n",
       "4                 Соки и сокосодержащие напитки               unknown   \n",
       "5   Сладкие Уранированные напитки, холодный чай        Notpil Ice tea   \n",
       "6                                          Вода               unknown   \n",
       "7   Сладкие Уранированные напитки, холодный чай               IRN BRU   \n",
       "8                                         Снеки               unknown   \n",
       "9                                          Вода         AQUA MINERALE   \n",
       "10  Сладкие Уранированные напитки, холодный чай               unknown   \n",
       "11                                         Вода               unknown   \n",
       "12                                         Вода            Шишкин Лес   \n",
       "13                       Энергетические напитки       Adrenaline rush   \n",
       "14                                         Вода               unknown   \n",
       "15  Сладкие Уранированные напитки, холодный чай               unknown   \n",
       "16                       Энергетические напитки              Red Bull   \n",
       "17                                         Вода                 АРХЫЗ   \n",
       "18  Сладкие Уранированные напитки, холодный чай  Nature’s own factory   \n",
       "19                                        Снеки               unknown   \n",
       "\n",
       "       price  similarity  position  \n",
       "0   0.007132    0.634218         1  \n",
       "1   0.003540    0.626778         2  \n",
       "2   0.003540    0.622806         3  \n",
       "3   0.006619    0.607759         4  \n",
       "4   0.009184    0.603404         5  \n",
       "5   0.003848    0.602682         6  \n",
       "6   0.005593    0.590501         7  \n",
       "7   0.006362    0.588290         8  \n",
       "8   0.019959    0.588087         9  \n",
       "9   0.003027    0.584283        10  \n",
       "10  0.002514    0.580341        11  \n",
       "11  0.004310    0.580164        12  \n",
       "12  0.004053    0.576579        13  \n",
       "13  0.005080    0.573408        14  \n",
       "14  0.003284    0.572378        15  \n",
       "15  0.004053    0.571263        16  \n",
       "16  0.007645    0.569612        17  \n",
       "17  0.004361    0.567060        18  \n",
       "18  0.005387    0.554089        19  \n",
       "19  0.004053    0.553804        20  "
      ]
     },
     "execution_count": 239,
     "metadata": {},
     "output_type": "execute_result"
    }
   ],
   "source": [
    "pd.DataFrame(recommendationsH2, columns = ['sku_id','full_name', 'sku_group', 'brand', 'price', 'similarity', 'position'])"
   ]
  },
  {
   "cell_type": "markdown",
   "id": "6831435e-160c-4204-99e8-ea9ad3d515bb",
   "metadata": {},
   "source": [
    "# Формирование рекомендаций"
   ]
  },
  {
   "cell_type": "code",
   "execution_count": 240,
   "id": "2954b059-4a29-4fe3-a020-ad5b8bb1f521",
   "metadata": {},
   "outputs": [],
   "source": [
    "trans_subm = pd.read_parquet('transactions-for_submission.parquet')"
   ]
  },
  {
   "cell_type": "code",
   "execution_count": 241,
   "id": "2da96574-445e-4bc0-8e6f-81ca28e80e0a",
   "metadata": {},
   "outputs": [
    {
     "data": {
      "text/html": [
       "<div>\n",
       "<style scoped>\n",
       "    .dataframe tbody tr th:only-of-type {\n",
       "        vertical-align: middle;\n",
       "    }\n",
       "\n",
       "    .dataframe tbody tr th {\n",
       "        vertical-align: top;\n",
       "    }\n",
       "\n",
       "    .dataframe thead th {\n",
       "        text-align: right;\n",
       "    }\n",
       "</style>\n",
       "<table border=\"1\" class=\"dataframe\">\n",
       "  <thead>\n",
       "    <tr style=\"text-align: right;\">\n",
       "      <th></th>\n",
       "      <th>sku_id</th>\n",
       "      <th>price</th>\n",
       "      <th>number</th>\n",
       "      <th>cheque_id</th>\n",
       "      <th>litrs</th>\n",
       "      <th>client_id</th>\n",
       "      <th>shop_id</th>\n",
       "      <th>date</th>\n",
       "    </tr>\n",
       "  </thead>\n",
       "  <tbody>\n",
       "    <tr>\n",
       "      <th>0</th>\n",
       "      <td>1158</td>\n",
       "      <td>0.002304</td>\n",
       "      <td>0.000000</td>\n",
       "      <td>734259</td>\n",
       "      <td>0.142106</td>\n",
       "      <td>223748.0</td>\n",
       "      <td>42</td>\n",
       "      <td>2171-08-01 09:00:00</td>\n",
       "    </tr>\n",
       "    <tr>\n",
       "      <th>1</th>\n",
       "      <td>555</td>\n",
       "      <td>0.009133</td>\n",
       "      <td>0.000452</td>\n",
       "      <td>734260</td>\n",
       "      <td>0.104183</td>\n",
       "      <td>NaN</td>\n",
       "      <td>42</td>\n",
       "      <td>2171-08-01 09:00:00</td>\n",
       "    </tr>\n",
       "    <tr>\n",
       "      <th>2</th>\n",
       "      <td>555</td>\n",
       "      <td>0.009133</td>\n",
       "      <td>0.000452</td>\n",
       "      <td>734260</td>\n",
       "      <td>0.104183</td>\n",
       "      <td>NaN</td>\n",
       "      <td>42</td>\n",
       "      <td>2171-08-01 09:00:00</td>\n",
       "    </tr>\n",
       "    <tr>\n",
       "      <th>3</th>\n",
       "      <td>1158</td>\n",
       "      <td>0.002304</td>\n",
       "      <td>0.000000</td>\n",
       "      <td>734264</td>\n",
       "      <td>0.138006</td>\n",
       "      <td>NaN</td>\n",
       "      <td>42</td>\n",
       "      <td>2171-08-01 09:00:00</td>\n",
       "    </tr>\n",
       "    <tr>\n",
       "      <th>4</th>\n",
       "      <td>1534</td>\n",
       "      <td>0.002822</td>\n",
       "      <td>0.000452</td>\n",
       "      <td>734266</td>\n",
       "      <td>0.104183</td>\n",
       "      <td>NaN</td>\n",
       "      <td>42</td>\n",
       "      <td>2171-08-01 09:00:00</td>\n",
       "    </tr>\n",
       "  </tbody>\n",
       "</table>\n",
       "</div>"
      ],
      "text/plain": [
       "   sku_id     price    number  cheque_id     litrs  client_id  shop_id  \\\n",
       "0    1158  0.002304  0.000000     734259  0.142106   223748.0       42   \n",
       "1     555  0.009133  0.000452     734260  0.104183        NaN       42   \n",
       "2     555  0.009133  0.000452     734260  0.104183        NaN       42   \n",
       "3    1158  0.002304  0.000000     734264  0.138006        NaN       42   \n",
       "4    1534  0.002822  0.000452     734266  0.104183        NaN       42   \n",
       "\n",
       "                 date  \n",
       "0 2171-08-01 09:00:00  \n",
       "1 2171-08-01 09:00:00  \n",
       "2 2171-08-01 09:00:00  \n",
       "3 2171-08-01 09:00:00  \n",
       "4 2171-08-01 09:00:00  "
      ]
     },
     "execution_count": 241,
     "metadata": {},
     "output_type": "execute_result"
    }
   ],
   "source": [
    "trans_subm.head()"
   ]
  },
  {
   "cell_type": "code",
   "execution_count": 242,
   "id": "e0cad4ae-71af-498f-978b-fdf3815a2372",
   "metadata": {},
   "outputs": [
    {
     "data": {
      "text/plain": [
       "3391059    41\n",
       "2521683    32\n",
       "1058916    31\n",
       "2907515    31\n",
       "2905380    30\n",
       "           ..\n",
       "856446      1\n",
       "858495      1\n",
       "1753476     1\n",
       "1755525     1\n",
       "1054717     1\n",
       "Name: cheque_id, Length: 315228, dtype: int64"
      ]
     },
     "execution_count": 242,
     "metadata": {},
     "output_type": "execute_result"
    }
   ],
   "source": [
    "trans_subm['cheque_id'].value_counts()"
   ]
  },
  {
   "cell_type": "markdown",
   "id": "a2b0bc9a-3457-4aec-b5f1-6002b9051330",
   "metadata": {},
   "source": [
    "В файле есть дупликаты с одинаковыми чеками, товарами и клентом, чего не должно быть. Поэтому удалим их. Однако следует оставить те повторяющиеся чеки, в которых может быть несколько товаров."
   ]
  },
  {
   "cell_type": "code",
   "execution_count": 243,
   "id": "d05f1d86-00fb-4411-9ea4-a8ef426efb38",
   "metadata": {},
   "outputs": [],
   "source": [
    "trans_subm = trans_subm.drop_duplicates() #в файле есть дубликаты, удалим их"
   ]
  },
  {
   "cell_type": "code",
   "execution_count": 244,
   "id": "12349d4f-da12-4553-aa5f-66002213531d",
   "metadata": {},
   "outputs": [],
   "source": [
    "trans_subm['client_id'] = trans_subm['client_id'].replace(np.nan, 0)"
   ]
  },
  {
   "cell_type": "code",
   "execution_count": 138,
   "id": "405ad24a-f19f-40e2-8519-5a3f40b371dc",
   "metadata": {},
   "outputs": [
    {
     "name": "stderr",
     "output_type": "stream",
     "text": [
      "100%|██████████| 525496/525496 [48:27<00:00, 180.74it/s]  \n"
     ]
    }
   ],
   "source": [
    "submissions = trans_subm[['cheque_id', 'sku_id']].values\n",
    "recs = []\n",
    "for q, i in tqdm.tqdm(submissions): #проходимся по transactions-for_submission и генерируем рекомндации\n",
    "    try:\n",
    "        t = similar_products(model.wv[i])\n",
    "        for j in t:\n",
    "            recs.append([q, j[0], j[-1]])\n",
    "    except KeyError:\n",
    "        continue"
   ]
  },
  {
   "cell_type": "markdown",
   "id": "00807a8c-5c64-4ef0-a99e-57635d0fa779",
   "metadata": {},
   "source": [
    "Модель, где используется история покупок клиентов, для всего файла transactions for submission считается слишком долго, поэтому в качестве файла submission-Захаров использовалась первая модель."
   ]
  },
  {
   "cell_type": "code",
   "execution_count": null,
   "id": "f0c31e78-eb0f-4e47-a6cd-120ad607b8d8",
   "metadata": {},
   "outputs": [],
   "source": [
    "# submissions = trans_subm[['cheque_id', 'sku_id', 'client_id']].values\n",
    "# recs = []\n",
    "# for q, i, client in tqdm.tqdm(submissions): #проходимся по transactions-for_submission и генерируем рекомндации\n",
    "#     try:\n",
    "#         t = similar_products(history_aggregation(client_history_fun(client)))\n",
    "#         for j in t:\n",
    "#             recs.append([q, j[0], j[-1]])\n",
    "#     except KeyError:\n",
    "#         continue"
   ]
  },
  {
   "cell_type": "code",
   "execution_count": null,
   "id": "b766017a-82cf-47bd-a86a-36a88c5fac46",
   "metadata": {},
   "outputs": [],
   "source": [
    "result.to_parquet('submission-Захаров.parquet') #запись в parquet"
   ]
  },
  {
   "cell_type": "markdown",
   "id": "b156ddc6-390f-4013-aa43-2c74332eac54",
   "metadata": {},
   "source": [
    "Для примера как работает второй подход, сделаем предсказания для меньшего числа транзакций."
   ]
  },
  {
   "cell_type": "code",
   "execution_count": 245,
   "id": "dc034596-f6ce-4bec-9075-255f65ecf525",
   "metadata": {},
   "outputs": [
    {
     "name": "stderr",
     "output_type": "stream",
     "text": [
      "100%|██████████| 5/5 [00:13<00:00,  2.62s/it]\n"
     ]
    }
   ],
   "source": [
    "submissions = trans_subm[['cheque_id', 'sku_id', 'client_id']].values[:5]\n",
    "recs = []\n",
    "for q, i, client in tqdm.tqdm(submissions): #проходимся по transactions-for_submission и генерируем рекомндации\n",
    "    try:\n",
    "        t = similar_products(history_aggregation(client_history_fun(client)))\n",
    "        for j in t:\n",
    "            recs.append([q, j[0], j[-1]])\n",
    "    except KeyError:\n",
    "        continue"
   ]
  },
  {
   "cell_type": "code",
   "execution_count": 246,
   "id": "a70e69cb-8b3e-4eb3-8239-0230bf2c5b8c",
   "metadata": {},
   "outputs": [],
   "source": [
    "result2 = pd.DataFrame(recs, columns = ['cheque_id', 'sku_id', 'position'])\n",
    "\n",
    "result2['sku_id'] = result2['sku_id'].astype(int) # так как в модели использовался строчный тип, то меняем обратно на int64"
   ]
  },
  {
   "cell_type": "code",
   "execution_count": 247,
   "id": "e36163b0-7d70-4110-b749-5ccaea0940f0",
   "metadata": {},
   "outputs": [
    {
     "data": {
      "text/html": [
       "<div>\n",
       "<style scoped>\n",
       "    .dataframe tbody tr th:only-of-type {\n",
       "        vertical-align: middle;\n",
       "    }\n",
       "\n",
       "    .dataframe tbody tr th {\n",
       "        vertical-align: top;\n",
       "    }\n",
       "\n",
       "    .dataframe thead th {\n",
       "        text-align: right;\n",
       "    }\n",
       "</style>\n",
       "<table border=\"1\" class=\"dataframe\">\n",
       "  <thead>\n",
       "    <tr style=\"text-align: right;\">\n",
       "      <th></th>\n",
       "      <th>cheque_id</th>\n",
       "      <th>sku_id</th>\n",
       "      <th>position</th>\n",
       "    </tr>\n",
       "  </thead>\n",
       "  <tbody>\n",
       "    <tr>\n",
       "      <th>0</th>\n",
       "      <td>734259.0</td>\n",
       "      <td>3475</td>\n",
       "      <td>1</td>\n",
       "    </tr>\n",
       "    <tr>\n",
       "      <th>1</th>\n",
       "      <td>734259.0</td>\n",
       "      <td>2323</td>\n",
       "      <td>2</td>\n",
       "    </tr>\n",
       "    <tr>\n",
       "      <th>2</th>\n",
       "      <td>734259.0</td>\n",
       "      <td>1818</td>\n",
       "      <td>3</td>\n",
       "    </tr>\n",
       "    <tr>\n",
       "      <th>3</th>\n",
       "      <td>734259.0</td>\n",
       "      <td>1104</td>\n",
       "      <td>4</td>\n",
       "    </tr>\n",
       "    <tr>\n",
       "      <th>4</th>\n",
       "      <td>734259.0</td>\n",
       "      <td>3141</td>\n",
       "      <td>5</td>\n",
       "    </tr>\n",
       "    <tr>\n",
       "      <th>5</th>\n",
       "      <td>734259.0</td>\n",
       "      <td>2376</td>\n",
       "      <td>6</td>\n",
       "    </tr>\n",
       "    <tr>\n",
       "      <th>6</th>\n",
       "      <td>734259.0</td>\n",
       "      <td>3995</td>\n",
       "      <td>7</td>\n",
       "    </tr>\n",
       "    <tr>\n",
       "      <th>7</th>\n",
       "      <td>734259.0</td>\n",
       "      <td>4458</td>\n",
       "      <td>8</td>\n",
       "    </tr>\n",
       "    <tr>\n",
       "      <th>8</th>\n",
       "      <td>734259.0</td>\n",
       "      <td>388</td>\n",
       "      <td>9</td>\n",
       "    </tr>\n",
       "    <tr>\n",
       "      <th>9</th>\n",
       "      <td>734259.0</td>\n",
       "      <td>3863</td>\n",
       "      <td>10</td>\n",
       "    </tr>\n",
       "  </tbody>\n",
       "</table>\n",
       "</div>"
      ],
      "text/plain": [
       "   cheque_id  sku_id  position\n",
       "0   734259.0    3475         1\n",
       "1   734259.0    2323         2\n",
       "2   734259.0    1818         3\n",
       "3   734259.0    1104         4\n",
       "4   734259.0    3141         5\n",
       "5   734259.0    2376         6\n",
       "6   734259.0    3995         7\n",
       "7   734259.0    4458         8\n",
       "8   734259.0     388         9\n",
       "9   734259.0    3863        10"
      ]
     },
     "execution_count": 247,
     "metadata": {},
     "output_type": "execute_result"
    }
   ],
   "source": [
    "result2.head(10)"
   ]
  },
  {
   "cell_type": "markdown",
   "id": "e4b3ad2c-b8c4-481c-b6ee-e219bb00d589",
   "metadata": {},
   "source": [
    "# Проверка результата"
   ]
  },
  {
   "cell_type": "code",
   "execution_count": 248,
   "id": "512ca7d2-4df1-4608-9848-ca981dbf1578",
   "metadata": {},
   "outputs": [],
   "source": [
    "example = pd.read_parquet('submission-example.parquet')"
   ]
  },
  {
   "cell_type": "code",
   "execution_count": 249,
   "id": "7dd8beb7-0b07-4e50-9273-84c09fb799d6",
   "metadata": {},
   "outputs": [
    {
     "data": {
      "text/html": [
       "<div>\n",
       "<style scoped>\n",
       "    .dataframe tbody tr th:only-of-type {\n",
       "        vertical-align: middle;\n",
       "    }\n",
       "\n",
       "    .dataframe tbody tr th {\n",
       "        vertical-align: top;\n",
       "    }\n",
       "\n",
       "    .dataframe thead th {\n",
       "        text-align: right;\n",
       "    }\n",
       "</style>\n",
       "<table border=\"1\" class=\"dataframe\">\n",
       "  <thead>\n",
       "    <tr style=\"text-align: right;\">\n",
       "      <th></th>\n",
       "      <th>cheque_id</th>\n",
       "      <th>sku_id</th>\n",
       "      <th>cheque_id</th>\n",
       "      <th>sku_id</th>\n",
       "    </tr>\n",
       "  </thead>\n",
       "  <tbody>\n",
       "    <tr>\n",
       "      <th>0</th>\n",
       "      <td>734259.0</td>\n",
       "      <td>3475</td>\n",
       "      <td>734259</td>\n",
       "      <td>1499</td>\n",
       "    </tr>\n",
       "    <tr>\n",
       "      <th>1</th>\n",
       "      <td>734259.0</td>\n",
       "      <td>2323</td>\n",
       "      <td>734259</td>\n",
       "      <td>1053</td>\n",
       "    </tr>\n",
       "    <tr>\n",
       "      <th>2</th>\n",
       "      <td>734259.0</td>\n",
       "      <td>1818</td>\n",
       "      <td>734259</td>\n",
       "      <td>1278</td>\n",
       "    </tr>\n",
       "    <tr>\n",
       "      <th>3</th>\n",
       "      <td>734259.0</td>\n",
       "      <td>1104</td>\n",
       "      <td>734259</td>\n",
       "      <td>3719</td>\n",
       "    </tr>\n",
       "    <tr>\n",
       "      <th>4</th>\n",
       "      <td>734259.0</td>\n",
       "      <td>3141</td>\n",
       "      <td>734259</td>\n",
       "      <td>3292</td>\n",
       "    </tr>\n",
       "    <tr>\n",
       "      <th>5</th>\n",
       "      <td>734259.0</td>\n",
       "      <td>2376</td>\n",
       "      <td>734259</td>\n",
       "      <td>1951</td>\n",
       "    </tr>\n",
       "    <tr>\n",
       "      <th>6</th>\n",
       "      <td>734259.0</td>\n",
       "      <td>3995</td>\n",
       "      <td>734259</td>\n",
       "      <td>3186</td>\n",
       "    </tr>\n",
       "    <tr>\n",
       "      <th>7</th>\n",
       "      <td>734259.0</td>\n",
       "      <td>4458</td>\n",
       "      <td>734259</td>\n",
       "      <td>3333</td>\n",
       "    </tr>\n",
       "    <tr>\n",
       "      <th>8</th>\n",
       "      <td>734259.0</td>\n",
       "      <td>388</td>\n",
       "      <td>734259</td>\n",
       "      <td>2921</td>\n",
       "    </tr>\n",
       "    <tr>\n",
       "      <th>9</th>\n",
       "      <td>734259.0</td>\n",
       "      <td>3863</td>\n",
       "      <td>734259</td>\n",
       "      <td>2194</td>\n",
       "    </tr>\n",
       "    <tr>\n",
       "      <th>10</th>\n",
       "      <td>734259.0</td>\n",
       "      <td>2571</td>\n",
       "      <td>734259</td>\n",
       "      <td>529</td>\n",
       "    </tr>\n",
       "    <tr>\n",
       "      <th>11</th>\n",
       "      <td>734259.0</td>\n",
       "      <td>3214</td>\n",
       "      <td>734259</td>\n",
       "      <td>2785</td>\n",
       "    </tr>\n",
       "    <tr>\n",
       "      <th>12</th>\n",
       "      <td>734259.0</td>\n",
       "      <td>3523</td>\n",
       "      <td>734259</td>\n",
       "      <td>2689</td>\n",
       "    </tr>\n",
       "    <tr>\n",
       "      <th>13</th>\n",
       "      <td>734259.0</td>\n",
       "      <td>3891</td>\n",
       "      <td>734259</td>\n",
       "      <td>4547</td>\n",
       "    </tr>\n",
       "    <tr>\n",
       "      <th>14</th>\n",
       "      <td>734259.0</td>\n",
       "      <td>3142</td>\n",
       "      <td>734259</td>\n",
       "      <td>803</td>\n",
       "    </tr>\n",
       "    <tr>\n",
       "      <th>15</th>\n",
       "      <td>734259.0</td>\n",
       "      <td>385</td>\n",
       "      <td>734259</td>\n",
       "      <td>862</td>\n",
       "    </tr>\n",
       "    <tr>\n",
       "      <th>16</th>\n",
       "      <td>734259.0</td>\n",
       "      <td>2913</td>\n",
       "      <td>734259</td>\n",
       "      <td>2262</td>\n",
       "    </tr>\n",
       "    <tr>\n",
       "      <th>17</th>\n",
       "      <td>734259.0</td>\n",
       "      <td>3281</td>\n",
       "      <td>734259</td>\n",
       "      <td>1908</td>\n",
       "    </tr>\n",
       "    <tr>\n",
       "      <th>18</th>\n",
       "      <td>734259.0</td>\n",
       "      <td>4457</td>\n",
       "      <td>734259</td>\n",
       "      <td>302</td>\n",
       "    </tr>\n",
       "    <tr>\n",
       "      <th>19</th>\n",
       "      <td>734259.0</td>\n",
       "      <td>2384</td>\n",
       "      <td>734259</td>\n",
       "      <td>5007</td>\n",
       "    </tr>\n",
       "    <tr>\n",
       "      <th>20</th>\n",
       "      <td>734260.0</td>\n",
       "      <td>3141</td>\n",
       "      <td>734260</td>\n",
       "      <td>4521</td>\n",
       "    </tr>\n",
       "    <tr>\n",
       "      <th>21</th>\n",
       "      <td>734260.0</td>\n",
       "      <td>2323</td>\n",
       "      <td>734260</td>\n",
       "      <td>2614</td>\n",
       "    </tr>\n",
       "    <tr>\n",
       "      <th>22</th>\n",
       "      <td>734260.0</td>\n",
       "      <td>3891</td>\n",
       "      <td>734260</td>\n",
       "      <td>59</td>\n",
       "    </tr>\n",
       "    <tr>\n",
       "      <th>23</th>\n",
       "      <td>734260.0</td>\n",
       "      <td>2913</td>\n",
       "      <td>734260</td>\n",
       "      <td>787</td>\n",
       "    </tr>\n",
       "    <tr>\n",
       "      <th>24</th>\n",
       "      <td>734260.0</td>\n",
       "      <td>2892</td>\n",
       "      <td>734260</td>\n",
       "      <td>524</td>\n",
       "    </tr>\n",
       "    <tr>\n",
       "      <th>25</th>\n",
       "      <td>734260.0</td>\n",
       "      <td>69</td>\n",
       "      <td>734260</td>\n",
       "      <td>640</td>\n",
       "    </tr>\n",
       "    <tr>\n",
       "      <th>26</th>\n",
       "      <td>734260.0</td>\n",
       "      <td>1104</td>\n",
       "      <td>734260</td>\n",
       "      <td>4600</td>\n",
       "    </tr>\n",
       "    <tr>\n",
       "      <th>27</th>\n",
       "      <td>734260.0</td>\n",
       "      <td>388</td>\n",
       "      <td>734260</td>\n",
       "      <td>266</td>\n",
       "    </tr>\n",
       "    <tr>\n",
       "      <th>28</th>\n",
       "      <td>734260.0</td>\n",
       "      <td>167</td>\n",
       "      <td>734260</td>\n",
       "      <td>762</td>\n",
       "    </tr>\n",
       "    <tr>\n",
       "      <th>29</th>\n",
       "      <td>734260.0</td>\n",
       "      <td>4216</td>\n",
       "      <td>734260</td>\n",
       "      <td>2120</td>\n",
       "    </tr>\n",
       "    <tr>\n",
       "      <th>30</th>\n",
       "      <td>734260.0</td>\n",
       "      <td>4457</td>\n",
       "      <td>734260</td>\n",
       "      <td>2853</td>\n",
       "    </tr>\n",
       "    <tr>\n",
       "      <th>31</th>\n",
       "      <td>734260.0</td>\n",
       "      <td>3096</td>\n",
       "      <td>734260</td>\n",
       "      <td>4170</td>\n",
       "    </tr>\n",
       "    <tr>\n",
       "      <th>32</th>\n",
       "      <td>734260.0</td>\n",
       "      <td>385</td>\n",
       "      <td>734260</td>\n",
       "      <td>4495</td>\n",
       "    </tr>\n",
       "    <tr>\n",
       "      <th>33</th>\n",
       "      <td>734260.0</td>\n",
       "      <td>2850</td>\n",
       "      <td>734260</td>\n",
       "      <td>4219</td>\n",
       "    </tr>\n",
       "    <tr>\n",
       "      <th>34</th>\n",
       "      <td>734260.0</td>\n",
       "      <td>3142</td>\n",
       "      <td>734260</td>\n",
       "      <td>1932</td>\n",
       "    </tr>\n",
       "    <tr>\n",
       "      <th>35</th>\n",
       "      <td>734260.0</td>\n",
       "      <td>4458</td>\n",
       "      <td>734260</td>\n",
       "      <td>1370</td>\n",
       "    </tr>\n",
       "    <tr>\n",
       "      <th>36</th>\n",
       "      <td>734260.0</td>\n",
       "      <td>3275</td>\n",
       "      <td>734260</td>\n",
       "      <td>4260</td>\n",
       "    </tr>\n",
       "    <tr>\n",
       "      <th>37</th>\n",
       "      <td>734260.0</td>\n",
       "      <td>2384</td>\n",
       "      <td>734260</td>\n",
       "      <td>226</td>\n",
       "    </tr>\n",
       "    <tr>\n",
       "      <th>38</th>\n",
       "      <td>734260.0</td>\n",
       "      <td>3531</td>\n",
       "      <td>734260</td>\n",
       "      <td>1392</td>\n",
       "    </tr>\n",
       "    <tr>\n",
       "      <th>39</th>\n",
       "      <td>734260.0</td>\n",
       "      <td>3475</td>\n",
       "      <td>734260</td>\n",
       "      <td>1722</td>\n",
       "    </tr>\n",
       "  </tbody>\n",
       "</table>\n",
       "</div>"
      ],
      "text/plain": [
       "    cheque_id  sku_id  cheque_id  sku_id\n",
       "0    734259.0    3475     734259    1499\n",
       "1    734259.0    2323     734259    1053\n",
       "2    734259.0    1818     734259    1278\n",
       "3    734259.0    1104     734259    3719\n",
       "4    734259.0    3141     734259    3292\n",
       "5    734259.0    2376     734259    1951\n",
       "6    734259.0    3995     734259    3186\n",
       "7    734259.0    4458     734259    3333\n",
       "8    734259.0     388     734259    2921\n",
       "9    734259.0    3863     734259    2194\n",
       "10   734259.0    2571     734259     529\n",
       "11   734259.0    3214     734259    2785\n",
       "12   734259.0    3523     734259    2689\n",
       "13   734259.0    3891     734259    4547\n",
       "14   734259.0    3142     734259     803\n",
       "15   734259.0     385     734259     862\n",
       "16   734259.0    2913     734259    2262\n",
       "17   734259.0    3281     734259    1908\n",
       "18   734259.0    4457     734259     302\n",
       "19   734259.0    2384     734259    5007\n",
       "20   734260.0    3141     734260    4521\n",
       "21   734260.0    2323     734260    2614\n",
       "22   734260.0    3891     734260      59\n",
       "23   734260.0    2913     734260     787\n",
       "24   734260.0    2892     734260     524\n",
       "25   734260.0      69     734260     640\n",
       "26   734260.0    1104     734260    4600\n",
       "27   734260.0     388     734260     266\n",
       "28   734260.0     167     734260     762\n",
       "29   734260.0    4216     734260    2120\n",
       "30   734260.0    4457     734260    2853\n",
       "31   734260.0    3096     734260    4170\n",
       "32   734260.0     385     734260    4495\n",
       "33   734260.0    2850     734260    4219\n",
       "34   734260.0    3142     734260    1932\n",
       "35   734260.0    4458     734260    1370\n",
       "36   734260.0    3275     734260    4260\n",
       "37   734260.0    2384     734260     226\n",
       "38   734260.0    3531     734260    1392\n",
       "39   734260.0    3475     734260    1722"
      ]
     },
     "execution_count": 249,
     "metadata": {},
     "output_type": "execute_result"
    }
   ],
   "source": [
    "pd.concat([result2.iloc[:len(example)].drop('position', axis=1), example.drop('position', axis=1)], axis=1)"
   ]
  },
  {
   "cell_type": "markdown",
   "id": "1fe72ac8-52a2-4e7c-bcf4-d5688ed4d992",
   "metadata": {},
   "source": [
    "## Проверка на метрике Mean Average Precision at 20\n",
    "(Далее пример вычисления метрик на двух чеках из примера)"
   ]
  },
  {
   "cell_type": "code",
   "execution_count": 250,
   "id": "5393bb54-bbe7-4d7b-b783-4b151ced7bb0",
   "metadata": {},
   "outputs": [],
   "source": [
    "def precision_atK(data1, data2, k):\n",
    "    s = 0\n",
    "    for i in range(k):\n",
    "        if data1.iloc[i, 1] ==  data2.iloc[i, 1]:\n",
    "            s += 1\n",
    "    return s/k    "
   ]
  },
  {
   "cell_type": "code",
   "execution_count": 251,
   "id": "c1e9309c-cd42-4ecd-a9d7-560fb1a659fd",
   "metadata": {},
   "outputs": [],
   "source": [
    "def apAtK(data1, data2, k):\n",
    "    s = 0\n",
    "    for i in range(k):\n",
    "        if (data1.iloc[i, 1] ==  data2.iloc[i, 1]):\n",
    "            s += precision_atK(data1, data2, i+1)\n",
    "    \n",
    "    return s/k"
   ]
  },
  {
   "cell_type": "code",
   "execution_count": 253,
   "id": "8f595d10-8176-4faf-b1c5-ed0175a7e1d7",
   "metadata": {},
   "outputs": [
    {
     "data": {
      "text/plain": [
       "0.0"
      ]
     },
     "execution_count": 253,
     "metadata": {},
     "output_type": "execute_result"
    }
   ],
   "source": [
    "apAtK(result2, example, 20)"
   ]
  },
  {
   "cell_type": "code",
   "execution_count": 254,
   "id": "e3c46dd4-12e7-4920-9b7f-70c1f4e3c6f0",
   "metadata": {},
   "outputs": [],
   "source": [
    "def mapAtK(data1, data2, n):\n",
    "    s = 0\n",
    "    l = 0\n",
    "    for i in range(n):\n",
    "        s += apAtK(data1.iloc[l:(i+1)*20], data2.iloc[l:(i+1)*20], 20)\n",
    "        l += 20\n",
    "    return s/n"
   ]
  },
  {
   "cell_type": "code",
   "execution_count": 255,
   "id": "60670d88-5c02-4308-82f0-03685d4114a0",
   "metadata": {},
   "outputs": [
    {
     "data": {
      "text/plain": [
       "0.0"
      ]
     },
     "execution_count": 255,
     "metadata": {},
     "output_type": "execute_result"
    }
   ],
   "source": [
    "mapAtK(result2, example, 2)"
   ]
  },
  {
   "cell_type": "markdown",
   "id": "a2f6309a-81e1-48de-ad1f-3d24011d5b42",
   "metadata": {},
   "source": [
    "Метрики равны 0, так как здесь всего два чека и совпадений на них не обнаружено."
   ]
  },
  {
   "cell_type": "markdown",
   "id": "981ac04a-a5e7-49da-99e6-c00423870fa8",
   "metadata": {},
   "source": [
    "-----\n",
    "# Заключение\n",
    "Таким образом, была построена рекомендательная система для товаров из определенных групп. Модель основана на векторном представлении товаров и дальнейшем поиске близких векторов по косинусному расстоянию. Есть две вариации системы, в первой используется только товар, однако никак не учитываются индивидуальные предпочтения покупателей, поэтому был предложен второй подход, у которого есть две разновидности: \n",
    "\n",
    "        1) основана на усреднении всех покупок данного клиента\n",
    "        2) основана на часто встречающейся категории товаров в истории покупок данного клиента.      \n",
    "Обе разновидности хороши по-своему, однако нельзя точно сказать, где какая сработает лучше."
   ]
  },
  {
   "cell_type": "code",
   "execution_count": null,
   "id": "3c87ac23-7ba2-4911-b905-1dc9708dd92d",
   "metadata": {},
   "outputs": [],
   "source": []
  }
 ],
 "metadata": {
  "kernelspec": {
   "display_name": "Python 3",
   "language": "python",
   "name": "python3"
  },
  "language_info": {
   "codemirror_mode": {
    "name": "ipython",
    "version": 3
   },
   "file_extension": ".py",
   "mimetype": "text/x-python",
   "name": "python",
   "nbconvert_exporter": "python",
   "pygments_lexer": "ipython3",
   "version": "3.8.8"
  }
 },
 "nbformat": 4,
 "nbformat_minor": 5
}
